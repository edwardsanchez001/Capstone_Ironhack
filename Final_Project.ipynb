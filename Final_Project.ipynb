{
  "nbformat": 4,
  "nbformat_minor": 0,
  "metadata": {
    "colab": {
      "name": "Final Project.ipynb",
      "provenance": [],
      "collapsed_sections": [
        "ZTbfHyyyYfLj",
        "K4JhKmCxYjwl",
        "STnYJuw8fFiD"
      ],
      "authorship_tag": "ABX9TyPC2sDyH/u1+jBYnFcJ3hic",
      "include_colab_link": true
    },
    "kernelspec": {
      "name": "python3",
      "display_name": "Python 3"
    },
    "language_info": {
      "name": "python"
    }
  },
  "cells": [
    {
      "cell_type": "markdown",
      "metadata": {
        "id": "view-in-github",
        "colab_type": "text"
      },
      "source": [
        "<a href=\"https://colab.research.google.com/github/edwardsanchez001/Capstone_Ironhack/blob/main/Final_Project.ipynb\" target=\"_parent\"><img src=\"https://colab.research.google.com/assets/colab-badge.svg\" alt=\"Open In Colab\"/></a>"
      ]
    },
    {
      "cell_type": "markdown",
      "metadata": {
        "id": "oVtfbe3MeM1D"
      },
      "source": [
        "### Imports"
      ]
    },
    {
      "cell_type": "code",
      "metadata": {
        "id": "Vv7oyKI_JNp0"
      },
      "source": [
        "\n",
        "\n",
        "import matplotlib.pyplot as plt\n",
        "import matplotlib as mpl\n",
        "#from mpl_toolkits.basemap import Basemap\n",
        "from matplotlib.collections import LineCollection\n",
        "from matplotlib import cm\n",
        "import pandas as pd\n",
        "import numpy as np\n",
        "import matplotlib.dates as mdates\n",
        "import seaborn as sns\n",
        "from datetime import datetime\n",
        "import re\n",
        "from scipy.interpolate import interp1d\n",
        "\n",
        "from scipy.stats import norm\n",
        "import statsmodels.api as sm\n",
        "import requests\n",
        "from io import BytesIO\n",
        "from statsmodels.tsa.stattools import adfuller\n",
        "from statsmodels.tsa.arima_model import ARIMA\n",
        "from statsmodels.tsa.arima_model import ARMA\n",
        "import itertools\n",
        "from statsmodels.tsa.stattools import acf\n",
        "\n",
        "\n",
        "from fbprophet import Prophet\n",
        "\n",
        "from sklearn.metrics import mean_squared_error as mse\n",
        "\n",
        "from fbprophet.plot import plot_plotly, plot_components_plotly\n",
        "from sklearn.preprocessing import StandardScaler\n",
        "from sklearn.model_selection import train_test_split\n",
        "from sklearn.linear_model import LinearRegression\n",
        "from sklearn.metrics import r2_score \n"
      ],
      "execution_count": null,
      "outputs": []
    },
    {
      "cell_type": "code",
      "metadata": {
        "colab": {
          "base_uri": "https://localhost:8080/"
        },
        "id": "zQTHNx19JSok",
        "outputId": "351a276a-8852-4b3a-8a9d-2dcd3f07f1ec"
      },
      "source": [
        "from google.colab import drive\n",
        "\n",
        "drive.mount('/content/drive/')"
      ],
      "execution_count": null,
      "outputs": [
        {
          "output_type": "stream",
          "text": [
            "Drive already mounted at /content/drive/; to attempt to forcibly remount, call drive.mount(\"/content/drive/\", force_remount=True).\n"
          ],
          "name": "stdout"
        }
      ]
    },
    {
      "cell_type": "markdown",
      "metadata": {
        "id": "wdtDw5NDYYXL"
      },
      "source": [
        "### Global % changes\n"
      ]
    },
    {
      "cell_type": "code",
      "metadata": {
        "id": "ONjINZCOKNyR"
      },
      "source": [
        "temperature_Change_Global = pd.read_csv('/content/drive/MyDrive/Ironhack/Final_Project/temperature-anomaly.csv')\n",
        "#temperature_Change_Global"
      ],
      "execution_count": null,
      "outputs": []
    },
    {
      "cell_type": "code",
      "metadata": {
        "id": "neR_NGptfopP"
      },
      "source": [
        "temperature_Change_Global.rename(columns={'Median temperature anomaly from 1961-1990 average': 'Median Temperature Anomaly °C'}, inplace=True)\n",
        "temperature_Change_Global = temperature_Change_Global[temperature_Change_Global['Entity']== 'Global']\n",
        "temperature_Change_Global = temperature_Change_Global.drop(columns='Entity')\n",
        "temperature_Change_Global = temperature_Change_Global.drop(columns='Upper bound (95% CI)')\n",
        "temperature_Change_Global = temperature_Change_Global.drop(columns='Lower bound (95% CI)')\n",
        "temperature_Change_Global = temperature_Change_Global.drop(columns='Code')"
      ],
      "execution_count": null,
      "outputs": []
    },
    {
      "cell_type": "code",
      "metadata": {
        "id": "LdL8L9qqd30A"
      },
      "source": [
        "#temperature_Change_Global.info()"
      ],
      "execution_count": null,
      "outputs": []
    },
    {
      "cell_type": "code",
      "metadata": {
        "id": "qJ2GqTLLTpzx"
      },
      "source": [
        "temperature_Change_Global = temperature_Change_Global.sort_values(by=[\"Year\"], ascending=False)\n",
        "temperature_Change_Global['Year'] = temperature_Change_Global['Year'].astype(str)\n",
        "temperature_Change_Global['Year'] = temperature_Change_Global.apply(lambda x : x['Year']+'0101', axis=1 )\n",
        "temperature_Change_Global['Year'] = temperature_Change_Global['Year'].astype(int)\n",
        "temperature_Change_Global = temperature_Change_Global.set_index('Year')\n",
        "temperature_Change_Global = temperature_Change_Global[temperature_Change_Global.index >= 1900]\n",
        "temperature_Change_Global.index = pd.to_datetime(temperature_Change_Global.index, format='%Y%m%d', errors='ignore')"
      ],
      "execution_count": null,
      "outputs": []
    },
    {
      "cell_type": "code",
      "metadata": {
        "colab": {
          "base_uri": "https://localhost:8080/"
        },
        "id": "hMLGsO_qVAel",
        "outputId": "25244a9d-6099-42b9-df4a-ce85b879bbbf"
      },
      "source": [
        "dftest = adfuller(temperature_Change_Global['Median Temperature Anomaly °C'], autolag=None)\n",
        "dftest"
      ],
      "execution_count": null,
      "outputs": [
        {
          "output_type": "execute_result",
          "data": {
            "text/plain": [
              "(-2.5987585035497016,\n",
              " 0.09325413108681069,\n",
              " 14,\n",
              " 155,\n",
              " {'1%': -3.4732590518613002,\n",
              "  '10%': -2.5768120811654525,\n",
              "  '5%': -2.880374082105334})"
            ]
          },
          "metadata": {
            "tags": []
          },
          "execution_count": 164
        }
      ]
    },
    {
      "cell_type": "code",
      "metadata": {
        "colab": {
          "base_uri": "https://localhost:8080/",
          "height": 296
        },
        "id": "y8lW94phiVsC",
        "outputId": "dab91b94-ccdd-46d1-e508-f6db61f72abc"
      },
      "source": [
        "temperature_Change_Global.plot()"
      ],
      "execution_count": null,
      "outputs": [
        {
          "output_type": "execute_result",
          "data": {
            "text/plain": [
              "<matplotlib.axes._subplots.AxesSubplot at 0x7f6af99c2690>"
            ]
          },
          "metadata": {
            "tags": []
          },
          "execution_count": 165
        },
        {
          "output_type": "display_data",
          "data": {
            "image/png": "[encoded data removed]",
            "text/plain": [
              "<Figure size 432x288 with 1 Axes>"
            ]
          },
          "metadata": {
            "tags": [],
            "needs_background": "light"
          }
        }
      ]
    },
    {
      "cell_type": "code",
      "metadata": {
        "colab": {
          "base_uri": "https://localhost:8080/",
          "height": 315
        },
        "id": "OtXp52Poe1G8",
        "outputId": "1edfe2db-f0e6-4ac5-f7a2-2e9ba05526fc"
      },
      "source": [
        "fig = plt.figure(figsize=[10, 8])\n",
        "decompsition = sm.tsa.seasonal_decompose(temperature_Change_Global['Median Temperature Anomaly °C'], model='additive')\n",
        "fig = decompsition.plot()\n",
        "plt.show()"
      ],
      "execution_count": null,
      "outputs": [
        {
          "output_type": "display_data",
          "data": {
            "text/plain": [
              "<Figure size 720x576 with 0 Axes>"
            ]
          },
          "metadata": {
            "tags": []
          }
        },
        {
          "output_type": "display_data",
          "data": {
            "image/png": "[encoded data removed]",
            "text/plain": [
              "<Figure size 432x288 with 4 Axes>"
            ]
          },
          "metadata": {
            "tags": [],
            "needs_background": "light"
          }
        }
      ]
    },
    {
      "cell_type": "code",
      "metadata": {
        "id": "jNz048oc2yic"
      },
      "source": [
        "temperature_Change_Global = temperature_Change_Global[ temperature_Change_Global.index >= '1970-01-01']"
      ],
      "execution_count": null,
      "outputs": []
    },
    {
      "cell_type": "code",
      "metadata": {
        "colab": {
          "base_uri": "https://localhost:8080/",
          "height": 252
        },
        "id": "H7w2blG73M9j",
        "outputId": "731d5436-6a3e-480d-f611-b0cbf14d4045"
      },
      "source": [
        "temperature_Change_Global.head()"
      ],
      "execution_count": null,
      "outputs": [
        {
          "output_type": "execute_result",
          "data": {
            "text/html": [
              "<div>\n",
              "<style scoped>\n",
              "    .dataframe tbody tr th:only-of-type {\n",
              "        vertical-align: middle;\n",
              "    }\n",
              "\n",
              "    .dataframe tbody tr th {\n",
              "        vertical-align: top;\n",
              "    }\n",
              "\n",
              "    .dataframe thead th {\n",
              "        text-align: right;\n",
              "    }\n",
              "</style>\n",
              "<table border=\"1\" class=\"dataframe\">\n",
              "  <thead>\n",
              "    <tr style=\"text-align: right;\">\n",
              "      <th></th>\n",
              "      <th>Median Temperature Anomaly °C</th>\n",
              "    </tr>\n",
              "    <tr>\n",
              "      <th>Year</th>\n",
              "      <th></th>\n",
              "    </tr>\n",
              "  </thead>\n",
              "  <tbody>\n",
              "    <tr>\n",
              "      <th>2019-01-01</th>\n",
              "      <td>0.736</td>\n",
              "    </tr>\n",
              "    <tr>\n",
              "      <th>2018-01-01</th>\n",
              "      <td>0.597</td>\n",
              "    </tr>\n",
              "    <tr>\n",
              "      <th>2017-01-01</th>\n",
              "      <td>0.677</td>\n",
              "    </tr>\n",
              "    <tr>\n",
              "      <th>2016-01-01</th>\n",
              "      <td>0.797</td>\n",
              "    </tr>\n",
              "    <tr>\n",
              "      <th>2015-01-01</th>\n",
              "      <td>0.763</td>\n",
              "    </tr>\n",
              "  </tbody>\n",
              "</table>\n",
              "</div>"
            ],
            "text/plain": [
              "            Median Temperature Anomaly °C\n",
              "Year                                     \n",
              "2019-01-01                          0.736\n",
              "2018-01-01                          0.597\n",
              "2017-01-01                          0.677\n",
              "2016-01-01                          0.797\n",
              "2015-01-01                          0.763"
            ]
          },
          "metadata": {
            "tags": []
          },
          "execution_count": 168
        }
      ]
    },
    {
      "cell_type": "code",
      "metadata": {
        "id": "LI4U9F7ve0rR"
      },
      "source": [
        "#model = ARIMA(temperature_Change_Global['Median Temperature Anomaly °C'] , order=(1,2,1))  \n",
        "#results_TCG = model.fit(disp=0)\n",
        "#results_TCG.plot_predict(dynamic=False)\n",
        "#plt.show()"
      ],
      "execution_count": null,
      "outputs": []
    },
    {
      "cell_type": "code",
      "metadata": {
        "id": "zeSegWCfDdJS",
        "colab": {
          "base_uri": "https://localhost:8080/"
        },
        "outputId": "63731153-d449-4d77-ee41-8c331c0354f5"
      },
      "source": [
        "\n",
        "# Create Training and Test\n",
        "train = temperature_Change_Global[10:]\n",
        "test = temperature_Change_Global[:10]\n",
        "#Change Name for FB\n",
        "#Chacking if it workes \n",
        "  #train= train.reset_index().rename(columns={'Year':'ds', 'Median Temperature Anomaly °C':'y'})  # rename necesario para Prophet\n",
        "  #test= test.reset_index().rename(columns={'Year':'ds', 'Median Temperature Anomaly °C':'y'})\n",
        "  #modelo=Prophet().fit(train)\n",
        "  #pred=modelo.predict(test)\n",
        "#Actual data\n",
        "train_all= temperature_Change_Global.reset_index().rename(columns={'Year':'ds', 'Median Temperature Anomaly °C':'y'})  # rename necesario para Prophet\n",
        "modelo_all=Prophet().fit(train_all)\n",
        "#Forcasting\n",
        "future = modelo_all.make_future_dataframe(periods=11, freq='YS')\n",
        "forcast = modelo_all.predict(future)\n",
        "#Only want certain dates\n",
        "New_data = forcast[forcast['ds'] >= '2020']\n",
        "#Rename\n",
        "New_data.rename(columns={'ds':'Year'},inplace=True)\n",
        "#Reseting index\n",
        "New_data.set_index('Year', inplace=True)\n",
        "#only want one column\n",
        "data_temp = New_data['yhat']\n",
        "#making into DF\n",
        "data_temp = pd.DataFrame(data_temp)\n",
        "#rename\n",
        "data_temp.rename(columns={'yhat': 'Median Temperature Anomaly °C'}, inplace=True)\n",
        "#flip it \n",
        "data_temp = data_temp.sort_index(ascending=False)\n",
        "#set up for concat\n",
        "data_temp.reset_index(inplace=True)\n",
        "temperature_Change_Global.reset_index(inplace=True)\n",
        "all_dfs = [data_temp, temperature_Change_Global]\n",
        "#concat method\n",
        "for df in all_dfs:\n",
        "    df.columns = ['Year', 'Median Temperature Anomaly °C']\n",
        "\n",
        "temperature_Change_Global_Predictions = pd.concat(all_dfs).reset_index(drop=True)\n",
        "temperature_Change_Global_Predictions.set_index('Year', inplace=True)"
      ],
      "execution_count": null,
      "outputs": [
        {
          "output_type": "stream",
          "text": [
            "INFO:fbprophet:Disabling weekly seasonality. Run prophet with weekly_seasonality=True to override this.\n",
            "INFO:fbprophet:Disabling daily seasonality. Run prophet with daily_seasonality=True to override this.\n",
            "/usr/local/lib/python3.7/dist-packages/pandas/core/frame.py:4308: SettingWithCopyWarning:\n",
            "\n",
            "\n",
            "A value is trying to be set on a copy of a slice from a DataFrame\n",
            "\n",
            "See the caveats in the documentation: https://pandas.pydata.org/pandas-docs/stable/user_guide/indexing.html#returning-a-view-versus-a-copy\n",
            "\n"
          ],
          "name": "stderr"
        }
      ]
    },
    {
      "cell_type": "code",
      "metadata": {
        "id": "7hn5DFsYSaGK"
      },
      "source": [
        "#fig = modelo_all.plot(forcast)"
      ],
      "execution_count": null,
      "outputs": []
    },
    {
      "cell_type": "code",
      "metadata": {
        "id": "tbP-z5VQTi5B"
      },
      "source": [
        "#New_data"
      ],
      "execution_count": null,
      "outputs": []
    },
    {
      "cell_type": "code",
      "metadata": {
        "colab": {
          "base_uri": "https://localhost:8080/",
          "height": 617
        },
        "id": "c9BBcB-gUK9n",
        "outputId": "f84c5541-4622-4c44-e4bd-cd8f28e1462c"
      },
      "source": [
        "plot_plotly(modelo_all, forcast)"
      ],
      "execution_count": null,
      "outputs": [
        {
          "output_type": "display_data",
          "data": {
            "text/html": [
              "<html>\n",
              "<head><meta charset=\"utf-8\" /></head>\n",
              "<body>\n",
              "    <div>\n",
              "            <script src=\"https://cdnjs.cloudflare.com/ajax/libs/mathjax/2.7.5/MathJax.js?config=TeX-AMS-MML_SVG\"></script><script type=\"text/javascript\">if (window.MathJax) {MathJax.Hub.Config({SVG: {font: \"STIX-Web\"}});}</script>\n",
              "                <script type=\"text/javascript\">window.PlotlyConfig = {MathJaxConfig: 'local'};</script>\n",
              "        <script src=\"https://cdn.plot.ly/plotly-latest.min.js\"></script>    \n",
              "            <div id=\"4954175f-939c-4161-8689-e52239349924\" class=\"plotly-graph-div\" style=\"height:600px; width:900px;\"></div>\n",
              "            <script type=\"text/javascript\">\n",
              "                \n",
              "                    window.PLOTLYENV=window.PLOTLYENV || {};\n",
              "                    \n",
              "                if (document.getElementById(\"4954175f-939c-4161-8689-e52239349924\")) {\n",
              "                    Plotly.newPlot(\n",
              "                        '4954175f-939c-4161-8689-e52239349924',\n",
              "                        [{\"marker\": {\"color\": \"black\", \"size\": 4}, \"mode\": \"markers\", \"name\": \"Actual\", \"type\": \"scatter\", \"x\": [\"1970-01-01T00:00:00\", \"1971-01-01T00:00:00\", \"1972-01-01T00:00:00\", \"1973-01-01T00:00:00\", \"1974-01-01T00:00:00\", \"1975-01-01T00:00:00\", \"1976-01-01T00:00:00\", \"1977-01-01T00:00:00\", \"1978-01-01T00:00:00\", \"1979-01-01T00:00:00\", \"1980-01-01T00:00:00\", \"1981-01-01T00:00:00\", \"1982-01-01T00:00:00\", \"1983-01-01T00:00:00\", \"1984-01-01T00:00:00\", \"1985-01-01T00:00:00\", \"1986-01-01T00:00:00\", \"1987-01-01T00:00:00\", \"1988-01-01T00:00:00\", \"1989-01-01T00:00:00\", \"1990-01-01T00:00:00\", \"1991-01-01T00:00:00\", \"1992-01-01T00:00:00\", \"1993-01-01T00:00:00\", \"1994-01-01T00:00:00\", \"1995-01-01T00:00:00\", \"1996-01-01T00:00:00\", \"1997-01-01T00:00:00\", \"1998-01-01T00:00:00\", \"1999-01-01T00:00:00\", \"2000-01-01T00:00:00\", \"2001-01-01T00:00:00\", \"2002-01-01T00:00:00\", \"2003-01-01T00:00:00\", \"2004-01-01T00:00:00\", \"2005-01-01T00:00:00\", \"2006-01-01T00:00:00\", \"2007-01-01T00:00:00\", \"2008-01-01T00:00:00\", \"2009-01-01T00:00:00\", \"2010-01-01T00:00:00\", \"2011-01-01T00:00:00\", \"2012-01-01T00:00:00\", \"2013-01-01T00:00:00\", \"2014-01-01T00:00:00\", \"2015-01-01T00:00:00\", \"2016-01-01T00:00:00\", \"2017-01-01T00:00:00\", \"2018-01-01T00:00:00\", \"2019-01-01T00:00:00\"], \"y\": [-0.027000000000000003, -0.18600000000000003, -0.065, 0.062, -0.214, -0.149, -0.24100000000000002, 0.047, -0.062, 0.057, 0.092, 0.14, 0.011000000000000001, 0.19399999999999998, -0.013999999999999999, -0.03, 0.045, 0.192, 0.198, 0.11800000000000001, 0.29600000000000004, 0.254, 0.105, 0.14800000000000002, 0.20800000000000002, 0.325, 0.183, 0.39, 0.539, 0.306, 0.294, 0.441, 0.496, 0.505, 0.447, 0.545, 0.506, 0.491, 0.395, 0.506, 0.56, 0.425, 0.47, 0.514, 0.579, 0.763, 0.797, 0.677, 0.597, 0.736]}, {\"hoverinfo\": \"skip\", \"line\": {\"width\": 0}, \"mode\": \"lines\", \"type\": \"scatter\", \"x\": [\"1970-01-01T00:00:00\", \"1971-01-01T00:00:00\", \"1972-01-01T00:00:00\", \"1973-01-01T00:00:00\", \"1974-01-01T00:00:00\", \"1975-01-01T00:00:00\", \"1976-01-01T00:00:00\", \"1977-01-01T00:00:00\", \"1978-01-01T00:00:00\", \"1979-01-01T00:00:00\", \"1980-01-01T00:00:00\", \"1981-01-01T00:00:00\", \"1982-01-01T00:00:00\", \"1983-01-01T00:00:00\", \"1984-01-01T00:00:00\", \"1985-01-01T00:00:00\", \"1986-01-01T00:00:00\", \"1987-01-01T00:00:00\", \"1988-01-01T00:00:00\", \"1989-01-01T00:00:00\", \"1990-01-01T00:00:00\", \"1991-01-01T00:00:00\", \"1992-01-01T00:00:00\", \"1993-01-01T00:00:00\", \"1994-01-01T00:00:00\", \"1995-01-01T00:00:00\", \"1996-01-01T00:00:00\", \"1997-01-01T00:00:00\", \"1998-01-01T00:00:00\", \"1999-01-01T00:00:00\", \"2000-01-01T00:00:00\", \"2001-01-01T00:00:00\", \"2002-01-01T00:00:00\", \"2003-01-01T00:00:00\", \"2004-01-01T00:00:00\", \"2005-01-01T00:00:00\", \"2006-01-01T00:00:00\", \"2007-01-01T00:00:00\", \"2008-01-01T00:00:00\", \"2009-01-01T00:00:00\", \"2010-01-01T00:00:00\", \"2011-01-01T00:00:00\", \"2012-01-01T00:00:00\", \"2013-01-01T00:00:00\", \"2014-01-01T00:00:00\", \"2015-01-01T00:00:00\", \"2016-01-01T00:00:00\", \"2017-01-01T00:00:00\", \"2018-01-01T00:00:00\", \"2019-01-01T00:00:00\", \"2020-01-01T00:00:00\", \"2021-01-01T00:00:00\", \"2022-01-01T00:00:00\", \"2023-01-01T00:00:00\", \"2024-01-01T00:00:00\", \"2025-01-01T00:00:00\", \"2026-01-01T00:00:00\", \"2027-01-01T00:00:00\", \"2028-01-01T00:00:00\", \"2029-01-01T00:00:00\", \"2030-01-01T00:00:00\"], \"y\": [-0.25842386348341795, -0.2587920007036768, -0.263966362872402, -0.19907851544882954, -0.19479437212363376, -0.1930471399834884, -0.19002207086518674, -0.13091092587091638, -0.11820639417263015, -0.11932317661215752, -0.12042680786384083, -0.06126677696366778, -0.05159753446077584, -0.04663961060920645, -0.052703932071489, 0.01800583562568062, 0.016024522894476912, 0.019122604495655764, 0.01955523587786681, 0.0855110483555766, 0.09003233023037908, 0.08662913153787226, 0.0858675996385328, 0.16210440687155678, 0.15742867788473525, 0.1591417991821429, 0.15881201943256748, 0.22074593185849914, 0.22716351249294947, 0.2348575243613538, 0.23566204201712865, 0.2863501659970068, 0.29596971264214944, 0.29206133334286744, 0.29578291190847505, 0.3489650185901171, 0.3649219240996192, 0.3655051041725217, 0.36207107966755797, 0.4310438423278325, 0.44701300072253836, 0.44399710879867615, 0.4317525053079952, 0.5099141044036415, 0.5076216892696431, 0.5049401350080505, 0.5011184525387341, 0.573382300967656, 0.5767675915577458, 0.5724610813241235, 0.561870825297836, 0.6385191301727001, 0.6464710516093675, 0.6407019213029206, 0.640612182862621, 0.7117522403197178, 0.7131268853523333, 0.7238697629754487, 0.7046462334974304, 0.773599417398885, 0.7839465531188021]}, {\"fill\": \"tonexty\", \"fillcolor\": \"rgba(0, 114, 178, 0.2)\", \"line\": {\"color\": \"#0072B2\", \"width\": 2}, \"mode\": \"lines\", \"name\": \"Predicted\", \"type\": \"scatter\", \"x\": [\"1970-01-01T00:00:00\", \"1971-01-01T00:00:00\", \"1972-01-01T00:00:00\", \"1973-01-01T00:00:00\", \"1974-01-01T00:00:00\", \"1975-01-01T00:00:00\", \"1976-01-01T00:00:00\", \"1977-01-01T00:00:00\", \"1978-01-01T00:00:00\", \"1979-01-01T00:00:00\", \"1980-01-01T00:00:00\", \"1981-01-01T00:00:00\", \"1982-01-01T00:00:00\", \"1983-01-01T00:00:00\", \"1984-01-01T00:00:00\", \"1985-01-01T00:00:00\", \"1986-01-01T00:00:00\", \"1987-01-01T00:00:00\", \"1988-01-01T00:00:00\", \"1989-01-01T00:00:00\", \"1990-01-01T00:00:00\", \"1991-01-01T00:00:00\", \"1992-01-01T00:00:00\", \"1993-01-01T00:00:00\", \"1994-01-01T00:00:00\", \"1995-01-01T00:00:00\", \"1996-01-01T00:00:00\", \"1997-01-01T00:00:00\", \"1998-01-01T00:00:00\", \"1999-01-01T00:00:00\", \"2000-01-01T00:00:00\", \"2001-01-01T00:00:00\", \"2002-01-01T00:00:00\", \"2003-01-01T00:00:00\", \"2004-01-01T00:00:00\", \"2005-01-01T00:00:00\", \"2006-01-01T00:00:00\", \"2007-01-01T00:00:00\", \"2008-01-01T00:00:00\", \"2009-01-01T00:00:00\", \"2010-01-01T00:00:00\", \"2011-01-01T00:00:00\", \"2012-01-01T00:00:00\", \"2013-01-01T00:00:00\", \"2014-01-01T00:00:00\", \"2015-01-01T00:00:00\", \"2016-01-01T00:00:00\", \"2017-01-01T00:00:00\", \"2018-01-01T00:00:00\", \"2019-01-01T00:00:00\", \"2020-01-01T00:00:00\", \"2021-01-01T00:00:00\", \"2022-01-01T00:00:00\", \"2023-01-01T00:00:00\", \"2024-01-01T00:00:00\", \"2025-01-01T00:00:00\", \"2026-01-01T00:00:00\", \"2027-01-01T00:00:00\", \"2028-01-01T00:00:00\", \"2029-01-01T00:00:00\", \"2030-01-01T00:00:00\"], \"y\": [-0.14143782445710038, -0.13984627861922258, -0.14533393216046556, -0.0805637823351302, -0.07187473077501544, -0.07028318492140154, -0.07577083845509916, -0.011000688629888844, -0.002311637080897294, -0.0007200912456044317, -0.006207744778430835, 0.05856240505061139, 0.06725145660991966, 0.06884300247182393, 0.06335534895463775, 0.12812549879166718, 0.13681455035242307, 0.138406096200837, 0.13291844266946548, 0.1976885925000235, 0.2063776440499821, 0.2079691914976102, 0.20248153956611312, 0.2672516909983045, 0.27594074414566594, 0.2775322915865661, 0.27204463965384507, 0.3368147910875543, 0.34550384424641867, 0.3470953917091406, 0.341607739792569, 0.4063778912305411, 0.4150669443876426, 0.4166584918382409, 0.4111708399007744, 0.47594099132636536, 0.4846300444714389, 0.4862215919134177, 0.4807339399865298, 0.545504091426017, 0.5541931445792552, 0.5557846920259694, 0.5502970400936052, 0.6150671915275158, 0.6237562446807323, 0.6253477921274895, 0.6198601401951289, 0.6846302916290514, 0.6933193447822898, 0.6949108922289856, 0.6894232402966964, 0.7541933917305836, 0.7628824448837952, 0.7644739923305552, 0.7589863403981155, 0.8237564918320598, 0.8324455449853074, 0.8340370924320032, 0.828549440499746, 0.8933195919336182, 0.9020086450869029]}, {\"fill\": \"tonexty\", \"fillcolor\": \"rgba(0, 114, 178, 0.2)\", \"hoverinfo\": \"skip\", \"line\": {\"width\": 0}, \"mode\": \"lines\", \"type\": \"scatter\", \"x\": [\"1970-01-01T00:00:00\", \"1971-01-01T00:00:00\", \"1972-01-01T00:00:00\", \"1973-01-01T00:00:00\", \"1974-01-01T00:00:00\", \"1975-01-01T00:00:00\", \"1976-01-01T00:00:00\", \"1977-01-01T00:00:00\", \"1978-01-01T00:00:00\", \"1979-01-01T00:00:00\", \"1980-01-01T00:00:00\", \"1981-01-01T00:00:00\", \"1982-01-01T00:00:00\", \"1983-01-01T00:00:00\", \"1984-01-01T00:00:00\", \"1985-01-01T00:00:00\", \"1986-01-01T00:00:00\", \"1987-01-01T00:00:00\", \"1988-01-01T00:00:00\", \"1989-01-01T00:00:00\", \"1990-01-01T00:00:00\", \"1991-01-01T00:00:00\", \"1992-01-01T00:00:00\", \"1993-01-01T00:00:00\", \"1994-01-01T00:00:00\", \"1995-01-01T00:00:00\", \"1996-01-01T00:00:00\", \"1997-01-01T00:00:00\", \"1998-01-01T00:00:00\", \"1999-01-01T00:00:00\", \"2000-01-01T00:00:00\", \"2001-01-01T00:00:00\", \"2002-01-01T00:00:00\", \"2003-01-01T00:00:00\", \"2004-01-01T00:00:00\", \"2005-01-01T00:00:00\", \"2006-01-01T00:00:00\", \"2007-01-01T00:00:00\", \"2008-01-01T00:00:00\", \"2009-01-01T00:00:00\", \"2010-01-01T00:00:00\", \"2011-01-01T00:00:00\", \"2012-01-01T00:00:00\", \"2013-01-01T00:00:00\", \"2014-01-01T00:00:00\", \"2015-01-01T00:00:00\", \"2016-01-01T00:00:00\", \"2017-01-01T00:00:00\", \"2018-01-01T00:00:00\", \"2019-01-01T00:00:00\", \"2020-01-01T00:00:00\", \"2021-01-01T00:00:00\", \"2022-01-01T00:00:00\", \"2023-01-01T00:00:00\", \"2024-01-01T00:00:00\", \"2025-01-01T00:00:00\", \"2026-01-01T00:00:00\", \"2027-01-01T00:00:00\", \"2028-01-01T00:00:00\", \"2029-01-01T00:00:00\", \"2030-01-01T00:00:00\"], \"y\": [-0.02909325539855002, -0.031704825910007416, -0.036714486632159406, 0.030953538939110944, 0.04673382994234158, 0.054706259458363306, 0.0454882607158069, 0.1111642961148567, 0.1171289879988286, 0.11586708011809764, 0.11116499885617073, 0.16928192615809723, 0.18182177989014958, 0.1923281142187762, 0.17881950664699622, 0.23863852433280192, 0.2564722921766755, 0.2563004676170648, 0.25150430723350414, 0.3135690339300479, 0.3234209063448191, 0.32959674974009945, 0.3177683173705578, 0.3808153688358705, 0.3913296537688191, 0.39496079307781473, 0.38967301254568953, 0.45136889765709165, 0.45951400873327786, 0.46128562013308194, 0.4565233853414439, 0.5193829656479695, 0.5365178639917235, 0.5375829754749271, 0.5325992824319411, 0.5949328062365624, 0.5959833211152138, 0.5928075020330036, 0.606125168166578, 0.6667987869773158, 0.667978688584225, 0.6736890541083698, 0.6682894014330873, 0.7258857042259786, 0.7442191628627701, 0.7409811676291563, 0.7353117427623035, 0.7921879272763905, 0.8064550260448264, 0.8177926772138014, 0.7999901963578087, 0.8778263341990435, 0.8827089334145457, 0.8841167471231294, 0.8748164635255418, 0.9399757082427482, 0.9465034033601878, 0.9458820711270538, 0.9414072136672647, 1.0123855772291237, 1.0136320873289517]}],\n",
              "                        {\"height\": 600, \"showlegend\": false, \"template\": {\"data\": {\"bar\": [{\"error_x\": {\"color\": \"#2a3f5f\"}, \"error_y\": {\"color\": \"#2a3f5f\"}, \"marker\": {\"line\": {\"color\": \"#E5ECF6\", \"width\": 0.5}}, \"type\": \"bar\"}], \"barpolar\": [{\"marker\": {\"line\": {\"color\": \"#E5ECF6\", \"width\": 0.5}}, \"type\": \"barpolar\"}], \"carpet\": [{\"aaxis\": {\"endlinecolor\": \"#2a3f5f\", \"gridcolor\": \"white\", \"linecolor\": \"white\", \"minorgridcolor\": \"white\", \"startlinecolor\": \"#2a3f5f\"}, \"baxis\": {\"endlinecolor\": \"#2a3f5f\", \"gridcolor\": \"white\", \"linecolor\": \"white\", \"minorgridcolor\": \"white\", \"startlinecolor\": \"#2a3f5f\"}, \"type\": \"carpet\"}], \"choropleth\": [{\"colorbar\": {\"outlinewidth\": 0, \"ticks\": \"\"}, \"type\": \"choropleth\"}], \"contour\": [{\"colorbar\": {\"outlinewidth\": 0, \"ticks\": \"\"}, \"colorscale\": [[0.0, \"#0d0887\"], [0.1111111111111111, \"#46039f\"], [0.2222222222222222, \"#7201a8\"], [0.3333333333333333, \"#9c179e\"], [0.4444444444444444, \"#bd3786\"], [0.5555555555555556, \"#d8576b\"], [0.6666666666666666, \"#ed7953\"], [0.7777777777777778, \"#fb9f3a\"], [0.8888888888888888, \"#fdca26\"], [1.0, \"#f0f921\"]], \"type\": \"contour\"}], \"contourcarpet\": [{\"colorbar\": {\"outlinewidth\": 0, \"ticks\": \"\"}, \"type\": \"contourcarpet\"}], \"heatmap\": [{\"colorbar\": {\"outlinewidth\": 0, \"ticks\": \"\"}, \"colorscale\": [[0.0, \"#0d0887\"], [0.1111111111111111, \"#46039f\"], [0.2222222222222222, \"#7201a8\"], [0.3333333333333333, \"#9c179e\"], [0.4444444444444444, \"#bd3786\"], [0.5555555555555556, \"#d8576b\"], [0.6666666666666666, \"#ed7953\"], [0.7777777777777778, \"#fb9f3a\"], [0.8888888888888888, \"#fdca26\"], [1.0, \"#f0f921\"]], \"type\": \"heatmap\"}], \"heatmapgl\": [{\"colorbar\": {\"outlinewidth\": 0, \"ticks\": \"\"}, \"colorscale\": [[0.0, \"#0d0887\"], [0.1111111111111111, \"#46039f\"], [0.2222222222222222, \"#7201a8\"], [0.3333333333333333, \"#9c179e\"], [0.4444444444444444, \"#bd3786\"], [0.5555555555555556, \"#d8576b\"], [0.6666666666666666, \"#ed7953\"], [0.7777777777777778, \"#fb9f3a\"], [0.8888888888888888, \"#fdca26\"], [1.0, \"#f0f921\"]], \"type\": \"heatmapgl\"}], \"histogram\": [{\"marker\": {\"colorbar\": {\"outlinewidth\": 0, \"ticks\": \"\"}}, \"type\": \"histogram\"}], \"histogram2d\": [{\"colorbar\": {\"outlinewidth\": 0, \"ticks\": \"\"}, \"colorscale\": [[0.0, \"#0d0887\"], [0.1111111111111111, \"#46039f\"], [0.2222222222222222, \"#7201a8\"], [0.3333333333333333, \"#9c179e\"], [0.4444444444444444, \"#bd3786\"], [0.5555555555555556, \"#d8576b\"], [0.6666666666666666, \"#ed7953\"], [0.7777777777777778, \"#fb9f3a\"], [0.8888888888888888, \"#fdca26\"], [1.0, \"#f0f921\"]], \"type\": \"histogram2d\"}], \"histogram2dcontour\": [{\"colorbar\": {\"outlinewidth\": 0, \"ticks\": \"\"}, \"colorscale\": [[0.0, \"#0d0887\"], [0.1111111111111111, \"#46039f\"], [0.2222222222222222, \"#7201a8\"], [0.3333333333333333, \"#9c179e\"], [0.4444444444444444, \"#bd3786\"], [0.5555555555555556, \"#d8576b\"], [0.6666666666666666, \"#ed7953\"], [0.7777777777777778, \"#fb9f3a\"], [0.8888888888888888, \"#fdca26\"], [1.0, \"#f0f921\"]], \"type\": \"histogram2dcontour\"}], \"mesh3d\": [{\"colorbar\": {\"outlinewidth\": 0, \"ticks\": \"\"}, \"type\": \"mesh3d\"}], \"parcoords\": [{\"line\": {\"colorbar\": {\"outlinewidth\": 0, \"ticks\": \"\"}}, \"type\": \"parcoords\"}], \"pie\": [{\"automargin\": true, \"type\": \"pie\"}], \"scatter\": [{\"marker\": {\"colorbar\": {\"outlinewidth\": 0, \"ticks\": \"\"}}, \"type\": \"scatter\"}], \"scatter3d\": [{\"line\": {\"colorbar\": {\"outlinewidth\": 0, \"ticks\": \"\"}}, \"marker\": {\"colorbar\": {\"outlinewidth\": 0, \"ticks\": \"\"}}, \"type\": \"scatter3d\"}], \"scattercarpet\": [{\"marker\": {\"colorbar\": {\"outlinewidth\": 0, \"ticks\": \"\"}}, \"type\": \"scattercarpet\"}], \"scattergeo\": [{\"marker\": {\"colorbar\": {\"outlinewidth\": 0, \"ticks\": \"\"}}, \"type\": \"scattergeo\"}], \"scattergl\": [{\"marker\": {\"colorbar\": {\"outlinewidth\": 0, \"ticks\": \"\"}}, \"type\": \"scattergl\"}], \"scattermapbox\": [{\"marker\": {\"colorbar\": {\"outlinewidth\": 0, \"ticks\": \"\"}}, \"type\": \"scattermapbox\"}], \"scatterpolar\": [{\"marker\": {\"colorbar\": {\"outlinewidth\": 0, \"ticks\": \"\"}}, \"type\": \"scatterpolar\"}], \"scatterpolargl\": [{\"marker\": {\"colorbar\": {\"outlinewidth\": 0, \"ticks\": \"\"}}, \"type\": \"scatterpolargl\"}], \"scatterternary\": [{\"marker\": {\"colorbar\": {\"outlinewidth\": 0, \"ticks\": \"\"}}, \"type\": \"scatterternary\"}], \"surface\": [{\"colorbar\": {\"outlinewidth\": 0, \"ticks\": \"\"}, \"colorscale\": [[0.0, \"#0d0887\"], [0.1111111111111111, \"#46039f\"], [0.2222222222222222, \"#7201a8\"], [0.3333333333333333, \"#9c179e\"], [0.4444444444444444, \"#bd3786\"], [0.5555555555555556, \"#d8576b\"], [0.6666666666666666, \"#ed7953\"], [0.7777777777777778, \"#fb9f3a\"], [0.8888888888888888, \"#fdca26\"], [1.0, \"#f0f921\"]], \"type\": \"surface\"}], \"table\": [{\"cells\": {\"fill\": {\"color\": \"#EBF0F8\"}, \"line\": {\"color\": \"white\"}}, \"header\": {\"fill\": {\"color\": \"#C8D4E3\"}, \"line\": {\"color\": \"white\"}}, \"type\": \"table\"}]}, \"layout\": {\"annotationdefaults\": {\"arrowcolor\": \"#2a3f5f\", \"arrowhead\": 0, \"arrowwidth\": 1}, \"coloraxis\": {\"colorbar\": {\"outlinewidth\": 0, \"ticks\": \"\"}}, \"colorscale\": {\"diverging\": [[0, \"#8e0152\"], [0.1, \"#c51b7d\"], [0.2, \"#de77ae\"], [0.3, \"#f1b6da\"], [0.4, \"#fde0ef\"], [0.5, \"#f7f7f7\"], [0.6, \"#e6f5d0\"], [0.7, \"#b8e186\"], [0.8, \"#7fbc41\"], [0.9, \"#4d9221\"], [1, \"#276419\"]], \"sequential\": [[0.0, \"#0d0887\"], [0.1111111111111111, \"#46039f\"], [0.2222222222222222, \"#7201a8\"], [0.3333333333333333, \"#9c179e\"], [0.4444444444444444, \"#bd3786\"], [0.5555555555555556, \"#d8576b\"], [0.6666666666666666, \"#ed7953\"], [0.7777777777777778, \"#fb9f3a\"], [0.8888888888888888, \"#fdca26\"], [1.0, \"#f0f921\"]], \"sequentialminus\": [[0.0, \"#0d0887\"], [0.1111111111111111, \"#46039f\"], [0.2222222222222222, \"#7201a8\"], [0.3333333333333333, \"#9c179e\"], [0.4444444444444444, \"#bd3786\"], [0.5555555555555556, \"#d8576b\"], [0.6666666666666666, \"#ed7953\"], [0.7777777777777778, \"#fb9f3a\"], [0.8888888888888888, \"#fdca26\"], [1.0, \"#f0f921\"]]}, \"colorway\": [\"#636efa\", \"#EF553B\", \"#00cc96\", \"#ab63fa\", \"#FFA15A\", \"#19d3f3\", \"#FF6692\", \"#B6E880\", \"#FF97FF\", \"#FECB52\"], \"font\": {\"color\": \"#2a3f5f\"}, \"geo\": {\"bgcolor\": \"white\", \"lakecolor\": \"white\", \"landcolor\": \"#E5ECF6\", \"showlakes\": true, \"showland\": true, \"subunitcolor\": \"white\"}, \"hoverlabel\": {\"align\": \"left\"}, \"hovermode\": \"closest\", \"mapbox\": {\"style\": \"light\"}, \"paper_bgcolor\": \"white\", \"plot_bgcolor\": \"#E5ECF6\", \"polar\": {\"angularaxis\": {\"gridcolor\": \"white\", \"linecolor\": \"white\", \"ticks\": \"\"}, \"bgcolor\": \"#E5ECF6\", \"radialaxis\": {\"gridcolor\": \"white\", \"linecolor\": \"white\", \"ticks\": \"\"}}, \"scene\": {\"xaxis\": {\"backgroundcolor\": \"#E5ECF6\", \"gridcolor\": \"white\", \"gridwidth\": 2, \"linecolor\": \"white\", \"showbackground\": true, \"ticks\": \"\", \"zerolinecolor\": \"white\"}, \"yaxis\": {\"backgroundcolor\": \"#E5ECF6\", \"gridcolor\": \"white\", \"gridwidth\": 2, \"linecolor\": \"white\", \"showbackground\": true, \"ticks\": \"\", \"zerolinecolor\": \"white\"}, \"zaxis\": {\"backgroundcolor\": \"#E5ECF6\", \"gridcolor\": \"white\", \"gridwidth\": 2, \"linecolor\": \"white\", \"showbackground\": true, \"ticks\": \"\", \"zerolinecolor\": \"white\"}}, \"shapedefaults\": {\"line\": {\"color\": \"#2a3f5f\"}}, \"ternary\": {\"aaxis\": {\"gridcolor\": \"white\", \"linecolor\": \"white\", \"ticks\": \"\"}, \"baxis\": {\"gridcolor\": \"white\", \"linecolor\": \"white\", \"ticks\": \"\"}, \"bgcolor\": \"#E5ECF6\", \"caxis\": {\"gridcolor\": \"white\", \"linecolor\": \"white\", \"ticks\": \"\"}}, \"title\": {\"x\": 0.05}, \"xaxis\": {\"automargin\": true, \"gridcolor\": \"white\", \"linecolor\": \"white\", \"ticks\": \"\", \"title\": {\"standoff\": 15}, \"zerolinecolor\": \"white\", \"zerolinewidth\": 2}, \"yaxis\": {\"automargin\": true, \"gridcolor\": \"white\", \"linecolor\": \"white\", \"ticks\": \"\", \"title\": {\"standoff\": 15}, \"zerolinecolor\": \"white\", \"zerolinewidth\": 2}}}, \"width\": 900, \"xaxis\": {\"rangeselector\": {\"buttons\": [{\"count\": 7, \"label\": \"1w\", \"step\": \"day\", \"stepmode\": \"backward\"}, {\"count\": 1, \"label\": \"1m\", \"step\": \"month\", \"stepmode\": \"backward\"}, {\"count\": 6, \"label\": \"6m\", \"step\": \"month\", \"stepmode\": \"backward\"}, {\"count\": 1, \"label\": \"1y\", \"step\": \"year\", \"stepmode\": \"backward\"}, {\"step\": \"all\"}]}, \"rangeslider\": {\"visible\": true}, \"title\": {\"text\": \"ds\"}, \"type\": \"date\"}, \"yaxis\": {\"title\": {\"text\": \"y\"}}},\n",
              "                        {\"responsive\": true}\n",
              "                    ).then(function(){\n",
              "                            \n",
              "var gd = document.getElementById('4954175f-939c-4161-8689-e52239349924');\n",
              "var x = new MutationObserver(function (mutations, observer) {{\n",
              "        var display = window.getComputedStyle(gd).display;\n",
              "        if (!display || display === 'none') {{\n",
              "            console.log([gd, 'removed!']);\n",
              "            Plotly.purge(gd);\n",
              "            observer.disconnect();\n",
              "        }}\n",
              "}});\n",
              "\n",
              "// Listen for the removal of the full notebook cells\n",
              "var notebookContainer = gd.closest('#notebook-container');\n",
              "if (notebookContainer) {{\n",
              "    x.observe(notebookContainer, {childList: true});\n",
              "}}\n",
              "\n",
              "// Listen for the clearing of the current output cell\n",
              "var outputEl = gd.closest('.output');\n",
              "if (outputEl) {{\n",
              "    x.observe(outputEl, {childList: true});\n",
              "}}\n",
              "\n",
              "                        })\n",
              "                };\n",
              "                \n",
              "            </script>\n",
              "        </div>\n",
              "</body>\n",
              "</html>"
            ]
          },
          "metadata": {
            "tags": []
          }
        }
      ]
    },
    {
      "cell_type": "code",
      "metadata": {
        "id": "hZWRSR5BxUXP"
      },
      "source": [
        ""
      ],
      "execution_count": null,
      "outputs": []
    },
    {
      "cell_type": "code",
      "metadata": {
        "id": "XIIeTFmhxRul"
      },
      "source": [
        "#New_data.head()"
      ],
      "execution_count": null,
      "outputs": []
    },
    {
      "cell_type": "code",
      "metadata": {
        "id": "tmB2jN0wLRAL"
      },
      "source": [
        "#f, ax=plt.subplots(1)\n",
        "#f.set_figheight(5)\n",
        "#f.set_figwidth(15)\n",
        "#ax.scatter(test.ds, test.y, color='r')\n",
        "#fig=modelo.plot(pred, ax=ax)"
      ],
      "execution_count": null,
      "outputs": []
    },
    {
      "cell_type": "code",
      "metadata": {
        "id": "4JZA6t9nzpHR"
      },
      "source": [
        "#ata_temp"
      ],
      "execution_count": null,
      "outputs": []
    },
    {
      "cell_type": "code",
      "metadata": {
        "id": "Up2nP7gyzsBf"
      },
      "source": [
        "#temperature_Change_Global.head()"
      ],
      "execution_count": null,
      "outputs": []
    },
    {
      "cell_type": "code",
      "metadata": {
        "colab": {
          "base_uri": "https://localhost:8080/",
          "height": 252
        },
        "id": "CYTpZukb06ug",
        "outputId": "e45c0159-2e62-44dc-9815-cdbee9c7cfda"
      },
      "source": [
        "temperature_Change_Global_Predictions.head()"
      ],
      "execution_count": null,
      "outputs": [
        {
          "output_type": "execute_result",
          "data": {
            "text/html": [
              "<div>\n",
              "<style scoped>\n",
              "    .dataframe tbody tr th:only-of-type {\n",
              "        vertical-align: middle;\n",
              "    }\n",
              "\n",
              "    .dataframe tbody tr th {\n",
              "        vertical-align: top;\n",
              "    }\n",
              "\n",
              "    .dataframe thead th {\n",
              "        text-align: right;\n",
              "    }\n",
              "</style>\n",
              "<table border=\"1\" class=\"dataframe\">\n",
              "  <thead>\n",
              "    <tr style=\"text-align: right;\">\n",
              "      <th></th>\n",
              "      <th>Median Temperature Anomaly °C</th>\n",
              "    </tr>\n",
              "    <tr>\n",
              "      <th>Year</th>\n",
              "      <th></th>\n",
              "    </tr>\n",
              "  </thead>\n",
              "  <tbody>\n",
              "    <tr>\n",
              "      <th>2030-01-01</th>\n",
              "      <td>0.902009</td>\n",
              "    </tr>\n",
              "    <tr>\n",
              "      <th>2029-01-01</th>\n",
              "      <td>0.893320</td>\n",
              "    </tr>\n",
              "    <tr>\n",
              "      <th>2028-01-01</th>\n",
              "      <td>0.828549</td>\n",
              "    </tr>\n",
              "    <tr>\n",
              "      <th>2027-01-01</th>\n",
              "      <td>0.834037</td>\n",
              "    </tr>\n",
              "    <tr>\n",
              "      <th>2026-01-01</th>\n",
              "      <td>0.832446</td>\n",
              "    </tr>\n",
              "  </tbody>\n",
              "</table>\n",
              "</div>"
            ],
            "text/plain": [
              "            Median Temperature Anomaly °C\n",
              "Year                                     \n",
              "2030-01-01                       0.902009\n",
              "2029-01-01                       0.893320\n",
              "2028-01-01                       0.828549\n",
              "2027-01-01                       0.834037\n",
              "2026-01-01                       0.832446"
            ]
          },
          "metadata": {
            "tags": []
          },
          "execution_count": 178
        }
      ]
    },
    {
      "cell_type": "markdown",
      "metadata": {
        "id": "ZTbfHyyyYfLj"
      },
      "source": [
        "### California Drought Data"
      ]
    },
    {
      "cell_type": "code",
      "metadata": {
        "id": "zWA8MBJdKyS8"
      },
      "source": [
        "california_drought = pd.read_csv('/content/drive/MyDrive/Ironhack/Project_Viz/CA.csv')\n",
        "#california_drought.head()"
      ],
      "execution_count": null,
      "outputs": []
    },
    {
      "cell_type": "code",
      "metadata": {
        "id": "ewSPcSC3eGOq"
      },
      "source": [
        "california_drought = california_drought.drop(columns='StatisticFormatID')\n",
        "california_drought = california_drought.drop(columns='ValidStart')\n",
        "california_drought = california_drought.drop(columns='ValidEnd')\n",
        "california_drought = california_drought.drop(columns='None')\n",
        "california_drought = california_drought.drop(columns='StateAbbreviation')\n",
        "california_drought.rename(columns={'MapDate': 'Year'}, inplace=True)"
      ],
      "execution_count": null,
      "outputs": []
    },
    {
      "cell_type": "code",
      "metadata": {
        "id": "3ohhMAs3eCqh"
      },
      "source": [
        "#california_drought.info()"
      ],
      "execution_count": null,
      "outputs": []
    },
    {
      "cell_type": "code",
      "metadata": {
        "id": "WmjuSGZLGW2Z"
      },
      "source": [
        "california_drought = california_drought.set_index('Year')\n",
        "california_drought.replace(',','', regex=True, inplace=True)\n",
        "california_drought = california_drought.astype(float)\n",
        "california_drought.index = pd.to_datetime(california_drought.index, format='%Y%m%d', errors='ignore')\n",
        "california_drought_Year = california_drought.resample('YS').mean()   # Year Start\n",
        "california_drought_Year = california_drought_Year.sort_index(ascending=False)"
      ],
      "execution_count": null,
      "outputs": []
    },
    {
      "cell_type": "code",
      "metadata": {
        "id": "ilH0a3HdJz01"
      },
      "source": [
        "#california_drought_Year.index = pd.DatetimeIndex(california_drought_Year.index).year"
      ],
      "execution_count": null,
      "outputs": []
    },
    {
      "cell_type": "code",
      "metadata": {
        "id": "DiAeY_ymP5aB"
      },
      "source": [
        "cols = ['D0', 'D1', 'D2', 'D3', 'D4']\n",
        "california_drought_Year[cols] = california_drought_Year[cols].applymap(np.int64)"
      ],
      "execution_count": null,
      "outputs": []
    },
    {
      "cell_type": "code",
      "metadata": {
        "id": "lUVheCLJhxBN"
      },
      "source": [
        "#california_drought_Year.head()"
      ],
      "execution_count": null,
      "outputs": []
    },
    {
      "cell_type": "code",
      "metadata": {
        "colab": {
          "base_uri": "https://localhost:8080/",
          "height": 296
        },
        "id": "4rr76C_XiFKk",
        "outputId": "0f3fd7c8-760b-4cbd-f2e4-e311aab87e40"
      },
      "source": [
        "california_drought_Year.plot()"
      ],
      "execution_count": null,
      "outputs": [
        {
          "output_type": "execute_result",
          "data": {
            "text/plain": [
              "<matplotlib.axes._subplots.AxesSubplot at 0x7f6af9610110>"
            ]
          },
          "metadata": {
            "tags": []
          },
          "execution_count": 186
        },
        {
          "output_type": "display_data",
          "data": {
            "image/png": "[encoded data removed]",
            "text/plain": [
              "<Figure size 432x288 with 1 Axes>"
            ]
          },
          "metadata": {
            "tags": [],
            "needs_background": "light"
          }
        }
      ]
    },
    {
      "cell_type": "code",
      "metadata": {
        "colab": {
          "base_uri": "https://localhost:8080/",
          "height": 315
        },
        "id": "7jd_pQNNX-h3",
        "outputId": "6ea46fd8-94ec-4e55-d0b3-a3c00a0fe7e5"
      },
      "source": [
        "fig = plt.figure(figsize=[10, 8])\n",
        "decompsition = sm.tsa.seasonal_decompose(california_drought_Year['D0'], model='additive')\n",
        "fig = decompsition.plot()\n",
        "plt.show()"
      ],
      "execution_count": null,
      "outputs": [
        {
          "output_type": "display_data",
          "data": {
            "text/plain": [
              "<Figure size 720x576 with 0 Axes>"
            ]
          },
          "metadata": {
            "tags": []
          }
        },
        {
          "output_type": "display_data",
          "data": {
            "image/png": "[encoded data removed]",
            "text/plain": [
              "<Figure size 432x288 with 4 Axes>"
            ]
          },
          "metadata": {
            "tags": [],
            "needs_background": "light"
          }
        }
      ]
    },
    {
      "cell_type": "code",
      "metadata": {
        "id": "cVrohvCC9jDc"
      },
      "source": [
        "D0 = pd.DataFrame(california_drought_Year['D0'])\n",
        "D1 = pd.DataFrame(california_drought_Year['D1'])\n",
        "D2 = pd.DataFrame(california_drought_Year['D2'])\n",
        "D3 = pd.DataFrame(california_drought_Year['D3'])\n",
        "D4 = pd.DataFrame(california_drought_Year['D4'])"
      ],
      "execution_count": null,
      "outputs": []
    },
    {
      "cell_type": "code",
      "metadata": {
        "colab": {
          "base_uri": "https://localhost:8080/",
          "height": 235
        },
        "id": "6dygaFGi_y0Q",
        "outputId": "263fb718-b6e0-486f-d311-f8ed0b03008d"
      },
      "source": [
        "D0.head()"
      ],
      "execution_count": null,
      "outputs": [
        {
          "output_type": "execute_result",
          "data": {
            "text/html": [
              "<div>\n",
              "<style scoped>\n",
              "    .dataframe tbody tr th:only-of-type {\n",
              "        vertical-align: middle;\n",
              "    }\n",
              "\n",
              "    .dataframe tbody tr th {\n",
              "        vertical-align: top;\n",
              "    }\n",
              "\n",
              "    .dataframe thead th {\n",
              "        text-align: right;\n",
              "    }\n",
              "</style>\n",
              "<table border=\"1\" class=\"dataframe\">\n",
              "  <thead>\n",
              "    <tr style=\"text-align: right;\">\n",
              "      <th></th>\n",
              "      <th>D0</th>\n",
              "    </tr>\n",
              "    <tr>\n",
              "      <th>Year</th>\n",
              "      <th></th>\n",
              "    </tr>\n",
              "  </thead>\n",
              "  <tbody>\n",
              "    <tr>\n",
              "      <th>2021-01-01</th>\n",
              "      <td>157733</td>\n",
              "    </tr>\n",
              "    <tr>\n",
              "      <th>2020-01-01</th>\n",
              "      <td>107091</td>\n",
              "    </tr>\n",
              "    <tr>\n",
              "      <th>2019-01-01</th>\n",
              "      <td>36941</td>\n",
              "    </tr>\n",
              "    <tr>\n",
              "      <th>2018-01-01</th>\n",
              "      <td>127300</td>\n",
              "    </tr>\n",
              "    <tr>\n",
              "      <th>2017-01-01</th>\n",
              "      <td>48353</td>\n",
              "    </tr>\n",
              "  </tbody>\n",
              "</table>\n",
              "</div>"
            ],
            "text/plain": [
              "                D0\n",
              "Year              \n",
              "2021-01-01  157733\n",
              "2020-01-01  107091\n",
              "2019-01-01   36941\n",
              "2018-01-01  127300\n",
              "2017-01-01   48353"
            ]
          },
          "metadata": {
            "tags": []
          },
          "execution_count": 189
        }
      ]
    },
    {
      "cell_type": "code",
      "metadata": {
        "colab": {
          "base_uri": "https://localhost:8080/",
          "height": 37
        },
        "id": "-bXkUPhX_ZmE",
        "outputId": "d185c67f-2385-4dcc-d28c-d61c01850b3e"
      },
      "source": [
        "D0.columns[0]"
      ],
      "execution_count": null,
      "outputs": [
        {
          "output_type": "execute_result",
          "data": {
            "application/vnd.google.colaboratory.intrinsic+json": {
              "type": "string"
            },
            "text/plain": [
              "'D0'"
            ]
          },
          "metadata": {
            "tags": []
          },
          "execution_count": 190
        }
      ]
    },
    {
      "cell_type": "code",
      "metadata": {
        "colab": {
          "base_uri": "https://localhost:8080/"
        },
        "id": "8wm8bQ1M-QEe",
        "outputId": "0c2f897c-f3b6-4888-da90-44f0fc240dc6"
      },
      "source": [
        "D0.iloc[:, 0]"
      ],
      "execution_count": null,
      "outputs": [
        {
          "output_type": "execute_result",
          "data": {
            "text/plain": [
              "Year\n",
              "2021-01-01    157733\n",
              "2020-01-01    107091\n",
              "2019-01-01     36941\n",
              "2018-01-01    127300\n",
              "2017-01-01     48353\n",
              "2016-01-01    152489\n",
              "2015-01-01    157948\n",
              "2014-01-01    157885\n",
              "2013-01-01    148304\n",
              "2012-01-01    137929\n",
              "2011-01-01     14158\n",
              "2010-01-01     39692\n",
              "2009-01-01    152439\n",
              "2008-01-01    142181\n",
              "2007-01-01    144576\n",
              "2006-01-01     22723\n",
              "2005-01-01      8222\n",
              "2004-01-01    108654\n",
              "2003-01-01     70802\n",
              "2002-01-01    108592\n",
              "2001-01-01     71942\n",
              "2000-01-01     20107\n",
              "Freq: -1AS-JAN, Name: D0, dtype: int64"
            ]
          },
          "metadata": {
            "tags": []
          },
          "execution_count": 191
        }
      ]
    },
    {
      "cell_type": "code",
      "metadata": {
        "id": "-YTpmzb695Kv"
      },
      "source": [
        "all_col = [D0, D1, D2, D3, D4]"
      ],
      "execution_count": null,
      "outputs": []
    },
    {
      "cell_type": "code",
      "metadata": {
        "colab": {
          "base_uri": "https://localhost:8080/",
          "height": 425
        },
        "id": "jf3Sos739BOS",
        "outputId": "3979a3a9-d0d8-4030-f083-06450d4ac56b"
      },
      "source": [
        "\n",
        "#Changing the names to fit FB Prophit\n",
        "train_all= D0.reset_index().rename(columns={'Year':'ds', 'D0':'y'})  # rename necesario para Prophet\n",
        "#Putting it in a model\n",
        "modelo_all=Prophet().fit(train_all)\n",
        "train_all.head()\n",
        "#Forcating \n",
        "future = modelo_all.make_future_dataframe(periods=9, freq='YS')\n",
        "forcast = modelo_all.predict(future)\n",
        "#Get only needed data \n",
        "New_data = forcast[forcast['ds'] >= '2019']\n",
        "#Change the name back\n",
        "New_data.rename(columns={'ds':'Year'},inplace=True)\n",
        "#set index\n",
        "New_data.set_index('Year', inplace=True)\n",
        "#Only get the columns you need\n",
        "data_temp = New_data['yhat']\n",
        "data_temp = pd.DataFrame(data_temp)\n",
        "#rename again.\n",
        "data_temp.rename(columns={'yhat': 'D0'}, inplace=True)\n",
        "#flip the order\n",
        "data_temp = data_temp.sort_index(ascending=False)\n",
        "#Reset indexes so i can concat\n",
        "data_temp.reset_index(inplace=True)\n",
        "D0.reset_index(inplace=True)\n",
        "all_dfs = [data_temp, D0]\n",
        "#function to concat and add index again. \n",
        "for df in all_dfs:\n",
        "    df.columns = ['Year', 'D0']\n",
        "\n",
        "D0_Prediction = pd.concat(all_dfs).reset_index(drop=True)\n",
        "D0_Prediction.set_index('Year', inplace=True)\n",
        "#done\n",
        "D0_Prediction.head()"
      ],
      "execution_count": null,
      "outputs": [
        {
          "output_type": "stream",
          "text": [
            "INFO:fbprophet:Disabling weekly seasonality. Run prophet with weekly_seasonality=True to override this.\n",
            "INFO:fbprophet:Disabling daily seasonality. Run prophet with daily_seasonality=True to override this.\n",
            "INFO:fbprophet:n_changepoints greater than number of observations. Using 16.\n",
            "/usr/local/lib/python3.7/dist-packages/pandas/core/frame.py:4308: SettingWithCopyWarning:\n",
            "\n",
            "\n",
            "A value is trying to be set on a copy of a slice from a DataFrame\n",
            "\n",
            "See the caveats in the documentation: https://pandas.pydata.org/pandas-docs/stable/user_guide/indexing.html#returning-a-view-versus-a-copy\n",
            "\n"
          ],
          "name": "stderr"
        },
        {
          "output_type": "execute_result",
          "data": {
            "text/html": [
              "<div>\n",
              "<style scoped>\n",
              "    .dataframe tbody tr th:only-of-type {\n",
              "        vertical-align: middle;\n",
              "    }\n",
              "\n",
              "    .dataframe tbody tr th {\n",
              "        vertical-align: top;\n",
              "    }\n",
              "\n",
              "    .dataframe thead th {\n",
              "        text-align: right;\n",
              "    }\n",
              "</style>\n",
              "<table border=\"1\" class=\"dataframe\">\n",
              "  <thead>\n",
              "    <tr style=\"text-align: right;\">\n",
              "      <th></th>\n",
              "      <th>D0</th>\n",
              "    </tr>\n",
              "    <tr>\n",
              "      <th>Year</th>\n",
              "      <th></th>\n",
              "    </tr>\n",
              "  </thead>\n",
              "  <tbody>\n",
              "    <tr>\n",
              "      <th>2030-01-01</th>\n",
              "      <td>153255.027640</td>\n",
              "    </tr>\n",
              "    <tr>\n",
              "      <th>2029-01-01</th>\n",
              "      <td>146302.624495</td>\n",
              "    </tr>\n",
              "    <tr>\n",
              "      <th>2028-01-01</th>\n",
              "      <td>156033.826948</td>\n",
              "    </tr>\n",
              "    <tr>\n",
              "      <th>2027-01-01</th>\n",
              "      <td>148507.878166</td>\n",
              "    </tr>\n",
              "    <tr>\n",
              "      <th>2026-01-01</th>\n",
              "      <td>141266.129987</td>\n",
              "    </tr>\n",
              "  </tbody>\n",
              "</table>\n",
              "</div>"
            ],
            "text/plain": [
              "                       D0\n",
              "Year                     \n",
              "2030-01-01  153255.027640\n",
              "2029-01-01  146302.624495\n",
              "2028-01-01  156033.826948\n",
              "2027-01-01  148507.878166\n",
              "2026-01-01  141266.129987"
            ]
          },
          "metadata": {
            "tags": []
          },
          "execution_count": 193
        }
      ]
    },
    {
      "cell_type": "code",
      "metadata": {
        "colab": {
          "base_uri": "https://localhost:8080/",
          "height": 425
        },
        "id": "n8HQD2LRRXC8",
        "outputId": "6a01d551-33b9-4e14-e3d4-5ca266e7e665"
      },
      "source": [
        "\n",
        "#Changing the names to fit FB Prophit\n",
        "train_all= D1.reset_index().rename(columns={'Year':'ds', 'D1':'y'})  # rename necesario para Prophet\n",
        "#Putting it in a model\n",
        "modelo_all=Prophet().fit(train_all)\n",
        "train_all.head()\n",
        "#Forcating \n",
        "future = modelo_all.make_future_dataframe(periods=9, freq='YS')\n",
        "forcast = modelo_all.predict(future)\n",
        "#Get only needed data \n",
        "New_data = forcast[forcast['ds'] >= '2019']\n",
        "#Change the name back\n",
        "New_data.rename(columns={'ds':'Year'},inplace=True)\n",
        "#set index\n",
        "New_data.set_index('Year', inplace=True)\n",
        "#Only get the columns you need\n",
        "data_temp = New_data['yhat']\n",
        "data_temp = pd.DataFrame(data_temp)\n",
        "#rename again.\n",
        "data_temp.rename(columns={'yhat': 'D1'}, inplace=True)\n",
        "#flip the order\n",
        "data_temp = data_temp.sort_index(ascending=False)\n",
        "#Reset indexes so i can concat\n",
        "data_temp.reset_index(inplace=True)\n",
        "D1.reset_index(inplace=True)\n",
        "all_dfs = [data_temp, D1]\n",
        "#function to concat and add index again. \n",
        "for df in all_dfs:\n",
        "    df.columns = ['Year', 'D1']\n",
        "\n",
        "D1_Prediction = pd.concat(all_dfs).reset_index(drop=True)\n",
        "D1_Prediction.set_index('Year', inplace=True)\n",
        "#done\n",
        "D1_Prediction.head()"
      ],
      "execution_count": null,
      "outputs": [
        {
          "output_type": "stream",
          "text": [
            "INFO:fbprophet:Disabling weekly seasonality. Run prophet with weekly_seasonality=True to override this.\n",
            "INFO:fbprophet:Disabling daily seasonality. Run prophet with daily_seasonality=True to override this.\n",
            "INFO:fbprophet:n_changepoints greater than number of observations. Using 16.\n",
            "/usr/local/lib/python3.7/dist-packages/pandas/core/frame.py:4308: SettingWithCopyWarning:\n",
            "\n",
            "\n",
            "A value is trying to be set on a copy of a slice from a DataFrame\n",
            "\n",
            "See the caveats in the documentation: https://pandas.pydata.org/pandas-docs/stable/user_guide/indexing.html#returning-a-view-versus-a-copy\n",
            "\n"
          ],
          "name": "stderr"
        },
        {
          "output_type": "execute_result",
          "data": {
            "text/html": [
              "<div>\n",
              "<style scoped>\n",
              "    .dataframe tbody tr th:only-of-type {\n",
              "        vertical-align: middle;\n",
              "    }\n",
              "\n",
              "    .dataframe tbody tr th {\n",
              "        vertical-align: top;\n",
              "    }\n",
              "\n",
              "    .dataframe thead th {\n",
              "        text-align: right;\n",
              "    }\n",
              "</style>\n",
              "<table border=\"1\" class=\"dataframe\">\n",
              "  <thead>\n",
              "    <tr style=\"text-align: right;\">\n",
              "      <th></th>\n",
              "      <th>D1</th>\n",
              "    </tr>\n",
              "    <tr>\n",
              "      <th>Year</th>\n",
              "      <th></th>\n",
              "    </tr>\n",
              "  </thead>\n",
              "  <tbody>\n",
              "    <tr>\n",
              "      <th>2030-01-01</th>\n",
              "      <td>137683.947831</td>\n",
              "    </tr>\n",
              "    <tr>\n",
              "      <th>2029-01-01</th>\n",
              "      <td>131609.351234</td>\n",
              "    </tr>\n",
              "    <tr>\n",
              "      <th>2028-01-01</th>\n",
              "      <td>136852.629525</td>\n",
              "    </tr>\n",
              "    <tr>\n",
              "      <th>2027-01-01</th>\n",
              "      <td>130266.728364</td>\n",
              "    </tr>\n",
              "    <tr>\n",
              "      <th>2026-01-01</th>\n",
              "      <td>123934.717533</td>\n",
              "    </tr>\n",
              "  </tbody>\n",
              "</table>\n",
              "</div>"
            ],
            "text/plain": [
              "                       D1\n",
              "Year                     \n",
              "2030-01-01  137683.947831\n",
              "2029-01-01  131609.351234\n",
              "2028-01-01  136852.629525\n",
              "2027-01-01  130266.728364\n",
              "2026-01-01  123934.717533"
            ]
          },
          "metadata": {
            "tags": []
          },
          "execution_count": 194
        }
      ]
    },
    {
      "cell_type": "code",
      "metadata": {
        "colab": {
          "base_uri": "https://localhost:8080/",
          "height": 425
        },
        "id": "QfPUatJaRW50",
        "outputId": "f6451a00-28b2-47c9-868e-8095b52b0602"
      },
      "source": [
        "\n",
        "#Changing the names to fit FB Prophit\n",
        "train_all= D2.reset_index().rename(columns={'Year':'ds', 'D2':'y'})  # rename necesario para Prophet\n",
        "#Putting it in a model\n",
        "modelo_all=Prophet().fit(train_all)\n",
        "train_all.head()\n",
        "#Forcating \n",
        "future = modelo_all.make_future_dataframe(periods=9, freq='YS')\n",
        "forcast = modelo_all.predict(future)\n",
        "#Get only needed data \n",
        "New_data = forcast[forcast['ds'] >= '2019']\n",
        "#Change the name back\n",
        "New_data.rename(columns={'ds':'Year'},inplace=True)\n",
        "#set index\n",
        "New_data.set_index('Year', inplace=True)\n",
        "#Only get the columns you need\n",
        "data_temp = New_data['yhat']\n",
        "data_temp = pd.DataFrame(data_temp)\n",
        "#rename again.\n",
        "data_temp.rename(columns={'yhat': 'D2'}, inplace=True)\n",
        "#flip the order\n",
        "data_temp = data_temp.sort_index(ascending=False)\n",
        "#Reset indexes so i can concat\n",
        "data_temp.reset_index(inplace=True)\n",
        "D2.reset_index(inplace=True)\n",
        "all_dfs = [data_temp, D2]\n",
        "#function to concat and add index again. \n",
        "for df in all_dfs:\n",
        "    df.columns = ['Year', 'D2']\n",
        "\n",
        "D2_Prediction = pd.concat(all_dfs).reset_index(drop=True)\n",
        "D2_Prediction.set_index('Year', inplace=True)\n",
        "#done\n",
        "D2_Prediction.head()"
      ],
      "execution_count": null,
      "outputs": [
        {
          "output_type": "stream",
          "text": [
            "INFO:fbprophet:Disabling weekly seasonality. Run prophet with weekly_seasonality=True to override this.\n",
            "INFO:fbprophet:Disabling daily seasonality. Run prophet with daily_seasonality=True to override this.\n",
            "INFO:fbprophet:n_changepoints greater than number of observations. Using 16.\n",
            "/usr/local/lib/python3.7/dist-packages/pandas/core/frame.py:4308: SettingWithCopyWarning:\n",
            "\n",
            "\n",
            "A value is trying to be set on a copy of a slice from a DataFrame\n",
            "\n",
            "See the caveats in the documentation: https://pandas.pydata.org/pandas-docs/stable/user_guide/indexing.html#returning-a-view-versus-a-copy\n",
            "\n"
          ],
          "name": "stderr"
        },
        {
          "output_type": "execute_result",
          "data": {
            "text/html": [
              "<div>\n",
              "<style scoped>\n",
              "    .dataframe tbody tr th:only-of-type {\n",
              "        vertical-align: middle;\n",
              "    }\n",
              "\n",
              "    .dataframe tbody tr th {\n",
              "        vertical-align: top;\n",
              "    }\n",
              "\n",
              "    .dataframe thead th {\n",
              "        text-align: right;\n",
              "    }\n",
              "</style>\n",
              "<table border=\"1\" class=\"dataframe\">\n",
              "  <thead>\n",
              "    <tr style=\"text-align: right;\">\n",
              "      <th></th>\n",
              "      <th>D2</th>\n",
              "    </tr>\n",
              "    <tr>\n",
              "      <th>Year</th>\n",
              "      <th></th>\n",
              "    </tr>\n",
              "  </thead>\n",
              "  <tbody>\n",
              "    <tr>\n",
              "      <th>2030-01-01</th>\n",
              "      <td>106687.412034</td>\n",
              "    </tr>\n",
              "    <tr>\n",
              "      <th>2029-01-01</th>\n",
              "      <td>106012.292333</td>\n",
              "    </tr>\n",
              "    <tr>\n",
              "      <th>2028-01-01</th>\n",
              "      <td>95807.060450</td>\n",
              "    </tr>\n",
              "    <tr>\n",
              "      <th>2027-01-01</th>\n",
              "      <td>95215.424599</td>\n",
              "    </tr>\n",
              "    <tr>\n",
              "      <th>2026-01-01</th>\n",
              "      <td>94583.497489</td>\n",
              "    </tr>\n",
              "  </tbody>\n",
              "</table>\n",
              "</div>"
            ],
            "text/plain": [
              "                       D2\n",
              "Year                     \n",
              "2030-01-01  106687.412034\n",
              "2029-01-01  106012.292333\n",
              "2028-01-01   95807.060450\n",
              "2027-01-01   95215.424599\n",
              "2026-01-01   94583.497489"
            ]
          },
          "metadata": {
            "tags": []
          },
          "execution_count": 195
        }
      ]
    },
    {
      "cell_type": "code",
      "metadata": {
        "colab": {
          "base_uri": "https://localhost:8080/",
          "height": 425
        },
        "id": "1SOQ2Yq4RWqV",
        "outputId": "44bae4a2-df04-4038-e887-9b38432bb33a"
      },
      "source": [
        "\n",
        "#Changing the names to fit FB Prophit\n",
        "train_all= D3.reset_index().rename(columns={'Year':'ds', 'D3':'y'})  # rename necesario para Prophet\n",
        "#Putting it in a model\n",
        "modelo_all=Prophet().fit(train_all)\n",
        "train_all.head()\n",
        "#Forcating \n",
        "future = modelo_all.make_future_dataframe(periods=9, freq='YS')\n",
        "forcast = modelo_all.predict(future)\n",
        "#Get only needed data \n",
        "New_data = forcast[forcast['ds'] >= '2019']\n",
        "#Change the name back\n",
        "New_data.rename(columns={'ds':'Year'},inplace=True)\n",
        "#set index\n",
        "New_data.set_index('Year', inplace=True)\n",
        "#Only get the columns you need\n",
        "data_temp = New_data['yhat']\n",
        "data_temp = pd.DataFrame(data_temp)\n",
        "#rename again.\n",
        "data_temp.rename(columns={'yhat': 'D3'}, inplace=True)\n",
        "#flip the order\n",
        "data_temp = data_temp.sort_index(ascending=False)\n",
        "#Reset indexes so i can concat\n",
        "data_temp.reset_index(inplace=True)\n",
        "D3.reset_index(inplace=True)\n",
        "all_dfs = [data_temp, D3]\n",
        "#function to concat and add index again. \n",
        "for df in all_dfs:\n",
        "    df.columns = ['Year', 'D3']\n",
        "\n",
        "D3_Prediction = pd.concat(all_dfs).reset_index(drop=True)\n",
        "D3_Prediction.set_index('Year', inplace=True)\n",
        "#done\n",
        "D3_Prediction.head()"
      ],
      "execution_count": null,
      "outputs": [
        {
          "output_type": "stream",
          "text": [
            "INFO:fbprophet:Disabling weekly seasonality. Run prophet with weekly_seasonality=True to override this.\n",
            "INFO:fbprophet:Disabling daily seasonality. Run prophet with daily_seasonality=True to override this.\n",
            "INFO:fbprophet:n_changepoints greater than number of observations. Using 16.\n",
            "/usr/local/lib/python3.7/dist-packages/pandas/core/frame.py:4308: SettingWithCopyWarning:\n",
            "\n",
            "\n",
            "A value is trying to be set on a copy of a slice from a DataFrame\n",
            "\n",
            "See the caveats in the documentation: https://pandas.pydata.org/pandas-docs/stable/user_guide/indexing.html#returning-a-view-versus-a-copy\n",
            "\n"
          ],
          "name": "stderr"
        },
        {
          "output_type": "execute_result",
          "data": {
            "text/html": [
              "<div>\n",
              "<style scoped>\n",
              "    .dataframe tbody tr th:only-of-type {\n",
              "        vertical-align: middle;\n",
              "    }\n",
              "\n",
              "    .dataframe tbody tr th {\n",
              "        vertical-align: top;\n",
              "    }\n",
              "\n",
              "    .dataframe thead th {\n",
              "        text-align: right;\n",
              "    }\n",
              "</style>\n",
              "<table border=\"1\" class=\"dataframe\">\n",
              "  <thead>\n",
              "    <tr style=\"text-align: right;\">\n",
              "      <th></th>\n",
              "      <th>D3</th>\n",
              "    </tr>\n",
              "    <tr>\n",
              "      <th>Year</th>\n",
              "      <th></th>\n",
              "    </tr>\n",
              "  </thead>\n",
              "  <tbody>\n",
              "    <tr>\n",
              "      <th>2030-01-01</th>\n",
              "      <td>65892.661195</td>\n",
              "    </tr>\n",
              "    <tr>\n",
              "      <th>2029-01-01</th>\n",
              "      <td>63863.565745</td>\n",
              "    </tr>\n",
              "    <tr>\n",
              "      <th>2028-01-01</th>\n",
              "      <td>60182.192575</td>\n",
              "    </tr>\n",
              "    <tr>\n",
              "      <th>2027-01-01</th>\n",
              "      <td>58798.942312</td>\n",
              "    </tr>\n",
              "    <tr>\n",
              "      <th>2026-01-01</th>\n",
              "      <td>57093.068384</td>\n",
              "    </tr>\n",
              "  </tbody>\n",
              "</table>\n",
              "</div>"
            ],
            "text/plain": [
              "                      D3\n",
              "Year                    \n",
              "2030-01-01  65892.661195\n",
              "2029-01-01  63863.565745\n",
              "2028-01-01  60182.192575\n",
              "2027-01-01  58798.942312\n",
              "2026-01-01  57093.068384"
            ]
          },
          "metadata": {
            "tags": []
          },
          "execution_count": 196
        }
      ]
    },
    {
      "cell_type": "code",
      "metadata": {
        "colab": {
          "base_uri": "https://localhost:8080/",
          "height": 425
        },
        "id": "KoxVsoWeRn-d",
        "outputId": "432ab8a7-1bf5-44c0-fbce-d1624ff62d57"
      },
      "source": [
        "\n",
        "#Changing the names to fit FB Prophit\n",
        "train_all= D4.reset_index().rename(columns={'Year':'ds', 'D4':'y'})  # rename necesario para Prophet\n",
        "#Putting it in a model\n",
        "modelo_all=Prophet().fit(train_all)\n",
        "train_all.head()\n",
        "#Forcating \n",
        "future = modelo_all.make_future_dataframe(periods=9, freq='YS')\n",
        "forcast = modelo_all.predict(future)\n",
        "#Get only needed data \n",
        "New_data = forcast[forcast['ds'] >= '2019']\n",
        "#Change the name back\n",
        "New_data.rename(columns={'ds':'Year'},inplace=True)\n",
        "#set index\n",
        "New_data.set_index('Year', inplace=True)\n",
        "#Only get the columns you need\n",
        "data_temp = New_data['yhat']\n",
        "data_temp = pd.DataFrame(data_temp)\n",
        "#rename again.\n",
        "data_temp.rename(columns={'yhat': 'D4'}, inplace=True)\n",
        "#flip the order\n",
        "data_temp = data_temp.sort_index(ascending=False)\n",
        "#Reset indexes so i can concat\n",
        "data_temp.reset_index(inplace=True)\n",
        "D4.reset_index(inplace=True)\n",
        "all_dfs = [data_temp, D4]\n",
        "#function to concat and add index again. \n",
        "for df in all_dfs:\n",
        "    df.columns = ['Year', 'D4']\n",
        "\n",
        "D4_Prediction = pd.concat(all_dfs).reset_index(drop=True)\n",
        "D4_Prediction.set_index('Year', inplace=True)\n",
        "#done\n",
        "D4_Prediction.head()"
      ],
      "execution_count": null,
      "outputs": [
        {
          "output_type": "stream",
          "text": [
            "INFO:fbprophet:Disabling weekly seasonality. Run prophet with weekly_seasonality=True to override this.\n",
            "INFO:fbprophet:Disabling daily seasonality. Run prophet with daily_seasonality=True to override this.\n",
            "INFO:fbprophet:n_changepoints greater than number of observations. Using 16.\n",
            "/usr/local/lib/python3.7/dist-packages/pandas/core/frame.py:4308: SettingWithCopyWarning:\n",
            "\n",
            "\n",
            "A value is trying to be set on a copy of a slice from a DataFrame\n",
            "\n",
            "See the caveats in the documentation: https://pandas.pydata.org/pandas-docs/stable/user_guide/indexing.html#returning-a-view-versus-a-copy\n",
            "\n"
          ],
          "name": "stderr"
        },
        {
          "output_type": "execute_result",
          "data": {
            "text/html": [
              "<div>\n",
              "<style scoped>\n",
              "    .dataframe tbody tr th:only-of-type {\n",
              "        vertical-align: middle;\n",
              "    }\n",
              "\n",
              "    .dataframe tbody tr th {\n",
              "        vertical-align: top;\n",
              "    }\n",
              "\n",
              "    .dataframe thead th {\n",
              "        text-align: right;\n",
              "    }\n",
              "</style>\n",
              "<table border=\"1\" class=\"dataframe\">\n",
              "  <thead>\n",
              "    <tr style=\"text-align: right;\">\n",
              "      <th></th>\n",
              "      <th>D4</th>\n",
              "    </tr>\n",
              "    <tr>\n",
              "      <th>Year</th>\n",
              "      <th></th>\n",
              "    </tr>\n",
              "  </thead>\n",
              "  <tbody>\n",
              "    <tr>\n",
              "      <th>2030-01-01</th>\n",
              "      <td>29407.833575</td>\n",
              "    </tr>\n",
              "    <tr>\n",
              "      <th>2029-01-01</th>\n",
              "      <td>26635.404325</td>\n",
              "    </tr>\n",
              "    <tr>\n",
              "      <th>2028-01-01</th>\n",
              "      <td>29920.456377</td>\n",
              "    </tr>\n",
              "    <tr>\n",
              "      <th>2027-01-01</th>\n",
              "      <td>27580.512178</td>\n",
              "    </tr>\n",
              "    <tr>\n",
              "      <th>2026-01-01</th>\n",
              "      <td>25023.436228</td>\n",
              "    </tr>\n",
              "  </tbody>\n",
              "</table>\n",
              "</div>"
            ],
            "text/plain": [
              "                      D4\n",
              "Year                    \n",
              "2030-01-01  29407.833575\n",
              "2029-01-01  26635.404325\n",
              "2028-01-01  29920.456377\n",
              "2027-01-01  27580.512178\n",
              "2026-01-01  25023.436228"
            ]
          },
          "metadata": {
            "tags": []
          },
          "execution_count": 197
        }
      ]
    },
    {
      "cell_type": "code",
      "metadata": {
        "id": "TzlBBYI7S-0Z"
      },
      "source": [
        "Drought_Preditions = D0_Prediction.join(D1_Prediction)\n",
        "Drought_Preditions = Drought_Preditions.join(D2_Prediction)\n",
        "Drought_Preditions = Drought_Preditions.join(D3_Prediction)\n",
        "Drought_Preditions = Drought_Preditions.join(D4_Prediction)"
      ],
      "execution_count": null,
      "outputs": []
    },
    {
      "cell_type": "code",
      "metadata": {
        "id": "jBd9nlQnUtHb"
      },
      "source": [
        "Drought_Preditions = Drought_Preditions.sort_values(by=[\"Year\"], ascending=False)\n"
      ],
      "execution_count": null,
      "outputs": []
    },
    {
      "cell_type": "code",
      "metadata": {
        "id": "ieG2Z8HJIeQX",
        "colab": {
          "base_uri": "https://localhost:8080/"
        },
        "outputId": "776ec89d-0264-4a7e-e252-fa9417836030"
      },
      "source": [
        "print(Drought_Preditions)"
      ],
      "execution_count": null,
      "outputs": [
        {
          "output_type": "stream",
          "text": [
            "                       D0             D1  ...            D3            D4\n",
            "Year                                      ...                            \n",
            "2030-01-01  153255.027640  137683.947831  ...  65892.661195  29407.833575\n",
            "2029-01-01  146302.624495  131609.351234  ...  63863.565745  26635.404325\n",
            "2028-01-01  156033.826948  136852.629525  ...  60182.192575  29920.456377\n",
            "2027-01-01  148507.878166  130266.728364  ...  58798.942312  27580.512178\n",
            "2026-01-01  141266.129987  123934.717533  ...  57093.068384  25023.436228\n",
            "...                   ...            ...  ...           ...           ...\n",
            "2004-01-01  108654.000000   60490.000000  ...      0.000000      0.000000\n",
            "2003-01-01   70802.000000   45633.000000  ...   3545.000000      0.000000\n",
            "2002-01-01  108592.000000   60291.000000  ...  18589.000000      0.000000\n",
            "2001-01-01   71942.000000   37599.000000  ...  11006.000000      0.000000\n",
            "2000-01-01   20107.000000      84.000000  ...      0.000000      0.000000\n",
            "\n",
            "[124 rows x 5 columns]\n"
          ],
          "name": "stdout"
        }
      ]
    },
    {
      "cell_type": "markdown",
      "metadata": {
        "id": "K4JhKmCxYjwl"
      },
      "source": [
        "### California Annual Average Temerature"
      ]
    },
    {
      "cell_type": "code",
      "metadata": {
        "id": "piPuYyCHLEu-",
        "colab": {
          "base_uri": "https://localhost:8080/",
          "height": 204
        },
        "outputId": "11e32a4c-637d-4f9b-cdd0-b2aac2648ae2"
      },
      "source": [
        "california_temp = pd.read_csv('/content/drive/MyDrive/Ironhack/Final_Project/Cali_Temp_Clean - Sheet2-2.csv')\n",
        "california_temp.head()"
      ],
      "execution_count": null,
      "outputs": [
        {
          "output_type": "execute_result",
          "data": {
            "text/html": [
              "<div>\n",
              "<style scoped>\n",
              "    .dataframe tbody tr th:only-of-type {\n",
              "        vertical-align: middle;\n",
              "    }\n",
              "\n",
              "    .dataframe tbody tr th {\n",
              "        vertical-align: top;\n",
              "    }\n",
              "\n",
              "    .dataframe thead th {\n",
              "        text-align: right;\n",
              "    }\n",
              "</style>\n",
              "<table border=\"1\" class=\"dataframe\">\n",
              "  <thead>\n",
              "    <tr style=\"text-align: right;\">\n",
              "      <th></th>\n",
              "      <th>Year</th>\n",
              "      <th>Temp</th>\n",
              "      <th>Jan</th>\n",
              "      <th>Feb</th>\n",
              "      <th>Mar</th>\n",
              "      <th>Apr</th>\n",
              "      <th>May</th>\n",
              "      <th>Jun</th>\n",
              "      <th>Jul</th>\n",
              "      <th>Aug</th>\n",
              "      <th>Sep</th>\n",
              "      <th>Oct</th>\n",
              "      <th>Nov</th>\n",
              "      <th>Dec</th>\n",
              "      <th>Annual</th>\n",
              "    </tr>\n",
              "  </thead>\n",
              "  <tbody>\n",
              "    <tr>\n",
              "      <th>0</th>\n",
              "      <td>2021</td>\n",
              "      <td>Avg.</td>\n",
              "      <td>59.0</td>\n",
              "      <td>60.5</td>\n",
              "      <td>59.5</td>\n",
              "      <td>64.6</td>\n",
              "      <td>66.3</td>\n",
              "      <td>71.1</td>\n",
              "      <td>75.0</td>\n",
              "      <td>---</td>\n",
              "      <td>---</td>\n",
              "      <td>---</td>\n",
              "      <td>---</td>\n",
              "      <td>---</td>\n",
              "      <td>---</td>\n",
              "    </tr>\n",
              "    <tr>\n",
              "      <th>1</th>\n",
              "      <td>2020</td>\n",
              "      <td>Avg.</td>\n",
              "      <td>60.9</td>\n",
              "      <td>62.6</td>\n",
              "      <td>61.3</td>\n",
              "      <td>66.6</td>\n",
              "      <td>70.5</td>\n",
              "      <td>71.3</td>\n",
              "      <td>72.2</td>\n",
              "      <td>76.7</td>\n",
              "      <td>76.2</td>\n",
              "      <td>73</td>\n",
              "      <td>62.8</td>\n",
              "      <td>60</td>\n",
              "      <td>67.8</td>\n",
              "    </tr>\n",
              "    <tr>\n",
              "      <th>2</th>\n",
              "      <td>2019</td>\n",
              "      <td>Avg.</td>\n",
              "      <td>57.9</td>\n",
              "      <td>54.0</td>\n",
              "      <td>61.1</td>\n",
              "      <td>65.2</td>\n",
              "      <td>63.3</td>\n",
              "      <td>69.3</td>\n",
              "      <td>74.4</td>\n",
              "      <td>75.5</td>\n",
              "      <td>76.6</td>\n",
              "      <td>72.2</td>\n",
              "      <td>64.9</td>\n",
              "      <td>59.4</td>\n",
              "      <td>66.1</td>\n",
              "    </tr>\n",
              "    <tr>\n",
              "      <th>3</th>\n",
              "      <td>2018</td>\n",
              "      <td>Avg.</td>\n",
              "      <td>62.2</td>\n",
              "      <td>59.4</td>\n",
              "      <td>60.1</td>\n",
              "      <td>64.4</td>\n",
              "      <td>64.9</td>\n",
              "      <td>70.1</td>\n",
              "      <td>78.8</td>\n",
              "      <td>78.3</td>\n",
              "      <td>73.4</td>\n",
              "      <td>70.5</td>\n",
              "      <td>65.1</td>\n",
              "      <td>58.9</td>\n",
              "      <td>67.2</td>\n",
              "    </tr>\n",
              "    <tr>\n",
              "      <th>4</th>\n",
              "      <td>2017</td>\n",
              "      <td>Avg.</td>\n",
              "      <td>57.1</td>\n",
              "      <td>59.8</td>\n",
              "      <td>65.5</td>\n",
              "      <td>67.8</td>\n",
              "      <td>67.1</td>\n",
              "      <td>71.4</td>\n",
              "      <td>76.4</td>\n",
              "      <td>76.6</td>\n",
              "      <td>75.2</td>\n",
              "      <td>74.1</td>\n",
              "      <td>66.4</td>\n",
              "      <td>61</td>\n",
              "      <td>68.2</td>\n",
              "    </tr>\n",
              "  </tbody>\n",
              "</table>\n",
              "</div>"
            ],
            "text/plain": [
              "   Year  Temp   Jan   Feb   Mar   Apr  ...   Aug   Sep   Oct   Nov   Dec Annual\n",
              "0  2021  Avg.  59.0  60.5  59.5  64.6  ...   ---   ---   ---   ---   ---    ---\n",
              "1  2020  Avg.  60.9  62.6  61.3  66.6  ...  76.7  76.2    73  62.8    60   67.8\n",
              "2  2019  Avg.  57.9  54.0  61.1  65.2  ...  75.5  76.6  72.2  64.9  59.4   66.1\n",
              "3  2018  Avg.  62.2  59.4  60.1  64.4  ...  78.3  73.4  70.5  65.1  58.9   67.2\n",
              "4  2017  Avg.  57.1  59.8  65.5  67.8  ...  76.6  75.2  74.1  66.4    61   68.2\n",
              "\n",
              "[5 rows x 15 columns]"
            ]
          },
          "metadata": {
            "tags": []
          },
          "execution_count": 201
        }
      ]
    },
    {
      "cell_type": "code",
      "metadata": {
        "id": "mVDOQHycyv7R"
      },
      "source": [
        "california_temp['Year'] = california_temp['Year'].astype(str)\n",
        "california_temp['Year'] = california_temp.apply(lambda x : x['Year']+'0101', axis=1 )\n",
        "california_temp['Year'] = california_temp['Year'].astype(int)\n",
        "california_temp = california_temp.set_index('Year')\n",
        "california_temp_annual = california_temp.drop(columns={'Temp','Jan',\t'Feb',\t'Mar',\t'Apr',\t'May',\t'Jun',\t'Jul',\t'Aug',\t'Sep',\t'Oct',\t'Nov',\t'Dec' })"
      ],
      "execution_count": null,
      "outputs": []
    },
    {
      "cell_type": "code",
      "metadata": {
        "id": "n6-IVHtpbtUT"
      },
      "source": [
        "#california_temp.head()"
      ],
      "execution_count": null,
      "outputs": []
    },
    {
      "cell_type": "code",
      "metadata": {
        "id": "OcyyFu6XpEeq"
      },
      "source": [
        "california_temp_annual = california_temp_annual.iloc[1: , :]"
      ],
      "execution_count": null,
      "outputs": []
    },
    {
      "cell_type": "code",
      "metadata": {
        "id": "Efn5-Fw9WPkk"
      },
      "source": [
        "#california_temp_annual.at[20210101,'Annual']= 0"
      ],
      "execution_count": null,
      "outputs": []
    },
    {
      "cell_type": "code",
      "metadata": {
        "id": "pwrDJzNdZzEk"
      },
      "source": [
        "#california_temp_annual.at[2021,'Annual']= 'NaN'"
      ],
      "execution_count": null,
      "outputs": []
    },
    {
      "cell_type": "code",
      "metadata": {
        "id": "PCtA3m71k3HU"
      },
      "source": [
        "#california_temp_annual.fillna(method='pad', inplace=True)"
      ],
      "execution_count": null,
      "outputs": []
    },
    {
      "cell_type": "code",
      "metadata": {
        "id": "oTH1FUrof8Ug"
      },
      "source": [
        "#california_temp_annual = california_temp_annual.interpolate(method ='linear', limit_direction ='backward', limit = 1)"
      ],
      "execution_count": null,
      "outputs": []
    },
    {
      "cell_type": "code",
      "metadata": {
        "id": "ljt-7yxJUK3i"
      },
      "source": [
        "california_temp_annual = california_temp_annual.astype(float)\n",
        "california_temp_annual['Celcius'] = california_temp_annual.apply(lambda x : (x['Annual']-32)*(5/9), axis=1 )\n",
        "california_temp_annual.drop(columns='Annual', inplace=True)\n",
        "california_temp_annual.rename(columns={'Celcius': 'Annual Average °C'}, inplace=True)"
      ],
      "execution_count": null,
      "outputs": []
    },
    {
      "cell_type": "code",
      "metadata": {
        "id": "OvHbnDMLpK00"
      },
      "source": [
        "#california_temp_annual.info()"
      ],
      "execution_count": null,
      "outputs": []
    },
    {
      "cell_type": "code",
      "metadata": {
        "id": "e1CiepAtUIfR"
      },
      "source": [
        "california_temp_annual = california_temp_annual.round(2)\n",
        "california_temp_annual = california_temp_annual[california_temp_annual.index >= 1900]"
      ],
      "execution_count": null,
      "outputs": []
    },
    {
      "cell_type": "code",
      "metadata": {
        "id": "fPDZByX4lqJ9",
        "colab": {
          "base_uri": "https://localhost:8080/"
        },
        "outputId": "d92daca0-00d4-4600-9223-e4c27a282df0"
      },
      "source": [
        "dftest = adfuller(california_temp_annual['Annual Average °C'], autolag=None)\n",
        "dftest"
      ],
      "execution_count": null,
      "outputs": [
        {
          "output_type": "execute_result",
          "data": {
            "text/plain": [
              "(-0.8242266549832589,\n",
              " 0.8119018916041719,\n",
              " 14,\n",
              " 126,\n",
              " {'1%': -3.4833462346078936,\n",
              "  '10%': -2.5791564575459813,\n",
              "  '5%': -2.8847655969877666})"
            ]
          },
          "metadata": {
            "tags": []
          },
          "execution_count": 212
        }
      ]
    },
    {
      "cell_type": "code",
      "metadata": {
        "id": "jZdfNj9TeEaq"
      },
      "source": [
        ""
      ],
      "execution_count": null,
      "outputs": []
    },
    {
      "cell_type": "code",
      "metadata": {
        "id": "kZFrno3Hmvel"
      },
      "source": [
        "#.77 p value \n",
        "#not stationary. \n",
        "#STARIMAX is needed because its not stational. "
      ],
      "execution_count": null,
      "outputs": []
    },
    {
      "cell_type": "code",
      "metadata": {
        "id": "O8QFNXDpo7i_"
      },
      "source": [
        "california_temp_annual.index = pd.to_datetime(california_temp_annual.index, format='%Y%m%d', errors='ignore')"
      ],
      "execution_count": null,
      "outputs": []
    },
    {
      "cell_type": "code",
      "metadata": {
        "id": "e6GXyNEppCdY"
      },
      "source": [
        "#california_temp_annual.head()"
      ],
      "execution_count": null,
      "outputs": []
    },
    {
      "cell_type": "code",
      "metadata": {
        "id": "qRzMSwowuLXD"
      },
      "source": [
        "#california_temp_annual.info()"
      ],
      "execution_count": null,
      "outputs": []
    },
    {
      "cell_type": "code",
      "metadata": {
        "id": "UFkrMWJPoOtX",
        "colab": {
          "base_uri": "https://localhost:8080/",
          "height": 315
        },
        "outputId": "32204064-b1bd-4dcc-e4ee-4db0badb1e11"
      },
      "source": [
        "fig = plt.figure(figsize=[10, 8])\n",
        "decompsition = sm.tsa.seasonal_decompose(california_temp_annual['Annual Average °C'], model='additive')\n",
        "fig = decompsition.plot()\n",
        "plt.show()"
      ],
      "execution_count": null,
      "outputs": [
        {
          "output_type": "display_data",
          "data": {
            "text/plain": [
              "<Figure size 720x576 with 0 Axes>"
            ]
          },
          "metadata": {
            "tags": []
          }
        },
        {
          "output_type": "display_data",
          "data": {
            "image/png": "[encoded data removed]",
            "text/plain": [
              "<Figure size 432x288 with 4 Axes>"
            ]
          },
          "metadata": {
            "tags": [],
            "needs_background": "light"
          }
        }
      ]
    },
    {
      "cell_type": "code",
      "metadata": {
        "id": "5O-0TGc2o6cU",
        "colab": {
          "base_uri": "https://localhost:8080/",
          "height": 296
        },
        "outputId": "27c7d2a1-a8cc-436c-b97c-ae4979bb24b8"
      },
      "source": [
        "california_temp_annual.plot()"
      ],
      "execution_count": null,
      "outputs": [
        {
          "output_type": "execute_result",
          "data": {
            "text/plain": [
              "<matplotlib.axes._subplots.AxesSubplot at 0x7f6af96d7350>"
            ]
          },
          "metadata": {
            "tags": []
          },
          "execution_count": 218
        },
        {
          "output_type": "display_data",
          "data": {
            "image/png": "[encoded data removed]",
            "text/plain": [
              "<Figure size 432x288 with 1 Axes>"
            ]
          },
          "metadata": {
            "tags": [],
            "needs_background": "light"
          }
        }
      ]
    },
    {
      "cell_type": "code",
      "metadata": {
        "id": "m6OYqj1OVJcn"
      },
      "source": [
        "cali_temp_export = california_temp_annual"
      ],
      "execution_count": null,
      "outputs": []
    },
    {
      "cell_type": "code",
      "metadata": {
        "id": "Crv1pB1j3RJL"
      },
      "source": [
        "california_temp_annual = california_temp_annual[ california_temp_annual.index >= '1971-01-01']"
      ],
      "execution_count": null,
      "outputs": []
    },
    {
      "cell_type": "code",
      "metadata": {
        "id": "xPlz1aEi3nl4",
        "colab": {
          "base_uri": "https://localhost:8080/"
        },
        "outputId": "ec876641-721c-4c35-a016-d1dff9bcabcb"
      },
      "source": [
        "print(len(california_temp_annual))"
      ],
      "execution_count": null,
      "outputs": [
        {
          "output_type": "stream",
          "text": [
            "50\n"
          ],
          "name": "stdout"
        }
      ]
    },
    {
      "cell_type": "code",
      "metadata": {
        "id": "tVc9WPvO4vc9",
        "colab": {
          "base_uri": "https://localhost:8080/",
          "height": 252
        },
        "outputId": "c1d3064f-3e4f-4600-961a-f46f2da14ab8"
      },
      "source": [
        "california_temp_annual.head()"
      ],
      "execution_count": null,
      "outputs": [
        {
          "output_type": "execute_result",
          "data": {
            "text/html": [
              "<div>\n",
              "<style scoped>\n",
              "    .dataframe tbody tr th:only-of-type {\n",
              "        vertical-align: middle;\n",
              "    }\n",
              "\n",
              "    .dataframe tbody tr th {\n",
              "        vertical-align: top;\n",
              "    }\n",
              "\n",
              "    .dataframe thead th {\n",
              "        text-align: right;\n",
              "    }\n",
              "</style>\n",
              "<table border=\"1\" class=\"dataframe\">\n",
              "  <thead>\n",
              "    <tr style=\"text-align: right;\">\n",
              "      <th></th>\n",
              "      <th>Annual Average °C</th>\n",
              "    </tr>\n",
              "    <tr>\n",
              "      <th>Year</th>\n",
              "      <th></th>\n",
              "    </tr>\n",
              "  </thead>\n",
              "  <tbody>\n",
              "    <tr>\n",
              "      <th>2020-01-01</th>\n",
              "      <td>19.89</td>\n",
              "    </tr>\n",
              "    <tr>\n",
              "      <th>2019-01-01</th>\n",
              "      <td>18.94</td>\n",
              "    </tr>\n",
              "    <tr>\n",
              "      <th>2018-01-01</th>\n",
              "      <td>19.56</td>\n",
              "    </tr>\n",
              "    <tr>\n",
              "      <th>2017-01-01</th>\n",
              "      <td>20.11</td>\n",
              "    </tr>\n",
              "    <tr>\n",
              "      <th>2016-01-01</th>\n",
              "      <td>19.50</td>\n",
              "    </tr>\n",
              "  </tbody>\n",
              "</table>\n",
              "</div>"
            ],
            "text/plain": [
              "            Annual Average °C\n",
              "Year                         \n",
              "2020-01-01              19.89\n",
              "2019-01-01              18.94\n",
              "2018-01-01              19.56\n",
              "2017-01-01              20.11\n",
              "2016-01-01              19.50"
            ]
          },
          "metadata": {
            "tags": []
          },
          "execution_count": 222
        }
      ]
    },
    {
      "cell_type": "code",
      "metadata": {
        "id": "CDYBgE1d3-Yw"
      },
      "source": [
        "#california_temp_annual.info\n"
      ],
      "execution_count": null,
      "outputs": []
    },
    {
      "cell_type": "code",
      "metadata": {
        "id": "vnl2bLLx3PVq",
        "colab": {
          "base_uri": "https://localhost:8080/",
          "height": 425
        },
        "outputId": "f07fd5ef-d35e-4dc9-a62a-bde91a29c02d"
      },
      "source": [
        "# Create Training and Test\n",
        "train = california_temp_annual[10:]\n",
        "test = california_temp_annual[:10]\n",
        "#Changing the names to fit FB Prophit\n",
        "train_all= california_temp_annual.reset_index().rename(columns={'Year':'ds', 'Annual Average °C':'y'})  # rename necesario para Prophet\n",
        "#Putting it in a model\n",
        "modelo_all=Prophet().fit(train_all)\n",
        "train_all.head()\n",
        "#Forcating \n",
        "future = modelo_all.make_future_dataframe(periods=10, freq='YS')\n",
        "forcast = modelo_all.predict(future)\n",
        "#Get only needed data \n",
        "New_data = forcast[forcast['ds'] >= '2021']\n",
        "#Change the name back\n",
        "New_data.rename(columns={'ds':'Year'},inplace=True)\n",
        "#set index\n",
        "New_data.set_index('Year', inplace=True)\n",
        "#Only get the columns you need\n",
        "data_temp = New_data['yhat']\n",
        "data_temp = pd.DataFrame(data_temp)\n",
        "#rename again.\n",
        "data_temp.rename(columns={'yhat': 'Annual Average °C'}, inplace=True)\n",
        "#flip the order\n",
        "data_temp = data_temp.sort_index(ascending=False)\n",
        "#Reset indexes so i can concat\n",
        "data_temp.reset_index(inplace=True)\n",
        "california_temp_annual.reset_index(inplace=True)\n",
        "all_dfs = [data_temp, california_temp_annual]\n",
        "#function to concat and add index again. \n",
        "for df in all_dfs:\n",
        "    df.columns = ['Year', 'Annual Average °C']\n",
        "\n",
        "california_temp_annual_Prediction = pd.concat(all_dfs).reset_index(drop=True)\n",
        "california_temp_annual_Prediction.set_index('Year', inplace=True)\n",
        "#done\n",
        "california_temp_annual_Prediction.head()"
      ],
      "execution_count": null,
      "outputs": [
        {
          "output_type": "stream",
          "text": [
            "INFO:fbprophet:Disabling weekly seasonality. Run prophet with weekly_seasonality=True to override this.\n",
            "INFO:fbprophet:Disabling daily seasonality. Run prophet with daily_seasonality=True to override this.\n",
            "/usr/local/lib/python3.7/dist-packages/pandas/core/frame.py:4308: SettingWithCopyWarning:\n",
            "\n",
            "\n",
            "A value is trying to be set on a copy of a slice from a DataFrame\n",
            "\n",
            "See the caveats in the documentation: https://pandas.pydata.org/pandas-docs/stable/user_guide/indexing.html#returning-a-view-versus-a-copy\n",
            "\n"
          ],
          "name": "stderr"
        },
        {
          "output_type": "execute_result",
          "data": {
            "text/html": [
              "<div>\n",
              "<style scoped>\n",
              "    .dataframe tbody tr th:only-of-type {\n",
              "        vertical-align: middle;\n",
              "    }\n",
              "\n",
              "    .dataframe tbody tr th {\n",
              "        vertical-align: top;\n",
              "    }\n",
              "\n",
              "    .dataframe thead th {\n",
              "        text-align: right;\n",
              "    }\n",
              "</style>\n",
              "<table border=\"1\" class=\"dataframe\">\n",
              "  <thead>\n",
              "    <tr style=\"text-align: right;\">\n",
              "      <th></th>\n",
              "      <th>Annual Average °C</th>\n",
              "    </tr>\n",
              "    <tr>\n",
              "      <th>Year</th>\n",
              "      <th></th>\n",
              "    </tr>\n",
              "  </thead>\n",
              "  <tbody>\n",
              "    <tr>\n",
              "      <th>2030-01-01</th>\n",
              "      <td>19.112650</td>\n",
              "    </tr>\n",
              "    <tr>\n",
              "      <th>2029-01-01</th>\n",
              "      <td>19.319292</td>\n",
              "    </tr>\n",
              "    <tr>\n",
              "      <th>2028-01-01</th>\n",
              "      <td>19.306126</td>\n",
              "    </tr>\n",
              "    <tr>\n",
              "      <th>2027-01-01</th>\n",
              "      <td>19.099811</td>\n",
              "    </tr>\n",
              "    <tr>\n",
              "      <th>2026-01-01</th>\n",
              "      <td>19.100029</td>\n",
              "    </tr>\n",
              "  </tbody>\n",
              "</table>\n",
              "</div>"
            ],
            "text/plain": [
              "            Annual Average °C\n",
              "Year                         \n",
              "2030-01-01          19.112650\n",
              "2029-01-01          19.319292\n",
              "2028-01-01          19.306126\n",
              "2027-01-01          19.099811\n",
              "2026-01-01          19.100029"
            ]
          },
          "metadata": {
            "tags": []
          },
          "execution_count": 224
        }
      ]
    },
    {
      "cell_type": "markdown",
      "metadata": {
        "id": "STnYJuw8fFiD"
      },
      "source": [
        "### CO2 Emitions"
      ]
    },
    {
      "cell_type": "code",
      "metadata": {
        "id": "GWA8mQkSfJwD",
        "colab": {
          "base_uri": "https://localhost:8080/",
          "height": 258
        },
        "outputId": "ebc008b3-2b5d-4c18-ec21-30f6c41bed88"
      },
      "source": [
        "CO2 = pd.read_csv('/content/drive/MyDrive/Ironhack/Final_Project/co2-concentration-long-term.csv')\n",
        "CO2.head()"
      ],
      "execution_count": null,
      "outputs": [
        {
          "output_type": "execute_result",
          "data": {
            "text/html": [
              "<div>\n",
              "<style scoped>\n",
              "    .dataframe tbody tr th:only-of-type {\n",
              "        vertical-align: middle;\n",
              "    }\n",
              "\n",
              "    .dataframe tbody tr th {\n",
              "        vertical-align: top;\n",
              "    }\n",
              "\n",
              "    .dataframe thead th {\n",
              "        text-align: right;\n",
              "    }\n",
              "</style>\n",
              "<table border=\"1\" class=\"dataframe\">\n",
              "  <thead>\n",
              "    <tr style=\"text-align: right;\">\n",
              "      <th></th>\n",
              "      <th>Entity</th>\n",
              "      <th>Code</th>\n",
              "      <th>Year</th>\n",
              "      <th>CO2 concentrations (NOAA, 2018)</th>\n",
              "    </tr>\n",
              "  </thead>\n",
              "  <tbody>\n",
              "    <tr>\n",
              "      <th>0</th>\n",
              "      <td>World</td>\n",
              "      <td>OWID_WRL</td>\n",
              "      <td>-803719</td>\n",
              "      <td>207.29</td>\n",
              "    </tr>\n",
              "    <tr>\n",
              "      <th>1</th>\n",
              "      <td>World</td>\n",
              "      <td>OWID_WRL</td>\n",
              "      <td>-803182</td>\n",
              "      <td>202.23</td>\n",
              "    </tr>\n",
              "    <tr>\n",
              "      <th>2</th>\n",
              "      <td>World</td>\n",
              "      <td>OWID_WRL</td>\n",
              "      <td>-802573</td>\n",
              "      <td>204.86</td>\n",
              "    </tr>\n",
              "    <tr>\n",
              "      <th>3</th>\n",
              "      <td>World</td>\n",
              "      <td>OWID_WRL</td>\n",
              "      <td>-802060</td>\n",
              "      <td>207.50</td>\n",
              "    </tr>\n",
              "    <tr>\n",
              "      <th>4</th>\n",
              "      <td>World</td>\n",
              "      <td>OWID_WRL</td>\n",
              "      <td>-801975</td>\n",
              "      <td>202.92</td>\n",
              "    </tr>\n",
              "  </tbody>\n",
              "</table>\n",
              "</div>"
            ],
            "text/plain": [
              "  Entity      Code    Year  CO2 concentrations (NOAA, 2018)\n",
              "0  World  OWID_WRL -803719                           207.29\n",
              "1  World  OWID_WRL -803182                           202.23\n",
              "2  World  OWID_WRL -802573                           204.86\n",
              "3  World  OWID_WRL -802060                           207.50\n",
              "4  World  OWID_WRL -801975                           202.92"
            ]
          },
          "metadata": {
            "tags": []
          },
          "execution_count": 225
        }
      ]
    },
    {
      "cell_type": "code",
      "metadata": {
        "id": "c0ofK5_ifiqS"
      },
      "source": [
        "CO2 = CO2.drop(columns={'Entity', 'Code'})"
      ],
      "execution_count": null,
      "outputs": []
    },
    {
      "cell_type": "code",
      "metadata": {
        "id": "AeuhcluWgD42"
      },
      "source": [
        "CO2.rename(columns={'CO2 concentrations (NOAA, 2018)': 'CO2 Concentrations'}, inplace=True)"
      ],
      "execution_count": null,
      "outputs": []
    },
    {
      "cell_type": "code",
      "metadata": {
        "id": "6yTLY1UDNjMx"
      },
      "source": [
        "CO2 = CO2[CO2['Year'] >= 1900]\n",
        "CO2['Year'] = CO2['Year'].astype(str)\n",
        "CO2['Year'] = CO2.apply(lambda x : x['Year']+'0101', axis=1 )\n",
        "CO2['Year'] = CO2['Year'].astype(int)\n",
        "CO2 = CO2.set_index('Year')\n",
        "CO2.index = pd.to_datetime(CO2.index, format='%Y%m%d', errors='ignore')\n",
        "CO2= CO2.sort_index(ascending=False) \n"
      ],
      "execution_count": null,
      "outputs": []
    },
    {
      "cell_type": "code",
      "metadata": {
        "id": "4IfLAq8EO6My"
      },
      "source": [
        "#CO2.head()"
      ],
      "execution_count": null,
      "outputs": []
    },
    {
      "cell_type": "code",
      "metadata": {
        "id": "WNiH1TsGVyKz"
      },
      "source": [
        "#CO2.info()"
      ],
      "execution_count": null,
      "outputs": []
    },
    {
      "cell_type": "code",
      "metadata": {
        "id": "dBvdfYJkh-KN",
        "colab": {
          "base_uri": "https://localhost:8080/",
          "height": 71
        },
        "outputId": "d6514fa4-fa8e-4306-d09a-5a51e19eb3d2"
      },
      "source": [
        "CO2.plot()"
      ],
      "execution_count": null,
      "outputs": [
        {
          "output_type": "execute_result",
          "data": {
            "text/plain": [
              "<matplotlib.axes._subplots.AxesSubplot at 0x7f6af98a2310>"
            ]
          },
          "metadata": {
            "tags": []
          },
          "execution_count": 231
        },
        {
          "output_type": "display_data",
          "data": {
            "image/png": "[encoded data removed]",
            "text/plain": [
              "<Figure size 432x288 with 1 Axes>"
            ]
          },
          "metadata": {
            "tags": [],
            "needs_background": "light"
          }
        }
      ]
    },
    {
      "cell_type": "code",
      "metadata": {
        "id": "vYV1CuOIXGKU",
        "colab": {
          "base_uri": "https://localhost:8080/",
          "height": 71
        },
        "outputId": "2cf1037e-7574-4af4-9893-c0cac39a764a"
      },
      "source": [
        "fig = plt.figure(figsize=[10, 8])\n",
        "decompsition = sm.tsa.seasonal_decompose(CO2['CO2 Concentrations'], model='additive', freq=1)\n",
        "fig = decompsition.plot()\n",
        "plt.show()"
      ],
      "execution_count": null,
      "outputs": [
        {
          "output_type": "display_data",
          "data": {
            "text/plain": [
              "<Figure size 720x576 with 0 Axes>"
            ]
          },
          "metadata": {
            "tags": []
          }
        },
        {
          "output_type": "display_data",
          "data": {
            "image/png": "[encoded data removed]",
            "text/plain": [
              "<Figure size 432x288 with 4 Axes>"
            ]
          },
          "metadata": {
            "tags": [],
            "needs_background": "light"
          }
        }
      ]
    },
    {
      "cell_type": "code",
      "metadata": {
        "id": "Di0marKj82Xz"
      },
      "source": [
        " CO2 = CO2[CO2.index >= '1969-01-01']"
      ],
      "execution_count": null,
      "outputs": []
    },
    {
      "cell_type": "code",
      "metadata": {
        "id": "ETSTv6DX8_wo",
        "colab": {
          "base_uri": "https://localhost:8080/"
        },
        "outputId": "7de4d0ad-8bc2-4a33-de96-24c7bb5de894"
      },
      "source": [
        "print(len(CO2))"
      ],
      "execution_count": null,
      "outputs": [
        {
          "output_type": "stream",
          "text": [
            "50\n"
          ],
          "name": "stdout"
        }
      ]
    },
    {
      "cell_type": "code",
      "metadata": {
        "id": "DHH0ySOF8cUP",
        "colab": {
          "base_uri": "https://localhost:8080/",
          "height": 510
        },
        "outputId": "79c7eb2a-0cf6-4fc4-adb6-85fb51c0859b"
      },
      "source": [
        "# Create Training and Test\n",
        "train = CO2[10:]\n",
        "test = CO2[:10]\n",
        "#Changing the names to fit FB Prophit\n",
        "train_all= CO2.reset_index().rename(columns={'Year':'ds', 'CO2 Concentrations':'y'})  # rename necesario para Prophet\n",
        "#Putting it in a model\n",
        "modelo_all=Prophet().fit(train_all)\n",
        "train_all.head()\n",
        "#Forcating \n",
        "future = modelo_all.make_future_dataframe(periods=12, freq='YS')\n",
        "forcast = modelo_all.predict(future)\n",
        "#Get only needed data \n",
        "New_data = forcast[forcast['ds'] >= '2019']\n",
        "#Change the name back\n",
        "New_data.rename(columns={'ds':'Year'},inplace=True)\n",
        "#set index\n",
        "New_data.set_index('Year', inplace=True)\n",
        "#Only get the columns you need\n",
        "data_temp = New_data['yhat']\n",
        "data_temp = pd.DataFrame(data_temp)\n",
        "#rename again.\n",
        "data_temp.rename(columns={'yhat': 'CO2 Concentrations'}, inplace=True)\n",
        "#flip the order\n",
        "data_temp = data_temp.sort_index(ascending=False)\n",
        "#Reset indexes so i can concat\n",
        "data_temp.reset_index(inplace=True)\n",
        "CO2.reset_index(inplace=True)\n",
        "all_dfs = [data_temp, CO2]\n",
        "#function to concat and add index again. \n",
        "for df in all_dfs:\n",
        "    df.columns = ['Year', 'CO2 Concentrations']\n",
        "\n",
        "CO2_Prediction = pd.concat(all_dfs).reset_index(drop=True)\n",
        "CO2_Prediction.set_index('Year', inplace=True)\n",
        "#done\n",
        "CO2_Prediction.head()"
      ],
      "execution_count": null,
      "outputs": [
        {
          "output_type": "stream",
          "text": [
            "INFO:fbprophet:Disabling weekly seasonality. Run prophet with weekly_seasonality=True to override this.\n",
            "INFO:fbprophet:Disabling daily seasonality. Run prophet with daily_seasonality=True to override this.\n",
            "/usr/local/lib/python3.7/dist-packages/pandas/core/frame.py:4308: SettingWithCopyWarning:\n",
            "\n",
            "\n",
            "A value is trying to be set on a copy of a slice from a DataFrame\n",
            "\n",
            "See the caveats in the documentation: https://pandas.pydata.org/pandas-docs/stable/user_guide/indexing.html#returning-a-view-versus-a-copy\n",
            "\n"
          ],
          "name": "stderr"
        },
        {
          "output_type": "execute_result",
          "data": {
            "text/html": [
              "<div>\n",
              "<style scoped>\n",
              "    .dataframe tbody tr th:only-of-type {\n",
              "        vertical-align: middle;\n",
              "    }\n",
              "\n",
              "    .dataframe tbody tr th {\n",
              "        vertical-align: top;\n",
              "    }\n",
              "\n",
              "    .dataframe thead th {\n",
              "        text-align: right;\n",
              "    }\n",
              "</style>\n",
              "<table border=\"1\" class=\"dataframe\">\n",
              "  <thead>\n",
              "    <tr style=\"text-align: right;\">\n",
              "      <th></th>\n",
              "      <th>CO2 Concentrations</th>\n",
              "    </tr>\n",
              "    <tr>\n",
              "      <th>Year</th>\n",
              "      <th></th>\n",
              "    </tr>\n",
              "  </thead>\n",
              "  <tbody>\n",
              "    <tr>\n",
              "      <th>2030-01-01</th>\n",
              "      <td>436.161328</td>\n",
              "    </tr>\n",
              "    <tr>\n",
              "      <th>2029-01-01</th>\n",
              "      <td>433.821964</td>\n",
              "    </tr>\n",
              "    <tr>\n",
              "      <th>2028-01-01</th>\n",
              "      <td>431.497367</td>\n",
              "    </tr>\n",
              "    <tr>\n",
              "      <th>2027-01-01</th>\n",
              "      <td>429.191116</td>\n",
              "    </tr>\n",
              "    <tr>\n",
              "      <th>2026-01-01</th>\n",
              "      <td>426.889434</td>\n",
              "    </tr>\n",
              "  </tbody>\n",
              "</table>\n",
              "</div>"
            ],
            "text/plain": [
              "            CO2 Concentrations\n",
              "Year                          \n",
              "2030-01-01          436.161328\n",
              "2029-01-01          433.821964\n",
              "2028-01-01          431.497367\n",
              "2027-01-01          429.191116\n",
              "2026-01-01          426.889434"
            ]
          },
          "metadata": {
            "tags": []
          },
          "execution_count": 235
        }
      ]
    },
    {
      "cell_type": "markdown",
      "metadata": {
        "id": "tqyp9ISuaysO"
      },
      "source": [
        "### Average Rain fall Per year\n"
      ]
    },
    {
      "cell_type": "code",
      "metadata": {
        "id": "8Fb_P6yFawCS"
      },
      "source": [
        "rain = pd.read_csv('/content/drive/MyDrive/Ironhack/Final_Project/Average Rainfall in the wet seasons California. - Sheet1.csv')"
      ],
      "execution_count": null,
      "outputs": []
    },
    {
      "cell_type": "code",
      "metadata": {
        "id": "CfqOWTCYbRfv",
        "colab": {
          "base_uri": "https://localhost:8080/",
          "height": 309
        },
        "outputId": "9e9a9d6b-8ac8-42b7-e6c4-8244da9aa713"
      },
      "source": [
        "rain.head()"
      ],
      "execution_count": null,
      "outputs": [
        {
          "output_type": "execute_result",
          "data": {
            "text/html": [
              "<div>\n",
              "<style scoped>\n",
              "    .dataframe tbody tr th:only-of-type {\n",
              "        vertical-align: middle;\n",
              "    }\n",
              "\n",
              "    .dataframe tbody tr th {\n",
              "        vertical-align: top;\n",
              "    }\n",
              "\n",
              "    .dataframe thead th {\n",
              "        text-align: right;\n",
              "    }\n",
              "</style>\n",
              "<table border=\"1\" class=\"dataframe\">\n",
              "  <thead>\n",
              "    <tr style=\"text-align: right;\">\n",
              "      <th></th>\n",
              "      <th>Season (July 1-June 30)</th>\n",
              "      <th>Total Inches of Rainfall</th>\n",
              "      <th>Inches Above/Below (+/-)\\nOverall Season Average*</th>\n",
              "    </tr>\n",
              "  </thead>\n",
              "  <tbody>\n",
              "    <tr>\n",
              "      <th>0</th>\n",
              "      <td>2021</td>\n",
              "      <td>5.82</td>\n",
              "      <td>-8.85</td>\n",
              "    </tr>\n",
              "    <tr>\n",
              "      <th>1</th>\n",
              "      <td>2020</td>\n",
              "      <td>14.86</td>\n",
              "      <td>0.19</td>\n",
              "    </tr>\n",
              "    <tr>\n",
              "      <th>2</th>\n",
              "      <td>2019</td>\n",
              "      <td>18.82</td>\n",
              "      <td>4.15</td>\n",
              "    </tr>\n",
              "    <tr>\n",
              "      <th>3</th>\n",
              "      <td>2018</td>\n",
              "      <td>4.79</td>\n",
              "      <td>-9.88</td>\n",
              "    </tr>\n",
              "    <tr>\n",
              "      <th>4</th>\n",
              "      <td>2017</td>\n",
              "      <td>19.00</td>\n",
              "      <td>4.33</td>\n",
              "    </tr>\n",
              "  </tbody>\n",
              "</table>\n",
              "</div>"
            ],
            "text/plain": [
              "   Season (July 1-June 30)  ...  Inches Above/Below (+/-)\\nOverall Season Average*\n",
              "0                     2021  ...                                              -8.85\n",
              "1                     2020  ...                                               0.19\n",
              "2                     2019  ...                                               4.15\n",
              "3                     2018  ...                                              -9.88\n",
              "4                     2017  ...                                               4.33\n",
              "\n",
              "[5 rows x 3 columns]"
            ]
          },
          "metadata": {
            "tags": []
          },
          "execution_count": 237
        }
      ]
    },
    {
      "cell_type": "code",
      "metadata": {
        "id": "2PAbsUa6bUJV"
      },
      "source": [
        "\n",
        "rain.rename(columns={'Season (July 1-June 30)':'Year'},inplace=True)\n",
        "rain['Year'] = rain['Year'].astype(str)\n",
        "rain['Year'] = rain.apply(lambda x : x['Year']+'0101', axis=1 )\n",
        "rain['Year'] = rain['Year'].astype(int)\n",
        "rain.set_index('Year',inplace=True)"
      ],
      "execution_count": null,
      "outputs": []
    },
    {
      "cell_type": "code",
      "metadata": {
        "id": "5of12TYubqg1"
      },
      "source": [
        "#rain.rename(columns={'Inches Above/Below (+/-)\\nOverall Season Average*':'Change'},inplace=True)"
      ],
      "execution_count": null,
      "outputs": []
    },
    {
      "cell_type": "code",
      "metadata": {
        "id": "R0V0Ulxzb-Ah"
      },
      "source": [
        "rain.drop(columns='Inches Above/Below (+/-)\\nOverall Season Average*', inplace=True)"
      ],
      "execution_count": null,
      "outputs": []
    },
    {
      "cell_type": "code",
      "metadata": {
        "id": "wUF0NWtdcvoa"
      },
      "source": [
        "rain.index = pd.to_datetime(rain.index, format='%Y%m%d', errors='ignore')"
      ],
      "execution_count": null,
      "outputs": []
    },
    {
      "cell_type": "code",
      "metadata": {
        "id": "evSGcNNq7kb-",
        "colab": {
          "base_uri": "https://localhost:8080/",
          "height": 544
        },
        "outputId": "e64c400f-0288-4dd4-e0fb-d5ab164df967"
      },
      "source": [
        "\n",
        "#Changing the names to fit FB Prophit\n",
        "train_all= rain.reset_index().rename(columns={'Year':'ds', 'Total Inches of Rainfall':'y'})  # rename necesario para Prophet\n",
        "#Putting it in a model\n",
        "modelo_all=Prophet().fit(train_all)\n",
        "train_all.head()\n",
        "#Forcating \n",
        "future = modelo_all.make_future_dataframe(periods=9, freq='YS')\n",
        "forcast = modelo_all.predict(future)\n",
        "#Get only needed data \n",
        "New_data = forcast[forcast['ds'] >= '2019']\n",
        "#Change the name back\n",
        "New_data.rename(columns={'ds':'Year'},inplace=True)\n",
        "#set index\n",
        "New_data.set_index('Year', inplace=True)\n",
        "#Only get the columns you need\n",
        "data_temp = New_data['yhat']\n",
        "data_temp = pd.DataFrame(data_temp)\n",
        "#rename again.\n",
        "data_temp.rename(columns={'yhat': 'Total Inches of Rainfall'}, inplace=True)\n",
        "#flip the order\n",
        "data_temp = data_temp.sort_index(ascending=False)\n",
        "#Reset indexes so i can concat\n",
        "data_temp.reset_index(inplace=True)\n",
        "rain.reset_index(inplace=True)\n",
        "all_dfs = [data_temp, rain]\n",
        "#function to concat and add index again. \n",
        "for df in all_dfs:\n",
        "    df.columns = ['Year', 'Total Inches of Rainfall']\n",
        "\n",
        "Rain_Prediction = pd.concat(all_dfs).reset_index(drop=True)\n",
        "Rain_Prediction.set_index('Year', inplace=True)\n",
        "#done\n",
        "Rain_Prediction.head()"
      ],
      "execution_count": null,
      "outputs": [
        {
          "output_type": "stream",
          "text": [
            "INFO:fbprophet:Disabling weekly seasonality. Run prophet with weekly_seasonality=True to override this.\n",
            "INFO:fbprophet:Disabling daily seasonality. Run prophet with daily_seasonality=True to override this.\n",
            "/usr/local/lib/python3.7/dist-packages/pandas/core/frame.py:4308: SettingWithCopyWarning:\n",
            "\n",
            "\n",
            "A value is trying to be set on a copy of a slice from a DataFrame\n",
            "\n",
            "See the caveats in the documentation: https://pandas.pydata.org/pandas-docs/stable/user_guide/indexing.html#returning-a-view-versus-a-copy\n",
            "\n"
          ],
          "name": "stderr"
        },
        {
          "output_type": "execute_result",
          "data": {
            "text/html": [
              "<div>\n",
              "<style scoped>\n",
              "    .dataframe tbody tr th:only-of-type {\n",
              "        vertical-align: middle;\n",
              "    }\n",
              "\n",
              "    .dataframe tbody tr th {\n",
              "        vertical-align: top;\n",
              "    }\n",
              "\n",
              "    .dataframe thead th {\n",
              "        text-align: right;\n",
              "    }\n",
              "</style>\n",
              "<table border=\"1\" class=\"dataframe\">\n",
              "  <thead>\n",
              "    <tr style=\"text-align: right;\">\n",
              "      <th></th>\n",
              "      <th>Total Inches of Rainfall</th>\n",
              "    </tr>\n",
              "    <tr>\n",
              "      <th>Year</th>\n",
              "      <th></th>\n",
              "    </tr>\n",
              "  </thead>\n",
              "  <tbody>\n",
              "    <tr>\n",
              "      <th>2030-01-01</th>\n",
              "      <td>11.719462</td>\n",
              "    </tr>\n",
              "    <tr>\n",
              "      <th>2029-01-01</th>\n",
              "      <td>12.377581</td>\n",
              "    </tr>\n",
              "    <tr>\n",
              "      <th>2028-01-01</th>\n",
              "      <td>10.627689</td>\n",
              "    </tr>\n",
              "    <tr>\n",
              "      <th>2027-01-01</th>\n",
              "      <td>11.350929</td>\n",
              "    </tr>\n",
              "    <tr>\n",
              "      <th>2026-01-01</th>\n",
              "      <td>12.041968</td>\n",
              "    </tr>\n",
              "  </tbody>\n",
              "</table>\n",
              "</div>"
            ],
            "text/plain": [
              "            Total Inches of Rainfall\n",
              "Year                                \n",
              "2030-01-01                 11.719462\n",
              "2029-01-01                 12.377581\n",
              "2028-01-01                 10.627689\n",
              "2027-01-01                 11.350929\n",
              "2026-01-01                 12.041968"
            ]
          },
          "metadata": {
            "tags": []
          },
          "execution_count": 242
        }
      ]
    },
    {
      "cell_type": "code",
      "metadata": {
        "id": "wUGeUfI9cWOl",
        "colab": {
          "base_uri": "https://localhost:8080/",
          "height": 391
        },
        "outputId": "ce8cfcdf-1ac2-4af6-8c62-4f51cfc5f808"
      },
      "source": [
        "Rain_Prediction.head()"
      ],
      "execution_count": null,
      "outputs": [
        {
          "output_type": "execute_result",
          "data": {
            "text/html": [
              "<div>\n",
              "<style scoped>\n",
              "    .dataframe tbody tr th:only-of-type {\n",
              "        vertical-align: middle;\n",
              "    }\n",
              "\n",
              "    .dataframe tbody tr th {\n",
              "        vertical-align: top;\n",
              "    }\n",
              "\n",
              "    .dataframe thead th {\n",
              "        text-align: right;\n",
              "    }\n",
              "</style>\n",
              "<table border=\"1\" class=\"dataframe\">\n",
              "  <thead>\n",
              "    <tr style=\"text-align: right;\">\n",
              "      <th></th>\n",
              "      <th>Total Inches of Rainfall</th>\n",
              "    </tr>\n",
              "    <tr>\n",
              "      <th>Year</th>\n",
              "      <th></th>\n",
              "    </tr>\n",
              "  </thead>\n",
              "  <tbody>\n",
              "    <tr>\n",
              "      <th>2030-01-01</th>\n",
              "      <td>11.719462</td>\n",
              "    </tr>\n",
              "    <tr>\n",
              "      <th>2029-01-01</th>\n",
              "      <td>12.377581</td>\n",
              "    </tr>\n",
              "    <tr>\n",
              "      <th>2028-01-01</th>\n",
              "      <td>10.627689</td>\n",
              "    </tr>\n",
              "    <tr>\n",
              "      <th>2027-01-01</th>\n",
              "      <td>11.350929</td>\n",
              "    </tr>\n",
              "    <tr>\n",
              "      <th>2026-01-01</th>\n",
              "      <td>12.041968</td>\n",
              "    </tr>\n",
              "  </tbody>\n",
              "</table>\n",
              "</div>"
            ],
            "text/plain": [
              "            Total Inches of Rainfall\n",
              "Year                                \n",
              "2030-01-01                 11.719462\n",
              "2029-01-01                 12.377581\n",
              "2028-01-01                 10.627689\n",
              "2027-01-01                 11.350929\n",
              "2026-01-01                 12.041968"
            ]
          },
          "metadata": {
            "tags": []
          },
          "execution_count": 243
        }
      ]
    },
    {
      "cell_type": "code",
      "metadata": {
        "id": "Smu6FGElfLvm",
        "colab": {
          "base_uri": "https://localhost:8080/",
          "height": 71
        },
        "outputId": "54de6928-3e98-4086-a1b7-e49fa3f9d19f"
      },
      "source": [
        "Rain_Prediction.plot()"
      ],
      "execution_count": null,
      "outputs": [
        {
          "output_type": "execute_result",
          "data": {
            "text/plain": [
              "<matplotlib.axes._subplots.AxesSubplot at 0x7f6af98eb9d0>"
            ]
          },
          "metadata": {
            "tags": []
          },
          "execution_count": 244
        },
        {
          "output_type": "display_data",
          "data": {
            "image/png": "[encoded data removed]",
            "text/plain": [
              "<Figure size 432x288 with 1 Axes>"
            ]
          },
          "metadata": {
            "tags": [],
            "needs_background": "light"
          }
        }
      ]
    },
    {
      "cell_type": "markdown",
      "metadata": {
        "id": "auVwjOm8hIeo"
      },
      "source": [
        "### Almond price per year in Cali"
      ]
    },
    {
      "cell_type": "code",
      "metadata": {
        "id": "02sJpPLog9r5"
      },
      "source": [
        "almonds = pd.read_csv('/content/drive/MyDrive/Ironhack/Final_Project/Almond Prices and production - Sheet1.csv')"
      ],
      "execution_count": null,
      "outputs": []
    },
    {
      "cell_type": "code",
      "metadata": {
        "id": "zWwfZdBti_3w"
      },
      "source": [
        "almonds['Year'] = almonds['Year'].astype(str)\n",
        "almonds['Year'] = almonds.apply(lambda x : x['Year']+'0101', axis=1 )\n",
        "almonds = almonds.sort_index(ascending=False)\n",
        "almonds['Year'] = almonds['Year'].astype(int)\n",
        "almonds.set_index('Year', inplace=True)\n",
        "almonds.index = pd.to_datetime(almonds.index, format='%Y%m%d', errors='ignore')"
      ],
      "execution_count": null,
      "outputs": []
    },
    {
      "cell_type": "code",
      "metadata": {
        "colab": {
          "base_uri": "https://localhost:8080/",
          "height": 235
        },
        "id": "XA3Kx6GRh8ye",
        "outputId": "4a9edfe8-071c-4b5a-dc36-34e271593a39"
      },
      "source": [
        "almonds.head()"
      ],
      "execution_count": null,
      "outputs": [
        {
          "output_type": "execute_result",
          "data": {
            "text/html": [
              "<div>\n",
              "<style scoped>\n",
              "    .dataframe tbody tr th:only-of-type {\n",
              "        vertical-align: middle;\n",
              "    }\n",
              "\n",
              "    .dataframe tbody tr th {\n",
              "        vertical-align: top;\n",
              "    }\n",
              "\n",
              "    .dataframe thead th {\n",
              "        text-align: right;\n",
              "    }\n",
              "</style>\n",
              "<table border=\"1\" class=\"dataframe\">\n",
              "  <thead>\n",
              "    <tr style=\"text-align: right;\">\n",
              "      <th></th>\n",
              "      <th>Production millon pounds</th>\n",
              "      <th>Price per pound</th>\n",
              "      <th>Price Per Pound</th>\n",
              "    </tr>\n",
              "    <tr>\n",
              "      <th>Year</th>\n",
              "      <th></th>\n",
              "      <th></th>\n",
              "      <th></th>\n",
              "    </tr>\n",
              "  </thead>\n",
              "  <tbody>\n",
              "    <tr>\n",
              "      <th>2020-01-01</th>\n",
              "      <td>3115</td>\n",
              "      <td>1.83</td>\n",
              "      <td>5619930</td>\n",
              "    </tr>\n",
              "    <tr>\n",
              "      <th>2019-01-01</th>\n",
              "      <td>2560</td>\n",
              "      <td>2.45</td>\n",
              "      <td>6169100</td>\n",
              "    </tr>\n",
              "    <tr>\n",
              "      <th>2018-01-01</th>\n",
              "      <td>2280</td>\n",
              "      <td>2.50</td>\n",
              "      <td>5602500</td>\n",
              "    </tr>\n",
              "    <tr>\n",
              "      <th>2017-01-01</th>\n",
              "      <td>2270</td>\n",
              "      <td>2.53</td>\n",
              "      <td>5603950</td>\n",
              "    </tr>\n",
              "    <tr>\n",
              "      <th>2016-01-01</th>\n",
              "      <td>2140</td>\n",
              "      <td>2.39</td>\n",
              "      <td>5052460</td>\n",
              "    </tr>\n",
              "  </tbody>\n",
              "</table>\n",
              "</div>"
            ],
            "text/plain": [
              "            Production millon pounds  Price per pound  Price Per Pound\n",
              "Year                                                                  \n",
              "2020-01-01                      3115             1.83          5619930\n",
              "2019-01-01                      2560             2.45          6169100\n",
              "2018-01-01                      2280             2.50          5602500\n",
              "2017-01-01                      2270             2.53          5603950\n",
              "2016-01-01                      2140             2.39          5052460"
            ]
          },
          "metadata": {
            "tags": []
          },
          "execution_count": 247
        }
      ]
    },
    {
      "cell_type": "code",
      "metadata": {
        "id": "zLzgOKRRkht0"
      },
      "source": [
        "almonds.rename(columns={'Price Per Pound': 'Revenue Total'}, inplace=True)"
      ],
      "execution_count": null,
      "outputs": []
    },
    {
      "cell_type": "code",
      "metadata": {
        "id": "q5R6yAiDnJ31"
      },
      "source": [
        "almonds.index = pd.to_datetime(almonds.index)"
      ],
      "execution_count": null,
      "outputs": []
    },
    {
      "cell_type": "code",
      "metadata": {
        "colab": {
          "base_uri": "https://localhost:8080/",
          "height": 307
        },
        "id": "F1ZZ5vbpmaAW",
        "outputId": "1d1339ea-c465-4e7c-ab85-7c39f3989586"
      },
      "source": [
        "almonds.plot()"
      ],
      "execution_count": null,
      "outputs": [
        {
          "output_type": "execute_result",
          "data": {
            "text/plain": [
              "<matplotlib.axes._subplots.AxesSubplot at 0x7f6af9219e10>"
            ]
          },
          "metadata": {
            "tags": []
          },
          "execution_count": 250
        },
        {
          "output_type": "display_data",
          "data": {
            "image/png": "[encoded data removed]",
            "text/plain": [
              "<Figure size 432x288 with 1 Axes>"
            ]
          },
          "metadata": {
            "tags": [],
            "needs_background": "light"
          }
        }
      ]
    },
    {
      "cell_type": "code",
      "metadata": {
        "id": "anXkhvElkHwf"
      },
      "source": [
        "almond_price = almonds['Price per pound']\n",
        "almond_production = almonds['Production millon pounds']\n",
        "almond_revenue = almonds['Revenue Total']"
      ],
      "execution_count": null,
      "outputs": []
    },
    {
      "cell_type": "code",
      "metadata": {
        "id": "gqgeds_ckVW6"
      },
      "source": [
        ""
      ],
      "execution_count": null,
      "outputs": []
    },
    {
      "cell_type": "code",
      "metadata": {
        "colab": {
          "base_uri": "https://localhost:8080/",
          "height": 425
        },
        "id": "lJVuh8ipmZtd",
        "outputId": "e02036e8-e1a2-4f5f-a93c-f223cfb52672"
      },
      "source": [
        "#Changing the names to fit FB Prophit\n",
        "train_all= almond_price.reset_index().rename(columns={'Year':'ds', 'Price per pound':'y'})  # rename necesario para Prophet\n",
        "#Putting it in a model\n",
        "modelo_all=Prophet().fit(train_all)\n",
        "train_all.head()\n",
        "#Forcating \n",
        "future = modelo_all.make_future_dataframe(periods=10, freq='YS')\n",
        "forcast = modelo_all.predict(future)\n",
        "#Get only needed data \n",
        "New_data = forcast[forcast['ds'] >= '2021']\n",
        "#Change the name back\n",
        "New_data.rename(columns={'ds':'Year'},inplace=True)\n",
        "#set index\n",
        "New_data.set_index('Year', inplace=True)\n",
        "#Only get the columns you need\n",
        "data_temp = New_data['yhat']\n",
        "data_temp = pd.DataFrame(data_temp)\n",
        "#rename again.\n",
        "data_temp.rename(columns={'yhat': 'Price per pound'}, inplace=True)\n",
        "#flip the order\n",
        "data_temp = data_temp.sort_index(ascending=False)\n",
        "#Reset indexes so i can concat\n",
        "data_temp.reset_index(inplace=True)\n",
        "almond_price = pd.DataFrame(almond_price)\n",
        "almond_price.reset_index(inplace=True)\n",
        "all_dfs = [data_temp, almond_price]\n",
        "#function to concat and add index again. \n",
        "for df in all_dfs:\n",
        "    df.columns = ['Year', 'Price per pound']\n",
        "\n",
        "almonds_price_Prediction = pd.concat(all_dfs).reset_index(drop=True)\n",
        "almonds_price_Prediction.set_index('Year', inplace=True)\n",
        "#done\n",
        "almonds_price_Prediction.head()\n"
      ],
      "execution_count": null,
      "outputs": [
        {
          "output_type": "stream",
          "text": [
            "INFO:fbprophet:Disabling weekly seasonality. Run prophet with weekly_seasonality=True to override this.\n",
            "INFO:fbprophet:Disabling daily seasonality. Run prophet with daily_seasonality=True to override this.\n",
            "INFO:fbprophet:n_changepoints greater than number of observations. Using 19.\n",
            "/usr/local/lib/python3.7/dist-packages/pandas/core/frame.py:4308: SettingWithCopyWarning:\n",
            "\n",
            "\n",
            "A value is trying to be set on a copy of a slice from a DataFrame\n",
            "\n",
            "See the caveats in the documentation: https://pandas.pydata.org/pandas-docs/stable/user_guide/indexing.html#returning-a-view-versus-a-copy\n",
            "\n"
          ],
          "name": "stderr"
        },
        {
          "output_type": "execute_result",
          "data": {
            "text/html": [
              "<div>\n",
              "<style scoped>\n",
              "    .dataframe tbody tr th:only-of-type {\n",
              "        vertical-align: middle;\n",
              "    }\n",
              "\n",
              "    .dataframe tbody tr th {\n",
              "        vertical-align: top;\n",
              "    }\n",
              "\n",
              "    .dataframe thead th {\n",
              "        text-align: right;\n",
              "    }\n",
              "</style>\n",
              "<table border=\"1\" class=\"dataframe\">\n",
              "  <thead>\n",
              "    <tr style=\"text-align: right;\">\n",
              "      <th></th>\n",
              "      <th>Price per pound</th>\n",
              "    </tr>\n",
              "    <tr>\n",
              "      <th>Year</th>\n",
              "      <th></th>\n",
              "    </tr>\n",
              "  </thead>\n",
              "  <tbody>\n",
              "    <tr>\n",
              "      <th>2030-01-01</th>\n",
              "      <td>3.304312</td>\n",
              "    </tr>\n",
              "    <tr>\n",
              "      <th>2029-01-01</th>\n",
              "      <td>3.320884</td>\n",
              "    </tr>\n",
              "    <tr>\n",
              "      <th>2028-01-01</th>\n",
              "      <td>3.035243</td>\n",
              "    </tr>\n",
              "    <tr>\n",
              "      <th>2027-01-01</th>\n",
              "      <td>3.066024</td>\n",
              "    </tr>\n",
              "    <tr>\n",
              "      <th>2026-01-01</th>\n",
              "      <td>3.089748</td>\n",
              "    </tr>\n",
              "  </tbody>\n",
              "</table>\n",
              "</div>"
            ],
            "text/plain": [
              "            Price per pound\n",
              "Year                       \n",
              "2030-01-01         3.304312\n",
              "2029-01-01         3.320884\n",
              "2028-01-01         3.035243\n",
              "2027-01-01         3.066024\n",
              "2026-01-01         3.089748"
            ]
          },
          "metadata": {
            "tags": []
          },
          "execution_count": 252
        }
      ]
    },
    {
      "cell_type": "code",
      "metadata": {
        "colab": {
          "base_uri": "https://localhost:8080/",
          "height": 425
        },
        "id": "P8gTBTeTl3Ud",
        "outputId": "ae7e620c-49d2-426c-cb9b-dbcf6c1df594"
      },
      "source": [
        "#Changing the names to fit FB Prophit\n",
        "train_all= almond_revenue.reset_index().rename(columns={'Year':'ds', 'Revenue Total':'y'})  # rename necesario para Prophet\n",
        "#Putting it in a model\n",
        "modelo_all=Prophet().fit(train_all)\n",
        "train_all.head()\n",
        "#Forcating \n",
        "future = modelo_all.make_future_dataframe(periods=10, freq='YS')\n",
        "forcast = modelo_all.predict(future)\n",
        "#Get only needed data \n",
        "New_data = forcast[forcast['ds'] >= '2021']\n",
        "#Change the name back\n",
        "New_data.rename(columns={'ds':'Year'},inplace=True)\n",
        "#set index\n",
        "New_data.set_index('Year', inplace=True)\n",
        "#Only get the columns you need\n",
        "data_temp = New_data['yhat']\n",
        "data_temp = pd.DataFrame(data_temp)\n",
        "#rename again.\n",
        "data_temp.rename(columns={'yhat': 'Revenue Total'}, inplace=True)\n",
        "#flip the order\n",
        "data_temp = data_temp.sort_index(ascending=False)\n",
        "#Reset indexes so i can concat\n",
        "data_temp.reset_index(inplace=True)\n",
        "almond_revenue = pd.DataFrame(almond_revenue)\n",
        "almond_revenue.reset_index(inplace=True)\n",
        "all_dfs = [data_temp, almond_revenue]\n",
        "#function to concat and add index again. \n",
        "for df in all_dfs:\n",
        "    df.columns = ['Year', 'Revenue Total']\n",
        "\n",
        "almond_revenue_Prediction = pd.concat(all_dfs).reset_index(drop=True)\n",
        "almond_revenue_Prediction.set_index('Year', inplace=True)\n",
        "#done\n",
        "almond_revenue_Prediction.head()\n"
      ],
      "execution_count": null,
      "outputs": [
        {
          "output_type": "stream",
          "text": [
            "INFO:fbprophet:Disabling weekly seasonality. Run prophet with weekly_seasonality=True to override this.\n",
            "INFO:fbprophet:Disabling daily seasonality. Run prophet with daily_seasonality=True to override this.\n",
            "INFO:fbprophet:n_changepoints greater than number of observations. Using 19.\n",
            "/usr/local/lib/python3.7/dist-packages/pandas/core/frame.py:4308: SettingWithCopyWarning:\n",
            "\n",
            "\n",
            "A value is trying to be set on a copy of a slice from a DataFrame\n",
            "\n",
            "See the caveats in the documentation: https://pandas.pydata.org/pandas-docs/stable/user_guide/indexing.html#returning-a-view-versus-a-copy\n",
            "\n"
          ],
          "name": "stderr"
        },
        {
          "output_type": "execute_result",
          "data": {
            "text/html": [
              "<div>\n",
              "<style scoped>\n",
              "    .dataframe tbody tr th:only-of-type {\n",
              "        vertical-align: middle;\n",
              "    }\n",
              "\n",
              "    .dataframe tbody tr th {\n",
              "        vertical-align: top;\n",
              "    }\n",
              "\n",
              "    .dataframe thead th {\n",
              "        text-align: right;\n",
              "    }\n",
              "</style>\n",
              "<table border=\"1\" class=\"dataframe\">\n",
              "  <thead>\n",
              "    <tr style=\"text-align: right;\">\n",
              "      <th></th>\n",
              "      <th>Revenue Total</th>\n",
              "    </tr>\n",
              "    <tr>\n",
              "      <th>Year</th>\n",
              "      <th></th>\n",
              "    </tr>\n",
              "  </thead>\n",
              "  <tbody>\n",
              "    <tr>\n",
              "      <th>2030-01-01</th>\n",
              "      <td>9.114915e+06</td>\n",
              "    </tr>\n",
              "    <tr>\n",
              "      <th>2029-01-01</th>\n",
              "      <td>8.918605e+06</td>\n",
              "    </tr>\n",
              "    <tr>\n",
              "      <th>2028-01-01</th>\n",
              "      <td>8.406925e+06</td>\n",
              "    </tr>\n",
              "    <tr>\n",
              "      <th>2027-01-01</th>\n",
              "      <td>8.245074e+06</td>\n",
              "    </tr>\n",
              "    <tr>\n",
              "      <th>2026-01-01</th>\n",
              "      <td>8.066043e+06</td>\n",
              "    </tr>\n",
              "  </tbody>\n",
              "</table>\n",
              "</div>"
            ],
            "text/plain": [
              "            Revenue Total\n",
              "Year                     \n",
              "2030-01-01   9.114915e+06\n",
              "2029-01-01   8.918605e+06\n",
              "2028-01-01   8.406925e+06\n",
              "2027-01-01   8.245074e+06\n",
              "2026-01-01   8.066043e+06"
            ]
          },
          "metadata": {
            "tags": []
          },
          "execution_count": 253
        }
      ]
    },
    {
      "cell_type": "code",
      "metadata": {
        "colab": {
          "base_uri": "https://localhost:8080/",
          "height": 425
        },
        "id": "9tAK8TeXlivH",
        "outputId": "1073055e-f6b1-4110-dc24-d7a66564f631"
      },
      "source": [
        "#Changing the names to fit FB Prophit\n",
        "train_all= almond_production.reset_index().rename(columns={'Year':'ds', 'Production millon pounds':'y'})  # rename necesario para Prophet\n",
        "#Putting it in a model\n",
        "modelo_all=Prophet().fit(train_all)\n",
        "train_all.head()\n",
        "#Forcating \n",
        "future = modelo_all.make_future_dataframe(periods=10, freq='YS')\n",
        "forcast = modelo_all.predict(future)\n",
        "#Get only needed data \n",
        "New_data = forcast[forcast['ds'] >= '2021']\n",
        "#Change the name back\n",
        "New_data.rename(columns={'ds':'Year'},inplace=True)\n",
        "#set index\n",
        "New_data.set_index('Year', inplace=True)\n",
        "#Only get the columns you need\n",
        "data_temp = New_data['yhat']\n",
        "data_temp = pd.DataFrame(data_temp)\n",
        "#rename again.\n",
        "data_temp.rename(columns={'yhat': 'Production millon pounds'}, inplace=True)\n",
        "#flip the order\n",
        "data_temp = data_temp.sort_index(ascending=False)\n",
        "#Reset indexes so i can concat\n",
        "data_temp.reset_index(inplace=True)\n",
        "almond_production = pd.DataFrame(almond_production)\n",
        "almond_production.reset_index(inplace=True)\n",
        "all_dfs = [data_temp, almond_production]\n",
        "#function to concat and add index again. \n",
        "for df in all_dfs:\n",
        "    df.columns = ['Year', 'Production millon pounds']\n",
        "\n",
        "almond_production_Prediction = pd.concat(all_dfs).reset_index(drop=True)\n",
        "almond_production_Prediction.set_index('Year', inplace=True)\n",
        "#done\n",
        "almond_production_Prediction.head()\n"
      ],
      "execution_count": null,
      "outputs": [
        {
          "output_type": "stream",
          "text": [
            "INFO:fbprophet:Disabling weekly seasonality. Run prophet with weekly_seasonality=True to override this.\n",
            "INFO:fbprophet:Disabling daily seasonality. Run prophet with daily_seasonality=True to override this.\n",
            "INFO:fbprophet:n_changepoints greater than number of observations. Using 19.\n",
            "/usr/local/lib/python3.7/dist-packages/pandas/core/frame.py:4308: SettingWithCopyWarning:\n",
            "\n",
            "\n",
            "A value is trying to be set on a copy of a slice from a DataFrame\n",
            "\n",
            "See the caveats in the documentation: https://pandas.pydata.org/pandas-docs/stable/user_guide/indexing.html#returning-a-view-versus-a-copy\n",
            "\n"
          ],
          "name": "stderr"
        },
        {
          "output_type": "execute_result",
          "data": {
            "text/html": [
              "<div>\n",
              "<style scoped>\n",
              "    .dataframe tbody tr th:only-of-type {\n",
              "        vertical-align: middle;\n",
              "    }\n",
              "\n",
              "    .dataframe tbody tr th {\n",
              "        vertical-align: top;\n",
              "    }\n",
              "\n",
              "    .dataframe thead th {\n",
              "        text-align: right;\n",
              "    }\n",
              "</style>\n",
              "<table border=\"1\" class=\"dataframe\">\n",
              "  <thead>\n",
              "    <tr style=\"text-align: right;\">\n",
              "      <th></th>\n",
              "      <th>Production millon pounds</th>\n",
              "    </tr>\n",
              "    <tr>\n",
              "      <th>Year</th>\n",
              "      <th></th>\n",
              "    </tr>\n",
              "  </thead>\n",
              "  <tbody>\n",
              "    <tr>\n",
              "      <th>2030-01-01</th>\n",
              "      <td>3449.624391</td>\n",
              "    </tr>\n",
              "    <tr>\n",
              "      <th>2029-01-01</th>\n",
              "      <td>3327.499875</td>\n",
              "    </tr>\n",
              "    <tr>\n",
              "      <th>2028-01-01</th>\n",
              "      <td>3375.943740</td>\n",
              "    </tr>\n",
              "    <tr>\n",
              "      <th>2027-01-01</th>\n",
              "      <td>3225.348232</td>\n",
              "    </tr>\n",
              "    <tr>\n",
              "      <th>2026-01-01</th>\n",
              "      <td>3088.957516</td>\n",
              "    </tr>\n",
              "  </tbody>\n",
              "</table>\n",
              "</div>"
            ],
            "text/plain": [
              "            Production millon pounds\n",
              "Year                                \n",
              "2030-01-01               3449.624391\n",
              "2029-01-01               3327.499875\n",
              "2028-01-01               3375.943740\n",
              "2027-01-01               3225.348232\n",
              "2026-01-01               3088.957516"
            ]
          },
          "metadata": {
            "tags": []
          },
          "execution_count": 254
        }
      ]
    },
    {
      "cell_type": "code",
      "metadata": {
        "id": "QMa2s1EevVcR"
      },
      "source": [
        "almonds_Prediction = almond_production_Prediction.join(almonds_price_Prediction)\n",
        "almonds_Prediction = almonds_Prediction.join(almond_revenue_Prediction)\n"
      ],
      "execution_count": null,
      "outputs": []
    },
    {
      "cell_type": "markdown",
      "metadata": {
        "id": "DtzdxjcMiQZL"
      },
      "source": [
        "### Combine the data"
      ]
    },
    {
      "cell_type": "code",
      "metadata": {
        "id": "8MH5iHuWiNh_",
        "colab": {
          "base_uri": "https://localhost:8080/",
          "height": 252
        },
        "outputId": "654a476e-8384-41e5-ab4c-b33d0f0fa390"
      },
      "source": [
        "California_total = temperature_Change_Global_Predictions.join(california_temp_annual_Prediction)\n",
        "California_total.head()"
      ],
      "execution_count": null,
      "outputs": [
        {
          "output_type": "execute_result",
          "data": {
            "text/html": [
              "<div>\n",
              "<style scoped>\n",
              "    .dataframe tbody tr th:only-of-type {\n",
              "        vertical-align: middle;\n",
              "    }\n",
              "\n",
              "    .dataframe tbody tr th {\n",
              "        vertical-align: top;\n",
              "    }\n",
              "\n",
              "    .dataframe thead th {\n",
              "        text-align: right;\n",
              "    }\n",
              "</style>\n",
              "<table border=\"1\" class=\"dataframe\">\n",
              "  <thead>\n",
              "    <tr style=\"text-align: right;\">\n",
              "      <th></th>\n",
              "      <th>Median Temperature Anomaly °C</th>\n",
              "      <th>Annual Average °C</th>\n",
              "    </tr>\n",
              "    <tr>\n",
              "      <th>Year</th>\n",
              "      <th></th>\n",
              "      <th></th>\n",
              "    </tr>\n",
              "  </thead>\n",
              "  <tbody>\n",
              "    <tr>\n",
              "      <th>2030-01-01</th>\n",
              "      <td>0.902009</td>\n",
              "      <td>19.112650</td>\n",
              "    </tr>\n",
              "    <tr>\n",
              "      <th>2029-01-01</th>\n",
              "      <td>0.893320</td>\n",
              "      <td>19.319292</td>\n",
              "    </tr>\n",
              "    <tr>\n",
              "      <th>2028-01-01</th>\n",
              "      <td>0.828549</td>\n",
              "      <td>19.306126</td>\n",
              "    </tr>\n",
              "    <tr>\n",
              "      <th>2027-01-01</th>\n",
              "      <td>0.834037</td>\n",
              "      <td>19.099811</td>\n",
              "    </tr>\n",
              "    <tr>\n",
              "      <th>2026-01-01</th>\n",
              "      <td>0.832446</td>\n",
              "      <td>19.100029</td>\n",
              "    </tr>\n",
              "  </tbody>\n",
              "</table>\n",
              "</div>"
            ],
            "text/plain": [
              "            Median Temperature Anomaly °C  Annual Average °C\n",
              "Year                                                        \n",
              "2030-01-01                       0.902009          19.112650\n",
              "2029-01-01                       0.893320          19.319292\n",
              "2028-01-01                       0.828549          19.306126\n",
              "2027-01-01                       0.834037          19.099811\n",
              "2026-01-01                       0.832446          19.100029"
            ]
          },
          "metadata": {
            "tags": []
          },
          "execution_count": 256
        }
      ]
    },
    {
      "cell_type": "code",
      "metadata": {
        "id": "9bPWPEW3jHUr",
        "colab": {
          "base_uri": "https://localhost:8080/",
          "height": 252
        },
        "outputId": "2f2de77b-ebce-4041-f263-bb2169f46751"
      },
      "source": [
        "California_total = California_total.join(CO2_Prediction)\n",
        "California_total.head()"
      ],
      "execution_count": null,
      "outputs": [
        {
          "output_type": "execute_result",
          "data": {
            "text/html": [
              "<div>\n",
              "<style scoped>\n",
              "    .dataframe tbody tr th:only-of-type {\n",
              "        vertical-align: middle;\n",
              "    }\n",
              "\n",
              "    .dataframe tbody tr th {\n",
              "        vertical-align: top;\n",
              "    }\n",
              "\n",
              "    .dataframe thead th {\n",
              "        text-align: right;\n",
              "    }\n",
              "</style>\n",
              "<table border=\"1\" class=\"dataframe\">\n",
              "  <thead>\n",
              "    <tr style=\"text-align: right;\">\n",
              "      <th></th>\n",
              "      <th>Median Temperature Anomaly °C</th>\n",
              "      <th>Annual Average °C</th>\n",
              "      <th>CO2 Concentrations</th>\n",
              "    </tr>\n",
              "    <tr>\n",
              "      <th>Year</th>\n",
              "      <th></th>\n",
              "      <th></th>\n",
              "      <th></th>\n",
              "    </tr>\n",
              "  </thead>\n",
              "  <tbody>\n",
              "    <tr>\n",
              "      <th>2030-01-01</th>\n",
              "      <td>0.902009</td>\n",
              "      <td>19.112650</td>\n",
              "      <td>436.161328</td>\n",
              "    </tr>\n",
              "    <tr>\n",
              "      <th>2029-01-01</th>\n",
              "      <td>0.893320</td>\n",
              "      <td>19.319292</td>\n",
              "      <td>433.821964</td>\n",
              "    </tr>\n",
              "    <tr>\n",
              "      <th>2028-01-01</th>\n",
              "      <td>0.828549</td>\n",
              "      <td>19.306126</td>\n",
              "      <td>431.497367</td>\n",
              "    </tr>\n",
              "    <tr>\n",
              "      <th>2027-01-01</th>\n",
              "      <td>0.834037</td>\n",
              "      <td>19.099811</td>\n",
              "      <td>429.191116</td>\n",
              "    </tr>\n",
              "    <tr>\n",
              "      <th>2026-01-01</th>\n",
              "      <td>0.832446</td>\n",
              "      <td>19.100029</td>\n",
              "      <td>426.889434</td>\n",
              "    </tr>\n",
              "  </tbody>\n",
              "</table>\n",
              "</div>"
            ],
            "text/plain": [
              "            Median Temperature Anomaly °C  ...  CO2 Concentrations\n",
              "Year                                       ...                    \n",
              "2030-01-01                       0.902009  ...          436.161328\n",
              "2029-01-01                       0.893320  ...          433.821964\n",
              "2028-01-01                       0.828549  ...          431.497367\n",
              "2027-01-01                       0.834037  ...          429.191116\n",
              "2026-01-01                       0.832446  ...          426.889434\n",
              "\n",
              "[5 rows x 3 columns]"
            ]
          },
          "metadata": {
            "tags": []
          },
          "execution_count": 257
        }
      ]
    },
    {
      "cell_type": "code",
      "metadata": {
        "id": "KK7CF3Zze5GZ",
        "colab": {
          "base_uri": "https://localhost:8080/",
          "height": 252
        },
        "outputId": "e76e575f-6069-4e83-d09f-2dc64b2b9e85"
      },
      "source": [
        "California_total = California_total.join(Rain_Prediction)\n",
        "California_total.head()"
      ],
      "execution_count": null,
      "outputs": [
        {
          "output_type": "execute_result",
          "data": {
            "text/html": [
              "<div>\n",
              "<style scoped>\n",
              "    .dataframe tbody tr th:only-of-type {\n",
              "        vertical-align: middle;\n",
              "    }\n",
              "\n",
              "    .dataframe tbody tr th {\n",
              "        vertical-align: top;\n",
              "    }\n",
              "\n",
              "    .dataframe thead th {\n",
              "        text-align: right;\n",
              "    }\n",
              "</style>\n",
              "<table border=\"1\" class=\"dataframe\">\n",
              "  <thead>\n",
              "    <tr style=\"text-align: right;\">\n",
              "      <th></th>\n",
              "      <th>Median Temperature Anomaly °C</th>\n",
              "      <th>Annual Average °C</th>\n",
              "      <th>CO2 Concentrations</th>\n",
              "      <th>Total Inches of Rainfall</th>\n",
              "    </tr>\n",
              "    <tr>\n",
              "      <th>Year</th>\n",
              "      <th></th>\n",
              "      <th></th>\n",
              "      <th></th>\n",
              "      <th></th>\n",
              "    </tr>\n",
              "  </thead>\n",
              "  <tbody>\n",
              "    <tr>\n",
              "      <th>1970-01-01</th>\n",
              "      <td>-0.027</td>\n",
              "      <td>NaN</td>\n",
              "      <td>325.68</td>\n",
              "      <td>7.77</td>\n",
              "    </tr>\n",
              "    <tr>\n",
              "      <th>1971-01-01</th>\n",
              "      <td>-0.186</td>\n",
              "      <td>18.39</td>\n",
              "      <td>326.32</td>\n",
              "      <td>12.32</td>\n",
              "    </tr>\n",
              "    <tr>\n",
              "      <th>1972-01-01</th>\n",
              "      <td>-0.065</td>\n",
              "      <td>19.17</td>\n",
              "      <td>327.45</td>\n",
              "      <td>7.17</td>\n",
              "    </tr>\n",
              "    <tr>\n",
              "      <th>1973-01-01</th>\n",
              "      <td>0.062</td>\n",
              "      <td>18.33</td>\n",
              "      <td>329.68</td>\n",
              "      <td>21.26</td>\n",
              "    </tr>\n",
              "    <tr>\n",
              "      <th>1974-01-01</th>\n",
              "      <td>-0.214</td>\n",
              "      <td>18.50</td>\n",
              "      <td>330.18</td>\n",
              "      <td>14.92</td>\n",
              "    </tr>\n",
              "  </tbody>\n",
              "</table>\n",
              "</div>"
            ],
            "text/plain": [
              "            Median Temperature Anomaly °C  ...  Total Inches of Rainfall\n",
              "Year                                       ...                          \n",
              "1970-01-01                         -0.027  ...                      7.77\n",
              "1971-01-01                         -0.186  ...                     12.32\n",
              "1972-01-01                         -0.065  ...                      7.17\n",
              "1973-01-01                          0.062  ...                     21.26\n",
              "1974-01-01                         -0.214  ...                     14.92\n",
              "\n",
              "[5 rows x 4 columns]"
            ]
          },
          "metadata": {
            "tags": []
          },
          "execution_count": 258
        }
      ]
    },
    {
      "cell_type": "code",
      "metadata": {
        "id": "AWFSOewWitKC",
        "colab": {
          "base_uri": "https://localhost:8080/",
          "height": 337
        },
        "outputId": "46bf7e72-02f5-4824-9375-56e8f2b31d76"
      },
      "source": [
        " California_total = California_total.join(almonds_Prediction)\n",
        "California_total.head()"
      ],
      "execution_count": null,
      "outputs": [
        {
          "output_type": "execute_result",
          "data": {
            "text/html": [
              "<div>\n",
              "<style scoped>\n",
              "    .dataframe tbody tr th:only-of-type {\n",
              "        vertical-align: middle;\n",
              "    }\n",
              "\n",
              "    .dataframe tbody tr th {\n",
              "        vertical-align: top;\n",
              "    }\n",
              "\n",
              "    .dataframe thead th {\n",
              "        text-align: right;\n",
              "    }\n",
              "</style>\n",
              "<table border=\"1\" class=\"dataframe\">\n",
              "  <thead>\n",
              "    <tr style=\"text-align: right;\">\n",
              "      <th></th>\n",
              "      <th>Median Temperature Anomaly °C</th>\n",
              "      <th>Annual Average °C</th>\n",
              "      <th>CO2 Concentrations</th>\n",
              "      <th>Total Inches of Rainfall</th>\n",
              "      <th>Production millon pounds</th>\n",
              "      <th>Price per pound</th>\n",
              "      <th>Revenue Total</th>\n",
              "    </tr>\n",
              "    <tr>\n",
              "      <th>Year</th>\n",
              "      <th></th>\n",
              "      <th></th>\n",
              "      <th></th>\n",
              "      <th></th>\n",
              "      <th></th>\n",
              "      <th></th>\n",
              "      <th></th>\n",
              "    </tr>\n",
              "  </thead>\n",
              "  <tbody>\n",
              "    <tr>\n",
              "      <th>1970-01-01</th>\n",
              "      <td>-0.027</td>\n",
              "      <td>NaN</td>\n",
              "      <td>325.68</td>\n",
              "      <td>7.77</td>\n",
              "      <td>NaN</td>\n",
              "      <td>NaN</td>\n",
              "      <td>NaN</td>\n",
              "    </tr>\n",
              "    <tr>\n",
              "      <th>1971-01-01</th>\n",
              "      <td>-0.186</td>\n",
              "      <td>18.39</td>\n",
              "      <td>326.32</td>\n",
              "      <td>12.32</td>\n",
              "      <td>NaN</td>\n",
              "      <td>NaN</td>\n",
              "      <td>NaN</td>\n",
              "    </tr>\n",
              "    <tr>\n",
              "      <th>1972-01-01</th>\n",
              "      <td>-0.065</td>\n",
              "      <td>19.17</td>\n",
              "      <td>327.45</td>\n",
              "      <td>7.17</td>\n",
              "      <td>NaN</td>\n",
              "      <td>NaN</td>\n",
              "      <td>NaN</td>\n",
              "    </tr>\n",
              "    <tr>\n",
              "      <th>1973-01-01</th>\n",
              "      <td>0.062</td>\n",
              "      <td>18.33</td>\n",
              "      <td>329.68</td>\n",
              "      <td>21.26</td>\n",
              "      <td>NaN</td>\n",
              "      <td>NaN</td>\n",
              "      <td>NaN</td>\n",
              "    </tr>\n",
              "    <tr>\n",
              "      <th>1974-01-01</th>\n",
              "      <td>-0.214</td>\n",
              "      <td>18.50</td>\n",
              "      <td>330.18</td>\n",
              "      <td>14.92</td>\n",
              "      <td>NaN</td>\n",
              "      <td>NaN</td>\n",
              "      <td>NaN</td>\n",
              "    </tr>\n",
              "  </tbody>\n",
              "</table>\n",
              "</div>"
            ],
            "text/plain": [
              "            Median Temperature Anomaly °C  ...  Revenue Total\n",
              "Year                                       ...               \n",
              "1970-01-01                         -0.027  ...            NaN\n",
              "1971-01-01                         -0.186  ...            NaN\n",
              "1972-01-01                         -0.065  ...            NaN\n",
              "1973-01-01                          0.062  ...            NaN\n",
              "1974-01-01                         -0.214  ...            NaN\n",
              "\n",
              "[5 rows x 7 columns]"
            ]
          },
          "metadata": {
            "tags": []
          },
          "execution_count": 259
        }
      ]
    },
    {
      "cell_type": "code",
      "metadata": {
        "id": "hUvuTk_Xch2v",
        "colab": {
          "base_uri": "https://localhost:8080/",
          "height": 354
        },
        "outputId": "c2157b6c-2c07-4547-92db-c87d4d20a00c"
      },
      "source": [
        "California_total = California_total.join(Drought_Preditions)\n",
        "California_total.head()"
      ],
      "execution_count": null,
      "outputs": [
        {
          "output_type": "execute_result",
          "data": {
            "text/html": [
              "<div>\n",
              "<style scoped>\n",
              "    .dataframe tbody tr th:only-of-type {\n",
              "        vertical-align: middle;\n",
              "    }\n",
              "\n",
              "    .dataframe tbody tr th {\n",
              "        vertical-align: top;\n",
              "    }\n",
              "\n",
              "    .dataframe thead th {\n",
              "        text-align: right;\n",
              "    }\n",
              "</style>\n",
              "<table border=\"1\" class=\"dataframe\">\n",
              "  <thead>\n",
              "    <tr style=\"text-align: right;\">\n",
              "      <th></th>\n",
              "      <th>Median Temperature Anomaly °C</th>\n",
              "      <th>Annual Average °C</th>\n",
              "      <th>CO2 Concentrations</th>\n",
              "      <th>Total Inches of Rainfall</th>\n",
              "      <th>Production millon pounds</th>\n",
              "      <th>Price per pound</th>\n",
              "      <th>Revenue Total</th>\n",
              "      <th>D0</th>\n",
              "      <th>D1</th>\n",
              "      <th>D2</th>\n",
              "      <th>D3</th>\n",
              "      <th>D4</th>\n",
              "    </tr>\n",
              "    <tr>\n",
              "      <th>Year</th>\n",
              "      <th></th>\n",
              "      <th></th>\n",
              "      <th></th>\n",
              "      <th></th>\n",
              "      <th></th>\n",
              "      <th></th>\n",
              "      <th></th>\n",
              "      <th></th>\n",
              "      <th></th>\n",
              "      <th></th>\n",
              "      <th></th>\n",
              "      <th></th>\n",
              "    </tr>\n",
              "  </thead>\n",
              "  <tbody>\n",
              "    <tr>\n",
              "      <th>1970-01-01</th>\n",
              "      <td>-0.027</td>\n",
              "      <td>NaN</td>\n",
              "      <td>325.68</td>\n",
              "      <td>7.77</td>\n",
              "      <td>NaN</td>\n",
              "      <td>NaN</td>\n",
              "      <td>NaN</td>\n",
              "      <td>NaN</td>\n",
              "      <td>NaN</td>\n",
              "      <td>NaN</td>\n",
              "      <td>NaN</td>\n",
              "      <td>NaN</td>\n",
              "    </tr>\n",
              "    <tr>\n",
              "      <th>1971-01-01</th>\n",
              "      <td>-0.186</td>\n",
              "      <td>18.39</td>\n",
              "      <td>326.32</td>\n",
              "      <td>12.32</td>\n",
              "      <td>NaN</td>\n",
              "      <td>NaN</td>\n",
              "      <td>NaN</td>\n",
              "      <td>NaN</td>\n",
              "      <td>NaN</td>\n",
              "      <td>NaN</td>\n",
              "      <td>NaN</td>\n",
              "      <td>NaN</td>\n",
              "    </tr>\n",
              "    <tr>\n",
              "      <th>1972-01-01</th>\n",
              "      <td>-0.065</td>\n",
              "      <td>19.17</td>\n",
              "      <td>327.45</td>\n",
              "      <td>7.17</td>\n",
              "      <td>NaN</td>\n",
              "      <td>NaN</td>\n",
              "      <td>NaN</td>\n",
              "      <td>NaN</td>\n",
              "      <td>NaN</td>\n",
              "      <td>NaN</td>\n",
              "      <td>NaN</td>\n",
              "      <td>NaN</td>\n",
              "    </tr>\n",
              "    <tr>\n",
              "      <th>1973-01-01</th>\n",
              "      <td>0.062</td>\n",
              "      <td>18.33</td>\n",
              "      <td>329.68</td>\n",
              "      <td>21.26</td>\n",
              "      <td>NaN</td>\n",
              "      <td>NaN</td>\n",
              "      <td>NaN</td>\n",
              "      <td>NaN</td>\n",
              "      <td>NaN</td>\n",
              "      <td>NaN</td>\n",
              "      <td>NaN</td>\n",
              "      <td>NaN</td>\n",
              "    </tr>\n",
              "    <tr>\n",
              "      <th>1974-01-01</th>\n",
              "      <td>-0.214</td>\n",
              "      <td>18.50</td>\n",
              "      <td>330.18</td>\n",
              "      <td>14.92</td>\n",
              "      <td>NaN</td>\n",
              "      <td>NaN</td>\n",
              "      <td>NaN</td>\n",
              "      <td>NaN</td>\n",
              "      <td>NaN</td>\n",
              "      <td>NaN</td>\n",
              "      <td>NaN</td>\n",
              "      <td>NaN</td>\n",
              "    </tr>\n",
              "  </tbody>\n",
              "</table>\n",
              "</div>"
            ],
            "text/plain": [
              "            Median Temperature Anomaly °C  Annual Average °C  ...  D3  D4\n",
              "Year                                                          ...        \n",
              "1970-01-01                         -0.027                NaN  ... NaN NaN\n",
              "1971-01-01                         -0.186              18.39  ... NaN NaN\n",
              "1972-01-01                         -0.065              19.17  ... NaN NaN\n",
              "1973-01-01                          0.062              18.33  ... NaN NaN\n",
              "1974-01-01                         -0.214              18.50  ... NaN NaN\n",
              "\n",
              "[5 rows x 12 columns]"
            ]
          },
          "metadata": {
            "tags": []
          },
          "execution_count": 260
        }
      ]
    },
    {
      "cell_type": "code",
      "metadata": {
        "id": "pL4NUGzkeloj"
      },
      "source": [
        ""
      ],
      "execution_count": null,
      "outputs": []
    },
    {
      "cell_type": "code",
      "metadata": {
        "id": "kJ_icbvJi5xP"
      },
      "source": [
        "California_total = California_total[California_total.index >= '2000-01-01']"
      ],
      "execution_count": null,
      "outputs": []
    },
    {
      "cell_type": "code",
      "metadata": {
        "id": "RS3MoRG699qJ"
      },
      "source": [
        "California_total = California_total.round(2)"
      ],
      "execution_count": null,
      "outputs": []
    },
    {
      "cell_type": "code",
      "metadata": {
        "id": "sUX_t6EGVEBL"
      },
      "source": [
        "California_total = California_total.sort_values(by=[\"Year\"], ascending=False)\n"
      ],
      "execution_count": null,
      "outputs": []
    },
    {
      "cell_type": "code",
      "metadata": {
        "id": "i-T_oTXpvuMR"
      },
      "source": [
        ""
      ],
      "execution_count": null,
      "outputs": []
    },
    {
      "cell_type": "code",
      "metadata": {
        "id": "VTaA0OaBlExC"
      },
      "source": [
        ""
      ],
      "execution_count": null,
      "outputs": []
    },
    {
      "cell_type": "code",
      "metadata": {
        "id": "ngYkkb4j4_lY"
      },
      "source": [
        "California_total = California_total.groupby(California_total.index.date).mean()\n"
      ],
      "execution_count": null,
      "outputs": []
    },
    {
      "cell_type": "code",
      "metadata": {
        "id": "K3clA72j5oSW"
      },
      "source": [
        "California_total.index.name ='Year'"
      ],
      "execution_count": null,
      "outputs": []
    },
    {
      "cell_type": "code",
      "metadata": {
        "id": "PFba7v3F5QvJ"
      },
      "source": [
        "California_total = California_total.sort_index(ascending=False)\n"
      ],
      "execution_count": null,
      "outputs": []
    },
    {
      "cell_type": "code",
      "metadata": {
        "id": "5QHcyhkz6ZL9"
      },
      "source": [
        "California_total.reset_index(inplace=True)"
      ],
      "execution_count": null,
      "outputs": []
    },
    {
      "cell_type": "code",
      "metadata": {
        "colab": {
          "base_uri": "https://localhost:8080/",
          "height": 360
        },
        "id": "nDE0CffQ4WQd",
        "outputId": "3129216a-056b-4592-ec4c-dde1c9664f30"
      },
      "source": [
        "California_total.head()"
      ],
      "execution_count": null,
      "outputs": [
        {
          "output_type": "execute_result",
          "data": {
            "text/html": [
              "<div>\n",
              "<style scoped>\n",
              "    .dataframe tbody tr th:only-of-type {\n",
              "        vertical-align: middle;\n",
              "    }\n",
              "\n",
              "    .dataframe tbody tr th {\n",
              "        vertical-align: top;\n",
              "    }\n",
              "\n",
              "    .dataframe thead th {\n",
              "        text-align: right;\n",
              "    }\n",
              "</style>\n",
              "<table border=\"1\" class=\"dataframe\">\n",
              "  <thead>\n",
              "    <tr style=\"text-align: right;\">\n",
              "      <th></th>\n",
              "      <th>Year</th>\n",
              "      <th>Median Temperature Anomaly °C</th>\n",
              "      <th>Annual Average °C</th>\n",
              "      <th>CO2 Concentrations</th>\n",
              "      <th>Total Inches of Rainfall</th>\n",
              "      <th>Production millon pounds</th>\n",
              "      <th>Price per pound</th>\n",
              "      <th>Revenue Total</th>\n",
              "      <th>D0</th>\n",
              "      <th>D1</th>\n",
              "      <th>D2</th>\n",
              "      <th>D3</th>\n",
              "      <th>D4</th>\n",
              "    </tr>\n",
              "  </thead>\n",
              "  <tbody>\n",
              "    <tr>\n",
              "      <th>0</th>\n",
              "      <td>2030-01-01</td>\n",
              "      <td>0.90</td>\n",
              "      <td>19.11</td>\n",
              "      <td>436.16</td>\n",
              "      <td>11.72</td>\n",
              "      <td>3449.62</td>\n",
              "      <td>3.30</td>\n",
              "      <td>9114914.56</td>\n",
              "      <td>153255.03</td>\n",
              "      <td>137683.95</td>\n",
              "      <td>106687.41</td>\n",
              "      <td>65892.66</td>\n",
              "      <td>29407.83</td>\n",
              "    </tr>\n",
              "    <tr>\n",
              "      <th>1</th>\n",
              "      <td>2029-01-01</td>\n",
              "      <td>0.89</td>\n",
              "      <td>19.32</td>\n",
              "      <td>433.82</td>\n",
              "      <td>12.38</td>\n",
              "      <td>3327.50</td>\n",
              "      <td>3.32</td>\n",
              "      <td>8918604.87</td>\n",
              "      <td>146302.62</td>\n",
              "      <td>131609.35</td>\n",
              "      <td>106012.29</td>\n",
              "      <td>63863.57</td>\n",
              "      <td>26635.40</td>\n",
              "    </tr>\n",
              "    <tr>\n",
              "      <th>2</th>\n",
              "      <td>2028-01-01</td>\n",
              "      <td>0.83</td>\n",
              "      <td>19.31</td>\n",
              "      <td>431.50</td>\n",
              "      <td>10.63</td>\n",
              "      <td>3375.94</td>\n",
              "      <td>3.04</td>\n",
              "      <td>8406925.03</td>\n",
              "      <td>156033.83</td>\n",
              "      <td>136852.63</td>\n",
              "      <td>95807.06</td>\n",
              "      <td>60182.19</td>\n",
              "      <td>29920.46</td>\n",
              "    </tr>\n",
              "    <tr>\n",
              "      <th>3</th>\n",
              "      <td>2027-01-01</td>\n",
              "      <td>0.83</td>\n",
              "      <td>19.10</td>\n",
              "      <td>429.19</td>\n",
              "      <td>11.35</td>\n",
              "      <td>3225.35</td>\n",
              "      <td>3.07</td>\n",
              "      <td>8245073.98</td>\n",
              "      <td>148507.88</td>\n",
              "      <td>130266.73</td>\n",
              "      <td>95215.42</td>\n",
              "      <td>58798.94</td>\n",
              "      <td>27580.51</td>\n",
              "    </tr>\n",
              "    <tr>\n",
              "      <th>4</th>\n",
              "      <td>2026-01-01</td>\n",
              "      <td>0.83</td>\n",
              "      <td>19.10</td>\n",
              "      <td>426.89</td>\n",
              "      <td>12.04</td>\n",
              "      <td>3088.96</td>\n",
              "      <td>3.09</td>\n",
              "      <td>8066043.31</td>\n",
              "      <td>141266.13</td>\n",
              "      <td>123934.72</td>\n",
              "      <td>94583.50</td>\n",
              "      <td>57093.07</td>\n",
              "      <td>25023.44</td>\n",
              "    </tr>\n",
              "  </tbody>\n",
              "</table>\n",
              "</div>"
            ],
            "text/plain": [
              "         Year  Median Temperature Anomaly °C  ...        D3        D4\n",
              "0  2030-01-01                           0.90  ...  65892.66  29407.83\n",
              "1  2029-01-01                           0.89  ...  63863.57  26635.40\n",
              "2  2028-01-01                           0.83  ...  60182.19  29920.46\n",
              "3  2027-01-01                           0.83  ...  58798.94  27580.51\n",
              "4  2026-01-01                           0.83  ...  57093.07  25023.44\n",
              "\n",
              "[5 rows x 13 columns]"
            ]
          },
          "metadata": {
            "tags": []
          },
          "execution_count": 268
        }
      ]
    },
    {
      "cell_type": "code",
      "metadata": {
        "colab": {
          "base_uri": "https://localhost:8080/",
          "height": 391
        },
        "id": "BwDbgOvh7BhW",
        "outputId": "e895add4-2fe5-4b56-eccc-1601428da841"
      },
      "source": [
        "California_total['Year'] = California_total['Year'].astype(str)\n",
        "California_total_2021 = California_total[California_total['Year'] <= '2021-01-01']\n",
        "California_total_2021.set_index('Year', inplace=True)\n",
        "California_total_2021.index = pd.to_datetime(California_total_2021.index)\n",
        "California_total_2021.head()"
      ],
      "execution_count": null,
      "outputs": [
        {
          "output_type": "execute_result",
          "data": {
            "text/html": [
              "<div>\n",
              "<style scoped>\n",
              "    .dataframe tbody tr th:only-of-type {\n",
              "        vertical-align: middle;\n",
              "    }\n",
              "\n",
              "    .dataframe tbody tr th {\n",
              "        vertical-align: top;\n",
              "    }\n",
              "\n",
              "    .dataframe thead th {\n",
              "        text-align: right;\n",
              "    }\n",
              "</style>\n",
              "<table border=\"1\" class=\"dataframe\">\n",
              "  <thead>\n",
              "    <tr style=\"text-align: right;\">\n",
              "      <th></th>\n",
              "      <th>Median Temperature Anomaly °C</th>\n",
              "      <th>Annual Average °C</th>\n",
              "      <th>CO2 Concentrations</th>\n",
              "      <th>Total Inches of Rainfall</th>\n",
              "      <th>Production millon pounds</th>\n",
              "      <th>Price per pound</th>\n",
              "      <th>Revenue Total</th>\n",
              "      <th>D0</th>\n",
              "      <th>D1</th>\n",
              "      <th>D2</th>\n",
              "      <th>D3</th>\n",
              "      <th>D4</th>\n",
              "    </tr>\n",
              "    <tr>\n",
              "      <th>Year</th>\n",
              "      <th></th>\n",
              "      <th></th>\n",
              "      <th></th>\n",
              "      <th></th>\n",
              "      <th></th>\n",
              "      <th></th>\n",
              "      <th></th>\n",
              "      <th></th>\n",
              "      <th></th>\n",
              "      <th></th>\n",
              "      <th></th>\n",
              "      <th></th>\n",
              "    </tr>\n",
              "  </thead>\n",
              "  <tbody>\n",
              "    <tr>\n",
              "      <th>2021-01-01</th>\n",
              "      <td>0.75</td>\n",
              "      <td>19.29</td>\n",
              "      <td>415.28</td>\n",
              "      <td>9.420</td>\n",
              "      <td>2606.17</td>\n",
              "      <td>2.89</td>\n",
              "      <td>6820862.36</td>\n",
              "      <td>140028.915</td>\n",
              "      <td>126997.945</td>\n",
              "      <td>103018.230</td>\n",
              "      <td>65109.190</td>\n",
              "      <td>18892.805</td>\n",
              "    </tr>\n",
              "    <tr>\n",
              "      <th>2020-01-01</th>\n",
              "      <td>0.69</td>\n",
              "      <td>19.89</td>\n",
              "      <td>412.95</td>\n",
              "      <td>13.065</td>\n",
              "      <td>3115.00</td>\n",
              "      <td>1.83</td>\n",
              "      <td>5619930.00</td>\n",
              "      <td>119573.515</td>\n",
              "      <td>93488.585</td>\n",
              "      <td>54705.115</td>\n",
              "      <td>26464.005</td>\n",
              "      <td>10629.830</td>\n",
              "    </tr>\n",
              "    <tr>\n",
              "      <th>2019-01-01</th>\n",
              "      <td>0.74</td>\n",
              "      <td>18.94</td>\n",
              "      <td>410.65</td>\n",
              "      <td>15.410</td>\n",
              "      <td>2560.00</td>\n",
              "      <td>2.45</td>\n",
              "      <td>6169100.00</td>\n",
              "      <td>80735.540</td>\n",
              "      <td>57044.635</td>\n",
              "      <td>36160.300</td>\n",
              "      <td>20675.380</td>\n",
              "      <td>9405.860</td>\n",
              "    </tr>\n",
              "    <tr>\n",
              "      <th>2018-01-01</th>\n",
              "      <td>0.60</td>\n",
              "      <td>19.56</td>\n",
              "      <td>408.52</td>\n",
              "      <td>4.790</td>\n",
              "      <td>2280.00</td>\n",
              "      <td>2.50</td>\n",
              "      <td>5602500.00</td>\n",
              "      <td>127300.000</td>\n",
              "      <td>72092.000</td>\n",
              "      <td>27533.000</td>\n",
              "      <td>3708.000</td>\n",
              "      <td>0.000</td>\n",
              "    </tr>\n",
              "    <tr>\n",
              "      <th>2017-01-01</th>\n",
              "      <td>0.68</td>\n",
              "      <td>20.11</td>\n",
              "      <td>406.55</td>\n",
              "      <td>19.000</td>\n",
              "      <td>2270.00</td>\n",
              "      <td>2.53</td>\n",
              "      <td>5603950.00</td>\n",
              "      <td>48353.000</td>\n",
              "      <td>22777.000</td>\n",
              "      <td>7467.000</td>\n",
              "      <td>2912.000</td>\n",
              "      <td>686.000</td>\n",
              "    </tr>\n",
              "  </tbody>\n",
              "</table>\n",
              "</div>"
            ],
            "text/plain": [
              "            Median Temperature Anomaly °C  ...         D4\n",
              "Year                                       ...           \n",
              "2021-01-01                           0.75  ...  18892.805\n",
              "2020-01-01                           0.69  ...  10629.830\n",
              "2019-01-01                           0.74  ...   9405.860\n",
              "2018-01-01                           0.60  ...      0.000\n",
              "2017-01-01                           0.68  ...    686.000\n",
              "\n",
              "[5 rows x 12 columns]"
            ]
          },
          "metadata": {
            "tags": []
          },
          "execution_count": 269
        }
      ]
    },
    {
      "cell_type": "code",
      "metadata": {
        "id": "DUn8BCUrlV_b",
        "colab": {
          "base_uri": "https://localhost:8080/",
          "height": 296
        },
        "outputId": "1a71c3f5-8fb8-4e22-9d1c-dedf5ededa95"
      },
      "source": [
        "california_temp_annual_Prediction.plot()"
      ],
      "execution_count": null,
      "outputs": [
        {
          "output_type": "execute_result",
          "data": {
            "text/plain": [
              "<matplotlib.axes._subplots.AxesSubplot at 0x7f6af8f99d10>"
            ]
          },
          "metadata": {
            "tags": []
          },
          "execution_count": 270
        },
        {
          "output_type": "display_data",
          "data": {
            "image/png": "[encoded data removed]",
            "text/plain": [
              "<Figure size 432x288 with 1 Axes>"
            ]
          },
          "metadata": {
            "tags": [],
            "needs_background": "light"
          }
        }
      ]
    },
    {
      "cell_type": "markdown",
      "metadata": {
        "id": "Gea7Olqxz0-H"
      },
      "source": [
        "### Future predictions\n"
      ]
    },
    {
      "cell_type": "code",
      "metadata": {
        "id": "Amh3S37-z3kF",
        "colab": {
          "base_uri": "https://localhost:8080/",
          "height": 1000
        },
        "outputId": "a4a70b34-48d4-4d87-8bdc-17306015c508"
      },
      "source": [
        "\"\"\"\n",
        "#cols = ['Median Temperature Anomaly °C','Annual Average °C','CO2 Concentrations','D0','D1','D2','D3','D4', 'Total Inches of Rainfall']\n",
        "California_total.reset_index(inplace=True)\n",
        "results = []\n",
        "for col in cols:\n",
        "    subdf = California_total[['Year', col]].dropna()\n",
        "    subdf = subdf.rename(columns={'Year':'ds', col:'y'})\n",
        "    m = Prophet()\n",
        "    m.fit(subdf)\n",
        "    result = m.predict(m.make_future_dataframe(periods = 9, freq='YS'))\n",
        "\n",
        "    forcast = modelo_all.predict(future)\n",
        "    #Get only needed data \n",
        "    New_data = forcast[forcast['ds'] >= '2019']\n",
        "    #Change the name back\n",
        "    New_data.rename(columns={'ds':'Year'},inplace=True)\n",
        "    #set index\n",
        "    New_data.set_index('Year', inplace=True)\n",
        "    #Only get the columns you need  \n",
        "    data_temp = New_data['yhat']\n",
        "    data_temp = pd.DataFrame(data_temp)\n",
        "    #rename again.\n",
        "    data_temp.rename(columns={'yhat': 'CO2 Concentrations'}, inplace=True)\n",
        "    #flip the order\n",
        "    data_temp = data_temp.sort_index(ascending=False)\n",
        "    #Reset indexes so i can concat\n",
        "    data_temp.reset_index(inplace=True)\n",
        "    CO2.reset_index(inplace=True)\n",
        "    all_dfs = [data_temp, CO2]\n",
        "    #function to concat and add index again. \n",
        "    for df in all_dfs:\n",
        "        df.columns = ['Year', 'CO2 Concentrations']\n",
        "\n",
        "    CO2_Prediction = pd.concat(all_dfs).reset_index(drop=True)\n",
        "    CO2_Prediction.set_index('Year', inplace=True)\n",
        "    #done\n",
        "    CO2_Prediction.head()\n",
        "\n",
        "    results.append(result)\n",
        "\n",
        "California_total.predict = pd.concat(results, axis=1)\n",
        "\"\"\""
      ],
      "execution_count": null,
      "outputs": [
        {
          "output_type": "execute_result",
          "data": {
            "application/vnd.google.colaboratory.intrinsic+json": {
              "type": "string"
            },
            "text/plain": [
              "\"\\n#cols = ['Median Temperature Anomaly °C','Annual Average °C','CO2 Concentrations','D0','D1','D2','D3','D4', 'Total Inches of Rainfall']\\nCalifornia_total.reset_index(inplace=True)\\nresults = []\\nfor col in cols:\\n    subdf = California_total[['Year', col]].dropna()\\n    subdf = subdf.rename(columns={'Year':'ds', col:'y'})\\n    m = Prophet()\\n    m.fit(subdf)\\n    result = m.predict(m.make_future_dataframe(periods = 9, freq='YS'))\\n\\n    forcast = modelo_all.predict(future)\\n    #Get only needed data \\n    New_data = forcast[forcast['ds'] >= '2019']\\n    #Change the name back\\n    New_data.rename(columns={'ds':'Year'},inplace=True)\\n    #set index\\n    New_data.set_index('Year', inplace=True)\\n    #Only get the columns you need  \\n    data_temp = New_data['yhat']\\n    data_temp = pd.DataFrame(data_temp)\\n    #rename again.\\n    data_temp.rename(columns={'yhat': 'CO2 Concentrations'}, inplace=True)\\n    #flip the order\\n    data_temp = data_temp.sort_index(ascending=False)\\n    #Reset indexes so i can concat\\n    data_temp.reset_index(inplace=True)\\n    CO2.reset_index(inplace=True)\\n    all_dfs = [data_temp, CO2]\\n    #function to concat and add index again. \\n    for df in all_dfs:\\n        df.columns = ['Year', 'CO2 Concentrations']\\n\\n    CO2_Prediction = pd.concat(all_dfs).reset_index(drop=True)\\n    CO2_Prediction.set_index('Year', inplace=True)\\n    #done\\n    CO2_Prediction.head()\\n\\n    results.append(result)\\n\\nCalifornia_total.predict = pd.concat(results, axis=1)\\n\""
            ]
          },
          "metadata": {
            "tags": []
          },
          "execution_count": 271
        }
      ]
    },
    {
      "cell_type": "code",
      "metadata": {
        "id": "h9B1e-3pzzMF"
      },
      "source": [
        "#results"
      ],
      "execution_count": null,
      "outputs": []
    },
    {
      "cell_type": "code",
      "metadata": {
        "id": "cR_5UEH74bWQ"
      },
      "source": [
        ""
      ],
      "execution_count": null,
      "outputs": []
    },
    {
      "cell_type": "markdown",
      "metadata": {
        "id": "Lxp71lXEg21x"
      },
      "source": [
        "### Correlations"
      ]
    },
    {
      "cell_type": "code",
      "metadata": {
        "id": "iidcMsjEbxQt"
      },
      "source": [
        "#California_total_2021_Standard[''] = StandardScaler().fit_transform(\n",
        " #                           California_total_2021.values.reshape(-1, 1))"
      ],
      "execution_count": null,
      "outputs": []
    },
    {
      "cell_type": "code",
      "metadata": {
        "id": "zInQW_JJcKLn"
      },
      "source": [
        "#California_total_2021_Standard[:10]"
      ],
      "execution_count": null,
      "outputs": []
    },
    {
      "cell_type": "code",
      "metadata": {
        "id": "4CHqVUgHLlKI"
      },
      "source": [
        ""
      ],
      "execution_count": null,
      "outputs": []
    },
    {
      "cell_type": "code",
      "metadata": {
        "id": "JsZWp-Hmg5CJ",
        "colab": {
          "base_uri": "https://localhost:8080/",
          "height": 698
        },
        "outputId": "d602d991-f50e-443e-d5a3-1a1e9e63ce5d"
      },
      "source": [
        "plt.subplots(figsize=(20, 10))\n",
        "sns.heatmap(California_total_2021.corr(), annot=True)"
      ],
      "execution_count": null,
      "outputs": [
        {
          "output_type": "execute_result",
          "data": {
            "text/plain": [
              "<matplotlib.axes._subplots.AxesSubplot at 0x7f6af99447d0>"
            ]
          },
          "metadata": {
            "tags": []
          },
          "execution_count": 275
        },
        {
          "output_type": "display_data",
          "data": {
            "image/png": "[encoded data removed]",
            "text/plain": [
              "<Figure size 1440x720 with 2 Axes>"
            ]
          },
          "metadata": {
            "tags": [],
            "needs_background": "light"
          }
        }
      ]
    },
    {
      "cell_type": "code",
      "metadata": {
        "id": "FCSRTdHbbG6J"
      },
      "source": [
        ""
      ],
      "execution_count": null,
      "outputs": []
    },
    {
      "cell_type": "code",
      "metadata": {
        "id": "0g0otslqYtDQ"
      },
      "source": [
        "#sns.pairplot(California_total)"
      ],
      "execution_count": null,
      "outputs": []
    },
    {
      "cell_type": "code",
      "metadata": {
        "id": "ICaQ0i3k1DUG"
      },
      "source": [
        ""
      ],
      "execution_count": null,
      "outputs": []
    },
    {
      "cell_type": "markdown",
      "metadata": {
        "id": "79XcQeDe1Fro"
      },
      "source": [
        "### Standardized Data"
      ]
    },
    {
      "cell_type": "code",
      "metadata": {
        "id": "q05A1D0418Th"
      },
      "source": [
        ""
      ],
      "execution_count": null,
      "outputs": []
    },
    {
      "cell_type": "code",
      "metadata": {
        "id": "T78WvcNkxIDn"
      },
      "source": [
        ""
      ],
      "execution_count": null,
      "outputs": []
    },
    {
      "cell_type": "code",
      "metadata": {
        "colab": {
          "base_uri": "https://localhost:8080/",
          "height": 255
        },
        "id": "72lJeL0C1Hmn",
        "outputId": "686410dc-f8ca-4bef-ab23-8ff72ffd3c2e"
      },
      "source": [
        "col_names = ['Median Temperature Anomaly °C','Annual Average °C','CO2 Concentrations','Production millon pounds', 'Price per pound','Revenue Total','D0','D1','D2','D3','D4', 'Total Inches of Rainfall']\n",
        "features = California_total_2021[col_names]\n",
        "scaler = StandardScaler().fit(features.values)\n",
        "features = scaler.transform(features.values)\n",
        "scaled_features = pd.DataFrame(features, columns = col_names)\n",
        "scaled_features.head()"
      ],
      "execution_count": null,
      "outputs": [
        {
          "output_type": "execute_result",
          "data": {
            "text/html": [
              "<div>\n",
              "<style scoped>\n",
              "    .dataframe tbody tr th:only-of-type {\n",
              "        vertical-align: middle;\n",
              "    }\n",
              "\n",
              "    .dataframe tbody tr th {\n",
              "        vertical-align: top;\n",
              "    }\n",
              "\n",
              "    .dataframe thead th {\n",
              "        text-align: right;\n",
              "    }\n",
              "</style>\n",
              "<table border=\"1\" class=\"dataframe\">\n",
              "  <thead>\n",
              "    <tr style=\"text-align: right;\">\n",
              "      <th></th>\n",
              "      <th>Median Temperature Anomaly °C</th>\n",
              "      <th>Annual Average °C</th>\n",
              "      <th>CO2 Concentrations</th>\n",
              "      <th>Production millon pounds</th>\n",
              "      <th>Price per pound</th>\n",
              "      <th>Revenue Total</th>\n",
              "      <th>D0</th>\n",
              "      <th>D1</th>\n",
              "      <th>D2</th>\n",
              "      <th>D3</th>\n",
              "      <th>D4</th>\n",
              "      <th>Total Inches of Rainfall</th>\n",
              "    </tr>\n",
              "  </thead>\n",
              "  <tbody>\n",
              "    <tr>\n",
              "      <th>0</th>\n",
              "      <td>1.504822</td>\n",
              "      <td>0.477479</td>\n",
              "      <td>1.702643</td>\n",
              "      <td>1.420695</td>\n",
              "      <td>0.949141</td>\n",
              "      <td>1.431020</td>\n",
              "      <td>0.794798</td>\n",
              "      <td>1.016810</td>\n",
              "      <td>1.200801</td>\n",
              "      <td>1.172736</td>\n",
              "      <td>0.481588</td>\n",
              "      <td>-0.412738</td>\n",
              "    </tr>\n",
              "    <tr>\n",
              "      <th>1</th>\n",
              "      <td>1.042876</td>\n",
              "      <td>1.329199</td>\n",
              "      <td>1.535047</td>\n",
              "      <td>2.220211</td>\n",
              "      <td>-0.451743</td>\n",
              "      <td>0.854683</td>\n",
              "      <td>0.400015</td>\n",
              "      <td>0.373819</td>\n",
              "      <td>0.149164</td>\n",
              "      <td>0.088343</td>\n",
              "      <td>0.060218</td>\n",
              "      <td>0.090914</td>\n",
              "    </tr>\n",
              "    <tr>\n",
              "      <th>2</th>\n",
              "      <td>1.427831</td>\n",
              "      <td>-0.019357</td>\n",
              "      <td>1.369608</td>\n",
              "      <td>1.348149</td>\n",
              "      <td>0.367642</td>\n",
              "      <td>1.118234</td>\n",
              "      <td>-0.349545</td>\n",
              "      <td>-0.325482</td>\n",
              "      <td>-0.254503</td>\n",
              "      <td>-0.074087</td>\n",
              "      <td>-0.002199</td>\n",
              "      <td>0.414936</td>\n",
              "    </tr>\n",
              "    <tr>\n",
              "      <th>3</th>\n",
              "      <td>0.349959</td>\n",
              "      <td>0.860753</td>\n",
              "      <td>1.216398</td>\n",
              "      <td>0.908190</td>\n",
              "      <td>0.433721</td>\n",
              "      <td>0.846319</td>\n",
              "      <td>0.549134</td>\n",
              "      <td>-0.036747</td>\n",
              "      <td>-0.442294</td>\n",
              "      <td>-0.550195</td>\n",
              "      <td>-0.481851</td>\n",
              "      <td>-1.052493</td>\n",
              "    </tr>\n",
              "    <tr>\n",
              "      <th>4</th>\n",
              "      <td>0.965886</td>\n",
              "      <td>1.641497</td>\n",
              "      <td>1.074696</td>\n",
              "      <td>0.892477</td>\n",
              "      <td>0.473369</td>\n",
              "      <td>0.847014</td>\n",
              "      <td>-0.974518</td>\n",
              "      <td>-0.983022</td>\n",
              "      <td>-0.879073</td>\n",
              "      <td>-0.572531</td>\n",
              "      <td>-0.446868</td>\n",
              "      <td>0.910988</td>\n",
              "    </tr>\n",
              "  </tbody>\n",
              "</table>\n",
              "</div>"
            ],
            "text/plain": [
              "   Median Temperature Anomaly °C  ...  Total Inches of Rainfall\n",
              "0                       1.504822  ...                 -0.412738\n",
              "1                       1.042876  ...                  0.090914\n",
              "2                       1.427831  ...                  0.414936\n",
              "3                       0.349959  ...                 -1.052493\n",
              "4                       0.965886  ...                  0.910988\n",
              "\n",
              "[5 rows x 12 columns]"
            ]
          },
          "metadata": {
            "tags": []
          },
          "execution_count": 277
        }
      ]
    },
    {
      "cell_type": "code",
      "metadata": {
        "id": "22E-yTi01WWm"
      },
      "source": [
        ""
      ],
      "execution_count": null,
      "outputs": []
    },
    {
      "cell_type": "code",
      "metadata": {
        "colab": {
          "base_uri": "https://localhost:8080/",
          "height": 681
        },
        "id": "uzY7NV55121S",
        "outputId": "ff4f7fe1-1c58-42f9-f668-dd0eb7919aba"
      },
      "source": [
        "plt.subplots(figsize=(20, 10))\n",
        "sns.heatmap(scaled_features.corr(), annot=True)\n",
        "plt.savefig('/content/drive/MyDrive/Ironhack/Final_Project/heatmap')"
      ],
      "execution_count": null,
      "outputs": [
        {
          "output_type": "display_data",
          "data": {
            "image/png": "[encoded data removed]",
            "text/plain": [
              "<Figure size 1440x720 with 2 Axes>"
            ]
          },
          "metadata": {
            "tags": [],
            "needs_background": "light"
          }
        }
      ]
    },
    {
      "cell_type": "code",
      "metadata": {
        "id": "FjdxkSrX2YnI"
      },
      "source": [
        "#sns.pairplot(scaled_features)\n"
      ],
      "execution_count": null,
      "outputs": []
    },
    {
      "cell_type": "code",
      "metadata": {
        "id": "6YoBaldK98_u"
      },
      "source": [
        "California_total_2021.reset_index(inplace=True)\n",
        "year_col = California_total_2021['Year']\n",
        "year_col = pd.DataFrame(year_col)\n",
        "scaled_features = year_col.join(scaled_features)\n",
        "scaled_features.set_index('Year', inplace=True)"
      ],
      "execution_count": null,
      "outputs": []
    },
    {
      "cell_type": "code",
      "metadata": {
        "id": "AMtmfgGI-Xan"
      },
      "source": [
        ""
      ],
      "execution_count": null,
      "outputs": []
    },
    {
      "cell_type": "code",
      "metadata": {
        "colab": {
          "base_uri": "https://localhost:8080/",
          "height": 391
        },
        "id": "oycoQ2lX3W22",
        "outputId": "6a04fc6f-9334-4d0b-dd76-8a15b2b5c27a"
      },
      "source": [
        "scaled_features.tail()"
      ],
      "execution_count": null,
      "outputs": [
        {
          "output_type": "execute_result",
          "data": {
            "text/html": [
              "<div>\n",
              "<style scoped>\n",
              "    .dataframe tbody tr th:only-of-type {\n",
              "        vertical-align: middle;\n",
              "    }\n",
              "\n",
              "    .dataframe tbody tr th {\n",
              "        vertical-align: top;\n",
              "    }\n",
              "\n",
              "    .dataframe thead th {\n",
              "        text-align: right;\n",
              "    }\n",
              "</style>\n",
              "<table border=\"1\" class=\"dataframe\">\n",
              "  <thead>\n",
              "    <tr style=\"text-align: right;\">\n",
              "      <th></th>\n",
              "      <th>Median Temperature Anomaly °C</th>\n",
              "      <th>Annual Average °C</th>\n",
              "      <th>CO2 Concentrations</th>\n",
              "      <th>Production millon pounds</th>\n",
              "      <th>Price per pound</th>\n",
              "      <th>Revenue Total</th>\n",
              "      <th>D0</th>\n",
              "      <th>D1</th>\n",
              "      <th>D2</th>\n",
              "      <th>D3</th>\n",
              "      <th>D4</th>\n",
              "      <th>Total Inches of Rainfall</th>\n",
              "    </tr>\n",
              "    <tr>\n",
              "      <th>Year</th>\n",
              "      <th></th>\n",
              "      <th></th>\n",
              "      <th></th>\n",
              "      <th></th>\n",
              "      <th></th>\n",
              "      <th></th>\n",
              "      <th></th>\n",
              "      <th></th>\n",
              "      <th></th>\n",
              "      <th></th>\n",
              "      <th></th>\n",
              "      <th></th>\n",
              "    </tr>\n",
              "  </thead>\n",
              "  <tbody>\n",
              "    <tr>\n",
              "      <th>2004-01-01</th>\n",
              "      <td>-0.804905</td>\n",
              "      <td>-0.558780</td>\n",
              "      <td>-1.013425</td>\n",
              "      <td>-1.095197</td>\n",
              "      <td>0.050461</td>\n",
              "      <td>-0.791844</td>\n",
              "      <td>0.189272</td>\n",
              "      <td>-0.259371</td>\n",
              "      <td>-0.672351</td>\n",
              "      <td>-0.654243</td>\n",
              "      <td>-0.481851</td>\n",
              "      <td>-0.437610</td>\n",
              "    </tr>\n",
              "    <tr>\n",
              "      <th>2003-01-01</th>\n",
              "      <td>-0.419950</td>\n",
              "      <td>-0.558780</td>\n",
              "      <td>-1.137144</td>\n",
              "      <td>-1.040202</td>\n",
              "      <td>-0.795356</td>\n",
              "      <td>-1.074443</td>\n",
              "      <td>-0.541259</td>\n",
              "      <td>-0.544452</td>\n",
              "      <td>-0.607507</td>\n",
              "      <td>-0.554769</td>\n",
              "      <td>-0.481851</td>\n",
              "      <td>0.564166</td>\n",
              "    </tr>\n",
              "    <tr>\n",
              "      <th>2002-01-01</th>\n",
              "      <td>-0.419950</td>\n",
              "      <td>-1.353719</td>\n",
              "      <td>-1.318407</td>\n",
              "      <td>-0.961637</td>\n",
              "      <td>-1.403287</td>\n",
              "      <td>-1.266146</td>\n",
              "      <td>0.188075</td>\n",
              "      <td>-0.263189</td>\n",
              "      <td>-0.184028</td>\n",
              "      <td>-0.132631</td>\n",
              "      <td>-0.481851</td>\n",
              "      <td>-1.103618</td>\n",
              "    </tr>\n",
              "    <tr>\n",
              "      <th>2001-01-01</th>\n",
              "      <td>-0.881896</td>\n",
              "      <td>-1.666016</td>\n",
              "      <td>-1.472337</td>\n",
              "      <td>-1.370171</td>\n",
              "      <td>-1.667604</td>\n",
              "      <td>-1.487228</td>\n",
              "      <td>-0.519258</td>\n",
              "      <td>-0.698612</td>\n",
              "      <td>-0.535849</td>\n",
              "      <td>-0.345412</td>\n",
              "      <td>-0.481851</td>\n",
              "      <td>0.764522</td>\n",
              "    </tr>\n",
              "    <tr>\n",
              "      <th>2000-01-01</th>\n",
              "      <td>-2.036759</td>\n",
              "      <td>-0.800101</td>\n",
              "      <td>-1.586705</td>\n",
              "      <td>-1.569724</td>\n",
              "      <td>-1.588309</td>\n",
              "      <td>-1.522513</td>\n",
              "      <td>-1.519657</td>\n",
              "      <td>-1.418465</td>\n",
              "      <td>-1.041608</td>\n",
              "      <td>-0.654243</td>\n",
              "      <td>-0.481851</td>\n",
              "      <td>-0.115660</td>\n",
              "    </tr>\n",
              "  </tbody>\n",
              "</table>\n",
              "</div>"
            ],
            "text/plain": [
              "            Median Temperature Anomaly °C  ...  Total Inches of Rainfall\n",
              "Year                                       ...                          \n",
              "2004-01-01                      -0.804905  ...                 -0.437610\n",
              "2003-01-01                      -0.419950  ...                  0.564166\n",
              "2002-01-01                      -0.419950  ...                 -1.103618\n",
              "2001-01-01                      -0.881896  ...                  0.764522\n",
              "2000-01-01                      -2.036759  ...                 -0.115660\n",
              "\n",
              "[5 rows x 12 columns]"
            ]
          },
          "metadata": {
            "tags": []
          },
          "execution_count": 281
        }
      ]
    },
    {
      "cell_type": "markdown",
      "metadata": {
        "id": "SBi9oxXJ8AVv"
      },
      "source": [
        "### Regression Test"
      ]
    },
    {
      "cell_type": "code",
      "metadata": {
        "id": "T6VVxadb8LOR"
      },
      "source": [
        ""
      ],
      "execution_count": null,
      "outputs": []
    },
    {
      "cell_type": "code",
      "metadata": {
        "id": "RQi8djQqC53h"
      },
      "source": [
        "scaled_features.reset_index(inplace=True)\n"
      ],
      "execution_count": null,
      "outputs": []
    },
    {
      "cell_type": "code",
      "metadata": {
        "id": "aAucXgwNFofb"
      },
      "source": [
        "scaled_features.set_index('Year', inplace=True)"
      ],
      "execution_count": null,
      "outputs": []
    },
    {
      "cell_type": "code",
      "metadata": {
        "id": "VtSrJb7TR4mP"
      },
      "source": [
        "California_total_2021.set_index('Year', inplace=True)"
      ],
      "execution_count": null,
      "outputs": []
    },
    {
      "cell_type": "code",
      "metadata": {
        "colab": {
          "base_uri": "https://localhost:8080/"
        },
        "id": "tTAwm9kMAcuo",
        "outputId": "3dce4c56-e177-4197-a12f-1d4ce772b2eb"
      },
      "source": [
        "X = scaled_features.drop(columns={'Price per pound','Total Inches of Rainfall','D0', 'CO2 Concentrations'})\n",
        "X2 = scaled_features.drop(columns={'Median Temperature Anomaly °C','Annual Average °C', 'CO2 Concentrations','Price per pound','Production millon pounds','D1','D2','D3','D4','Total Inches of Rainfall','D0'})\n",
        "Y = California_total_2021.drop(columns={'Median Temperature Anomaly °C','Annual Average °C', 'CO2 Concentrations', 'Production millon pounds','Revenue Total','D1','D2','D3','D4','Total Inches of Rainfall','D0'})\n",
        "X_train, X_test, Y_train, Y_test = train_test_split(X,\n",
        "                                                    Y, \n",
        "                                                    test_size=0.2,\n",
        "                                                    train_size=0.8, \n",
        "                                                    random_state=42)\n",
        "\n",
        "model = LinearRegression()\n",
        "\n",
        "model.fit(X_train, Y_train)\n",
        "y_pred = model.predict(X_test)\n",
        "r2_score(y_pred, Y_test)"
      ],
      "execution_count": null,
      "outputs": [
        {
          "output_type": "execute_result",
          "data": {
            "text/plain": [
              "0.7717506616769709"
            ]
          },
          "metadata": {
            "tags": []
          },
          "execution_count": 285
        }
      ]
    },
    {
      "cell_type": "code",
      "metadata": {
        "colab": {
          "base_uri": "https://localhost:8080/",
          "height": 235
        },
        "id": "bh1XuozhESGK",
        "outputId": "7019310f-e05c-45a5-f482-62ff5be88b8b"
      },
      "source": [
        "Y.head()"
      ],
      "execution_count": null,
      "outputs": [
        {
          "output_type": "execute_result",
          "data": {
            "text/html": [
              "<div>\n",
              "<style scoped>\n",
              "    .dataframe tbody tr th:only-of-type {\n",
              "        vertical-align: middle;\n",
              "    }\n",
              "\n",
              "    .dataframe tbody tr th {\n",
              "        vertical-align: top;\n",
              "    }\n",
              "\n",
              "    .dataframe thead th {\n",
              "        text-align: right;\n",
              "    }\n",
              "</style>\n",
              "<table border=\"1\" class=\"dataframe\">\n",
              "  <thead>\n",
              "    <tr style=\"text-align: right;\">\n",
              "      <th></th>\n",
              "      <th>Price per pound</th>\n",
              "    </tr>\n",
              "    <tr>\n",
              "      <th>Year</th>\n",
              "      <th></th>\n",
              "    </tr>\n",
              "  </thead>\n",
              "  <tbody>\n",
              "    <tr>\n",
              "      <th>2021-01-01</th>\n",
              "      <td>2.89</td>\n",
              "    </tr>\n",
              "    <tr>\n",
              "      <th>2020-01-01</th>\n",
              "      <td>1.83</td>\n",
              "    </tr>\n",
              "    <tr>\n",
              "      <th>2019-01-01</th>\n",
              "      <td>2.45</td>\n",
              "    </tr>\n",
              "    <tr>\n",
              "      <th>2018-01-01</th>\n",
              "      <td>2.50</td>\n",
              "    </tr>\n",
              "    <tr>\n",
              "      <th>2017-01-01</th>\n",
              "      <td>2.53</td>\n",
              "    </tr>\n",
              "  </tbody>\n",
              "</table>\n",
              "</div>"
            ],
            "text/plain": [
              "            Price per pound\n",
              "Year                       \n",
              "2021-01-01             2.89\n",
              "2020-01-01             1.83\n",
              "2019-01-01             2.45\n",
              "2018-01-01             2.50\n",
              "2017-01-01             2.53"
            ]
          },
          "metadata": {
            "tags": []
          },
          "execution_count": 286
        }
      ]
    },
    {
      "cell_type": "code",
      "metadata": {
        "colab": {
          "base_uri": "https://localhost:8080/",
          "height": 235
        },
        "id": "KfFKvuxnx62l",
        "outputId": "4cf8baa3-cf93-45fa-beaf-0e2288b014c3"
      },
      "source": [
        "X2.head()"
      ],
      "execution_count": null,
      "outputs": [
        {
          "output_type": "execute_result",
          "data": {
            "text/html": [
              "<div>\n",
              "<style scoped>\n",
              "    .dataframe tbody tr th:only-of-type {\n",
              "        vertical-align: middle;\n",
              "    }\n",
              "\n",
              "    .dataframe tbody tr th {\n",
              "        vertical-align: top;\n",
              "    }\n",
              "\n",
              "    .dataframe thead th {\n",
              "        text-align: right;\n",
              "    }\n",
              "</style>\n",
              "<table border=\"1\" class=\"dataframe\">\n",
              "  <thead>\n",
              "    <tr style=\"text-align: right;\">\n",
              "      <th></th>\n",
              "      <th>Revenue Total</th>\n",
              "    </tr>\n",
              "    <tr>\n",
              "      <th>Year</th>\n",
              "      <th></th>\n",
              "    </tr>\n",
              "  </thead>\n",
              "  <tbody>\n",
              "    <tr>\n",
              "      <th>2021-01-01</th>\n",
              "      <td>1.431020</td>\n",
              "    </tr>\n",
              "    <tr>\n",
              "      <th>2020-01-01</th>\n",
              "      <td>0.854683</td>\n",
              "    </tr>\n",
              "    <tr>\n",
              "      <th>2019-01-01</th>\n",
              "      <td>1.118234</td>\n",
              "    </tr>\n",
              "    <tr>\n",
              "      <th>2018-01-01</th>\n",
              "      <td>0.846319</td>\n",
              "    </tr>\n",
              "    <tr>\n",
              "      <th>2017-01-01</th>\n",
              "      <td>0.847014</td>\n",
              "    </tr>\n",
              "  </tbody>\n",
              "</table>\n",
              "</div>"
            ],
            "text/plain": [
              "            Revenue Total\n",
              "Year                     \n",
              "2021-01-01       1.431020\n",
              "2020-01-01       0.854683\n",
              "2019-01-01       1.118234\n",
              "2018-01-01       0.846319\n",
              "2017-01-01       0.847014"
            ]
          },
          "metadata": {
            "tags": []
          },
          "execution_count": 287
        }
      ]
    },
    {
      "cell_type": "code",
      "metadata": {
        "colab": {
          "base_uri": "https://localhost:8080/"
        },
        "id": "itsvMJirBS3t",
        "outputId": "bd781c65-ffc7-4f3b-d46b-054fe5e0759e"
      },
      "source": [
        "print(X_train.shape)\n",
        "print(X_test.shape)\n",
        "print(Y_train.shape)\n",
        "print(Y_test.shape)"
      ],
      "execution_count": null,
      "outputs": [
        {
          "output_type": "stream",
          "text": [
            "(17, 8)\n",
            "(5, 8)\n",
            "(17, 1)\n",
            "(5, 1)\n"
          ],
          "name": "stdout"
        }
      ]
    },
    {
      "cell_type": "code",
      "metadata": {
        "id": "zna-WkiuLL01"
      },
      "source": [
        "California_total['Year'] = California_total['Year'].astype(str)\n",
        "California_total_2030 = California_total[California_total['Year'] >= '2021-01-01']\n",
        "California_total_2030.set_index('Year', inplace=True)\n",
        "California_total_2030.index = pd.to_datetime(California_total_2030.index)"
      ],
      "execution_count": null,
      "outputs": []
    },
    {
      "cell_type": "code",
      "metadata": {
        "id": "-LmNNgcmKGP1"
      },
      "source": [
        "col_names = ['Median Temperature Anomaly °C','Annual Average °C','CO2 Concentrations','Production millon pounds', 'Price per pound','Revenue Total','D0','D1','D2','D3','D4', 'Total Inches of Rainfall']\n",
        "features = California_total_2030[col_names]\n",
        "scaler = StandardScaler().fit(features.values)\n",
        "features = scaler.transform(features.values)\n",
        "scaled_features_2030 = pd.DataFrame(features, columns = col_names)"
      ],
      "execution_count": null,
      "outputs": []
    },
    {
      "cell_type": "code",
      "metadata": {
        "colab": {
          "base_uri": "https://localhost:8080/",
          "height": 371
        },
        "id": "BEv0g7JBJ6q9",
        "outputId": "eddbe513-db0c-45fe-f617-8a0fd6f46468"
      },
      "source": [
        "California_total_2030.reset_index(inplace=True)\n",
        "year_col = California_total_2030['Year']\n",
        "year_col = pd.DataFrame(year_col)\n",
        "scaled_features_2030 = year_col.join(scaled_features_2030)\n",
        "scaled_features_2030.set_index('Year', inplace=True)\n",
        "scaled_features_2030.head()"
      ],
      "execution_count": null,
      "outputs": [
        {
          "output_type": "execute_result",
          "data": {
            "text/html": [
              "<div>\n",
              "<style scoped>\n",
              "    .dataframe tbody tr th:only-of-type {\n",
              "        vertical-align: middle;\n",
              "    }\n",
              "\n",
              "    .dataframe tbody tr th {\n",
              "        vertical-align: top;\n",
              "    }\n",
              "\n",
              "    .dataframe thead th {\n",
              "        text-align: right;\n",
              "    }\n",
              "</style>\n",
              "<table border=\"1\" class=\"dataframe\">\n",
              "  <thead>\n",
              "    <tr style=\"text-align: right;\">\n",
              "      <th></th>\n",
              "      <th>Median Temperature Anomaly °C</th>\n",
              "      <th>Annual Average °C</th>\n",
              "      <th>CO2 Concentrations</th>\n",
              "      <th>Production millon pounds</th>\n",
              "      <th>Price per pound</th>\n",
              "      <th>Revenue Total</th>\n",
              "      <th>D0</th>\n",
              "      <th>D1</th>\n",
              "      <th>D2</th>\n",
              "      <th>D3</th>\n",
              "      <th>D4</th>\n",
              "      <th>Total Inches of Rainfall</th>\n",
              "    </tr>\n",
              "    <tr>\n",
              "      <th>Year</th>\n",
              "      <th></th>\n",
              "      <th></th>\n",
              "      <th></th>\n",
              "      <th></th>\n",
              "      <th></th>\n",
              "      <th></th>\n",
              "      <th></th>\n",
              "      <th></th>\n",
              "      <th></th>\n",
              "      <th></th>\n",
              "      <th></th>\n",
              "      <th></th>\n",
              "    </tr>\n",
              "  </thead>\n",
              "  <tbody>\n",
              "    <tr>\n",
              "      <th>2030-01-01</th>\n",
              "      <td>1.680238</td>\n",
              "      <td>-0.879360</td>\n",
              "      <td>1.568773</td>\n",
              "      <td>1.437964</td>\n",
              "      <td>1.552954</td>\n",
              "      <td>1.614341</td>\n",
              "      <td>1.292608</td>\n",
              "      <td>1.434357</td>\n",
              "      <td>1.415638</td>\n",
              "      <td>1.383222</td>\n",
              "      <td>1.297270</td>\n",
              "      <td>0.211957</td>\n",
              "    </tr>\n",
              "    <tr>\n",
              "      <th>2029-01-01</th>\n",
              "      <td>1.487107</td>\n",
              "      <td>1.149933</td>\n",
              "      <td>1.217286</td>\n",
              "      <td>0.981562</td>\n",
              "      <td>1.671049</td>\n",
              "      <td>1.353199</td>\n",
              "      <td>0.420117</td>\n",
              "      <td>0.719155</td>\n",
              "      <td>1.337522</td>\n",
              "      <td>1.046074</td>\n",
              "      <td>0.497950</td>\n",
              "      <td>0.918482</td>\n",
              "    </tr>\n",
              "    <tr>\n",
              "      <th>2028-01-01</th>\n",
              "      <td>0.328322</td>\n",
              "      <td>1.053300</td>\n",
              "      <td>0.868803</td>\n",
              "      <td>1.162598</td>\n",
              "      <td>0.017714</td>\n",
              "      <td>0.672533</td>\n",
              "      <td>1.641332</td>\n",
              "      <td>1.336481</td>\n",
              "      <td>0.156713</td>\n",
              "      <td>0.434384</td>\n",
              "      <td>1.445066</td>\n",
              "      <td>-0.954879</td>\n",
              "    </tr>\n",
              "    <tr>\n",
              "      <th>2027-01-01</th>\n",
              "      <td>0.328322</td>\n",
              "      <td>-0.975993</td>\n",
              "      <td>0.521823</td>\n",
              "      <td>0.599795</td>\n",
              "      <td>0.194857</td>\n",
              "      <td>0.457230</td>\n",
              "      <td>0.696866</td>\n",
              "      <td>0.561079</td>\n",
              "      <td>0.088257</td>\n",
              "      <td>0.204546</td>\n",
              "      <td>0.770435</td>\n",
              "      <td>-0.184125</td>\n",
              "    </tr>\n",
              "    <tr>\n",
              "      <th>2026-01-01</th>\n",
              "      <td>0.328322</td>\n",
              "      <td>-0.975993</td>\n",
              "      <td>0.176344</td>\n",
              "      <td>0.090062</td>\n",
              "      <td>0.312953</td>\n",
              "      <td>0.219073</td>\n",
              "      <td>-0.211935</td>\n",
              "      <td>-0.184430</td>\n",
              "      <td>0.015140</td>\n",
              "      <td>-0.078897</td>\n",
              "      <td>0.033206</td>\n",
              "      <td>0.554515</td>\n",
              "    </tr>\n",
              "  </tbody>\n",
              "</table>\n",
              "</div>"
            ],
            "text/plain": [
              "            Median Temperature Anomaly °C  ...  Total Inches of Rainfall\n",
              "Year                                       ...                          \n",
              "2030-01-01                       1.680238  ...                  0.211957\n",
              "2029-01-01                       1.487107  ...                  0.918482\n",
              "2028-01-01                       0.328322  ...                 -0.954879\n",
              "2027-01-01                       0.328322  ...                 -0.184125\n",
              "2026-01-01                       0.328322  ...                  0.554515\n",
              "\n",
              "[5 rows x 12 columns]"
            ]
          },
          "metadata": {
            "tags": []
          },
          "execution_count": 291
        }
      ]
    },
    {
      "cell_type": "code",
      "metadata": {
        "id": "82NB-KawBXTQ"
      },
      "source": [
        "X_2030 = scaled_features_2030.drop(columns={'Price per pound','Total Inches of Rainfall','D0', 'CO2 Concentrations'})\n",
        "X2_2030 = scaled_features_2030.drop(columns={'Median Temperature Anomaly °C','Annual Average °C', 'CO2 Concentrations','Price per pound','Production millon pounds','D1','D2','D3','D4','Total Inches of Rainfall','D0'})\n",
        "Y_2030 = scaled_features_2030.drop(columns={'Median Temperature Anomaly °C','Annual Average °C', 'CO2 Concentrations', 'Production millon pounds','Revenue Total','D1','D2','D3','D4','Total Inches of Rainfall','D0'})"
      ],
      "execution_count": null,
      "outputs": []
    },
    {
      "cell_type": "code",
      "metadata": {
        "colab": {
          "base_uri": "https://localhost:8080/"
        },
        "id": "Na2g--icBb6Z",
        "outputId": "fa593910-f207-4991-f394-a7266ba73285"
      },
      "source": [
        "X_2030.info()"
      ],
      "execution_count": null,
      "outputs": [
        {
          "output_type": "stream",
          "text": [
            "<class 'pandas.core.frame.DataFrame'>\n",
            "DatetimeIndex: 10 entries, 2030-01-01 to 2021-01-01\n",
            "Data columns (total 8 columns):\n",
            " #   Column                         Non-Null Count  Dtype  \n",
            "---  ------                         --------------  -----  \n",
            " 0   Median Temperature Anomaly °C  10 non-null     float64\n",
            " 1   Annual Average °C              10 non-null     float64\n",
            " 2   Production millon pounds       10 non-null     float64\n",
            " 3   Revenue Total                  10 non-null     float64\n",
            " 4   D1                             10 non-null     float64\n",
            " 5   D2                             10 non-null     float64\n",
            " 6   D3                             10 non-null     float64\n",
            " 7   D4                             10 non-null     float64\n",
            "dtypes: float64(8)\n",
            "memory usage: 720.0 bytes\n"
          ],
          "name": "stdout"
        }
      ]
    },
    {
      "cell_type": "code",
      "metadata": {
        "id": "zxVlO5GRCDpc"
      },
      "source": [
        "y_pred_2030 = model.predict(X_2030)\n",
        "#r2_score(y_pred, Y_test)"
      ],
      "execution_count": null,
      "outputs": []
    },
    {
      "cell_type": "code",
      "metadata": {
        "colab": {
          "base_uri": "https://localhost:8080/"
        },
        "id": "2PNPnRdTQjMI",
        "outputId": "78d71a73-7f09-4b1f-bc57-64f515ac8218"
      },
      "source": [
        "y_pred_2030"
      ],
      "execution_count": null,
      "outputs": [
        {
          "output_type": "execute_result",
          "data": {
            "text/plain": [
              "array([[3.41441958],\n",
              "       [3.43374484],\n",
              "       [1.62297862],\n",
              "       [2.28707645],\n",
              "       [2.64676035],\n",
              "       [2.66612856],\n",
              "       [0.86610818],\n",
              "       [1.51945949],\n",
              "       [1.87914293],\n",
              "       [1.22765459]])"
            ]
          },
          "metadata": {
            "tags": []
          },
          "execution_count": 295
        }
      ]
    },
    {
      "cell_type": "code",
      "metadata": {
        "colab": {
          "base_uri": "https://localhost:8080/"
        },
        "id": "hOs08hx5RGBP",
        "outputId": "91f23c4e-f85b-41cc-893d-5a96998a6643"
      },
      "source": [
        "y_pred_2030.shape"
      ],
      "execution_count": null,
      "outputs": [
        {
          "output_type": "execute_result",
          "data": {
            "text/plain": [
              "(10, 1)"
            ]
          },
          "metadata": {
            "tags": []
          },
          "execution_count": 296
        }
      ]
    },
    {
      "cell_type": "code",
      "metadata": {
        "id": "56cqLgnrRgi5"
      },
      "source": [
        "y_pred_2030 = pd.DataFrame(y_pred_2030)"
      ],
      "execution_count": null,
      "outputs": []
    },
    {
      "cell_type": "code",
      "metadata": {
        "colab": {
          "base_uri": "https://localhost:8080/",
          "height": 235
        },
        "id": "6EHBls6OTCQC",
        "outputId": "f56f4d0d-163d-46a8-9ab4-252bbe942367"
      },
      "source": [
        "y_pred_2030= year_col.join(y_pred_2030)\n",
        "y_pred_2030.set_index('Year', inplace=True)\n",
        "y_pred_2030.head()"
      ],
      "execution_count": null,
      "outputs": [
        {
          "output_type": "execute_result",
          "data": {
            "text/html": [
              "<div>\n",
              "<style scoped>\n",
              "    .dataframe tbody tr th:only-of-type {\n",
              "        vertical-align: middle;\n",
              "    }\n",
              "\n",
              "    .dataframe tbody tr th {\n",
              "        vertical-align: top;\n",
              "    }\n",
              "\n",
              "    .dataframe thead th {\n",
              "        text-align: right;\n",
              "    }\n",
              "</style>\n",
              "<table border=\"1\" class=\"dataframe\">\n",
              "  <thead>\n",
              "    <tr style=\"text-align: right;\">\n",
              "      <th></th>\n",
              "      <th>0</th>\n",
              "    </tr>\n",
              "    <tr>\n",
              "      <th>Year</th>\n",
              "      <th></th>\n",
              "    </tr>\n",
              "  </thead>\n",
              "  <tbody>\n",
              "    <tr>\n",
              "      <th>2030-01-01</th>\n",
              "      <td>3.414420</td>\n",
              "    </tr>\n",
              "    <tr>\n",
              "      <th>2029-01-01</th>\n",
              "      <td>3.433745</td>\n",
              "    </tr>\n",
              "    <tr>\n",
              "      <th>2028-01-01</th>\n",
              "      <td>1.622979</td>\n",
              "    </tr>\n",
              "    <tr>\n",
              "      <th>2027-01-01</th>\n",
              "      <td>2.287076</td>\n",
              "    </tr>\n",
              "    <tr>\n",
              "      <th>2026-01-01</th>\n",
              "      <td>2.646760</td>\n",
              "    </tr>\n",
              "  </tbody>\n",
              "</table>\n",
              "</div>"
            ],
            "text/plain": [
              "                   0\n",
              "Year                \n",
              "2030-01-01  3.414420\n",
              "2029-01-01  3.433745\n",
              "2028-01-01  1.622979\n",
              "2027-01-01  2.287076\n",
              "2026-01-01  2.646760"
            ]
          },
          "metadata": {
            "tags": []
          },
          "execution_count": 298
        }
      ]
    },
    {
      "cell_type": "code",
      "metadata": {
        "colab": {
          "base_uri": "https://localhost:8080/"
        },
        "id": "GC0jQdbSVW6O",
        "outputId": "4bd3d8ac-25dd-43a6-8a11-b96d1046dae9"
      },
      "source": [
        "y_pred_2030.info()"
      ],
      "execution_count": null,
      "outputs": [
        {
          "output_type": "stream",
          "text": [
            "<class 'pandas.core.frame.DataFrame'>\n",
            "DatetimeIndex: 10 entries, 2030-01-01 to 2021-01-01\n",
            "Data columns (total 1 columns):\n",
            " #   Column  Non-Null Count  Dtype  \n",
            "---  ------  --------------  -----  \n",
            " 0   0       10 non-null     float64\n",
            "dtypes: float64(1)\n",
            "memory usage: 160.0 bytes\n"
          ],
          "name": "stdout"
        }
      ]
    },
    {
      "cell_type": "code",
      "metadata": {
        "id": "BoGiA13aUq_w"
      },
      "source": [
        "y_pred_2030.rename(columns={0:'Price Per Pound: Regression'}, inplace=True)"
      ],
      "execution_count": null,
      "outputs": []
    },
    {
      "cell_type": "code",
      "metadata": {
        "colab": {
          "base_uri": "https://localhost:8080/",
          "height": 235
        },
        "id": "coOM2L2FVQ29",
        "outputId": "04545d1b-7f24-4df1-a38a-bca7e840dffa"
      },
      "source": [
        "y_pred_2030.head()"
      ],
      "execution_count": null,
      "outputs": [
        {
          "output_type": "execute_result",
          "data": {
            "text/html": [
              "<div>\n",
              "<style scoped>\n",
              "    .dataframe tbody tr th:only-of-type {\n",
              "        vertical-align: middle;\n",
              "    }\n",
              "\n",
              "    .dataframe tbody tr th {\n",
              "        vertical-align: top;\n",
              "    }\n",
              "\n",
              "    .dataframe thead th {\n",
              "        text-align: right;\n",
              "    }\n",
              "</style>\n",
              "<table border=\"1\" class=\"dataframe\">\n",
              "  <thead>\n",
              "    <tr style=\"text-align: right;\">\n",
              "      <th></th>\n",
              "      <th>Price Per Pound: Regression</th>\n",
              "    </tr>\n",
              "    <tr>\n",
              "      <th>Year</th>\n",
              "      <th></th>\n",
              "    </tr>\n",
              "  </thead>\n",
              "  <tbody>\n",
              "    <tr>\n",
              "      <th>2030-01-01</th>\n",
              "      <td>3.414420</td>\n",
              "    </tr>\n",
              "    <tr>\n",
              "      <th>2029-01-01</th>\n",
              "      <td>3.433745</td>\n",
              "    </tr>\n",
              "    <tr>\n",
              "      <th>2028-01-01</th>\n",
              "      <td>1.622979</td>\n",
              "    </tr>\n",
              "    <tr>\n",
              "      <th>2027-01-01</th>\n",
              "      <td>2.287076</td>\n",
              "    </tr>\n",
              "    <tr>\n",
              "      <th>2026-01-01</th>\n",
              "      <td>2.646760</td>\n",
              "    </tr>\n",
              "  </tbody>\n",
              "</table>\n",
              "</div>"
            ],
            "text/plain": [
              "            Price Per Pound: Regression\n",
              "Year                                   \n",
              "2030-01-01                     3.414420\n",
              "2029-01-01                     3.433745\n",
              "2028-01-01                     1.622979\n",
              "2027-01-01                     2.287076\n",
              "2026-01-01                     2.646760"
            ]
          },
          "metadata": {
            "tags": []
          },
          "execution_count": 301
        }
      ]
    },
    {
      "cell_type": "code",
      "metadata": {
        "id": "AnzKFGD8TaCW"
      },
      "source": [
        "almonds_price_Prediction_2030 = almonds_price_Prediction[almonds_price_Prediction.index >= '2021-01-01']"
      ],
      "execution_count": null,
      "outputs": []
    },
    {
      "cell_type": "code",
      "metadata": {
        "colab": {
          "base_uri": "https://localhost:8080/"
        },
        "id": "cIXEqUwpV2RZ",
        "outputId": "3c26959a-1e9d-4b82-e062-7b0358d53cbb"
      },
      "source": [
        "almonds_price_Prediction_2030.rename(columns={'Price per pound': 'Price Per Pound: Facebook'}, inplace=True)"
      ],
      "execution_count": null,
      "outputs": [
        {
          "output_type": "stream",
          "text": [
            "/usr/local/lib/python3.7/dist-packages/pandas/core/frame.py:4308: SettingWithCopyWarning:\n",
            "\n",
            "\n",
            "A value is trying to be set on a copy of a slice from a DataFrame\n",
            "\n",
            "See the caveats in the documentation: https://pandas.pydata.org/pandas-docs/stable/user_guide/indexing.html#returning-a-view-versus-a-copy\n",
            "\n"
          ],
          "name": "stderr"
        }
      ]
    },
    {
      "cell_type": "code",
      "metadata": {
        "colab": {
          "base_uri": "https://localhost:8080/",
          "height": 235
        },
        "id": "YYHwbeO4T6Y8",
        "outputId": "a6902fac-afdf-4c3d-ae84-c68873df51d0"
      },
      "source": [
        "almonds_price_Prediction_2030.head()"
      ],
      "execution_count": null,
      "outputs": [
        {
          "output_type": "execute_result",
          "data": {
            "text/html": [
              "<div>\n",
              "<style scoped>\n",
              "    .dataframe tbody tr th:only-of-type {\n",
              "        vertical-align: middle;\n",
              "    }\n",
              "\n",
              "    .dataframe tbody tr th {\n",
              "        vertical-align: top;\n",
              "    }\n",
              "\n",
              "    .dataframe thead th {\n",
              "        text-align: right;\n",
              "    }\n",
              "</style>\n",
              "<table border=\"1\" class=\"dataframe\">\n",
              "  <thead>\n",
              "    <tr style=\"text-align: right;\">\n",
              "      <th></th>\n",
              "      <th>Price Per Pound: Facebook</th>\n",
              "    </tr>\n",
              "    <tr>\n",
              "      <th>Year</th>\n",
              "      <th></th>\n",
              "    </tr>\n",
              "  </thead>\n",
              "  <tbody>\n",
              "    <tr>\n",
              "      <th>2030-01-01</th>\n",
              "      <td>3.304312</td>\n",
              "    </tr>\n",
              "    <tr>\n",
              "      <th>2029-01-01</th>\n",
              "      <td>3.320884</td>\n",
              "    </tr>\n",
              "    <tr>\n",
              "      <th>2028-01-01</th>\n",
              "      <td>3.035243</td>\n",
              "    </tr>\n",
              "    <tr>\n",
              "      <th>2027-01-01</th>\n",
              "      <td>3.066024</td>\n",
              "    </tr>\n",
              "    <tr>\n",
              "      <th>2026-01-01</th>\n",
              "      <td>3.089748</td>\n",
              "    </tr>\n",
              "  </tbody>\n",
              "</table>\n",
              "</div>"
            ],
            "text/plain": [
              "            Price Per Pound: Facebook\n",
              "Year                                 \n",
              "2030-01-01                   3.304312\n",
              "2029-01-01                   3.320884\n",
              "2028-01-01                   3.035243\n",
              "2027-01-01                   3.066024\n",
              "2026-01-01                   3.089748"
            ]
          },
          "metadata": {
            "tags": []
          },
          "execution_count": 304
        }
      ]
    },
    {
      "cell_type": "code",
      "metadata": {
        "colab": {
          "base_uri": "https://localhost:8080/",
          "height": 390
        },
        "id": "d0-Q7DMmTNiX",
        "outputId": "2c3f2c62-b9e1-4885-dcae-cff343e66ed0"
      },
      "source": [
        "compare_pred = y_pred_2030.join(almonds_price_Prediction_2030)\n",
        "compare_pred"
      ],
      "execution_count": null,
      "outputs": [
        {
          "output_type": "execute_result",
          "data": {
            "text/html": [
              "<div>\n",
              "<style scoped>\n",
              "    .dataframe tbody tr th:only-of-type {\n",
              "        vertical-align: middle;\n",
              "    }\n",
              "\n",
              "    .dataframe tbody tr th {\n",
              "        vertical-align: top;\n",
              "    }\n",
              "\n",
              "    .dataframe thead th {\n",
              "        text-align: right;\n",
              "    }\n",
              "</style>\n",
              "<table border=\"1\" class=\"dataframe\">\n",
              "  <thead>\n",
              "    <tr style=\"text-align: right;\">\n",
              "      <th></th>\n",
              "      <th>Price Per Pound: Regression</th>\n",
              "      <th>Price Per Pound: Facebook</th>\n",
              "    </tr>\n",
              "    <tr>\n",
              "      <th>Year</th>\n",
              "      <th></th>\n",
              "      <th></th>\n",
              "    </tr>\n",
              "  </thead>\n",
              "  <tbody>\n",
              "    <tr>\n",
              "      <th>2030-01-01</th>\n",
              "      <td>3.414420</td>\n",
              "      <td>3.304312</td>\n",
              "    </tr>\n",
              "    <tr>\n",
              "      <th>2029-01-01</th>\n",
              "      <td>3.433745</td>\n",
              "      <td>3.320884</td>\n",
              "    </tr>\n",
              "    <tr>\n",
              "      <th>2028-01-01</th>\n",
              "      <td>1.622979</td>\n",
              "      <td>3.035243</td>\n",
              "    </tr>\n",
              "    <tr>\n",
              "      <th>2027-01-01</th>\n",
              "      <td>2.287076</td>\n",
              "      <td>3.066024</td>\n",
              "    </tr>\n",
              "    <tr>\n",
              "      <th>2026-01-01</th>\n",
              "      <td>2.646760</td>\n",
              "      <td>3.089748</td>\n",
              "    </tr>\n",
              "    <tr>\n",
              "      <th>2025-01-01</th>\n",
              "      <td>2.666129</td>\n",
              "      <td>3.106320</td>\n",
              "    </tr>\n",
              "    <tr>\n",
              "      <th>2024-01-01</th>\n",
              "      <td>0.866108</td>\n",
              "      <td>2.820678</td>\n",
              "    </tr>\n",
              "    <tr>\n",
              "      <th>2023-01-01</th>\n",
              "      <td>1.519459</td>\n",
              "      <td>2.851459</td>\n",
              "    </tr>\n",
              "    <tr>\n",
              "      <th>2022-01-01</th>\n",
              "      <td>1.879143</td>\n",
              "      <td>2.875183</td>\n",
              "    </tr>\n",
              "    <tr>\n",
              "      <th>2021-01-01</th>\n",
              "      <td>1.227655</td>\n",
              "      <td>2.891755</td>\n",
              "    </tr>\n",
              "  </tbody>\n",
              "</table>\n",
              "</div>"
            ],
            "text/plain": [
              "            Price Per Pound: Regression  Price Per Pound: Facebook\n",
              "Year                                                              \n",
              "2030-01-01                     3.414420                   3.304312\n",
              "2029-01-01                     3.433745                   3.320884\n",
              "2028-01-01                     1.622979                   3.035243\n",
              "2027-01-01                     2.287076                   3.066024\n",
              "2026-01-01                     2.646760                   3.089748\n",
              "2025-01-01                     2.666129                   3.106320\n",
              "2024-01-01                     0.866108                   2.820678\n",
              "2023-01-01                     1.519459                   2.851459\n",
              "2022-01-01                     1.879143                   2.875183\n",
              "2021-01-01                     1.227655                   2.891755"
            ]
          },
          "metadata": {
            "tags": []
          },
          "execution_count": 305
        }
      ]
    },
    {
      "cell_type": "code",
      "metadata": {
        "colab": {
          "base_uri": "https://localhost:8080/",
          "height": 235
        },
        "id": "jjhGvwDgb5Hh",
        "outputId": "c69342c9-66e5-44a1-8649-e898fba4adaf"
      },
      "source": [
        "col = compare_pred.loc[: , \"Price Per Pound: Regression\":\"Price Per Pound: Facebook\"]\n",
        "compare_pred['Price Avg'] = col.mean(axis=1)\n",
        "compare_pred = compare_pred.round(2)\n",
        "compare_pred.head()"
      ],
      "execution_count": null,
      "outputs": [
        {
          "output_type": "execute_result",
          "data": {
            "text/html": [
              "<div>\n",
              "<style scoped>\n",
              "    .dataframe tbody tr th:only-of-type {\n",
              "        vertical-align: middle;\n",
              "    }\n",
              "\n",
              "    .dataframe tbody tr th {\n",
              "        vertical-align: top;\n",
              "    }\n",
              "\n",
              "    .dataframe thead th {\n",
              "        text-align: right;\n",
              "    }\n",
              "</style>\n",
              "<table border=\"1\" class=\"dataframe\">\n",
              "  <thead>\n",
              "    <tr style=\"text-align: right;\">\n",
              "      <th></th>\n",
              "      <th>Price Per Pound: Regression</th>\n",
              "      <th>Price Per Pound: Facebook</th>\n",
              "      <th>Price Avg</th>\n",
              "    </tr>\n",
              "    <tr>\n",
              "      <th>Year</th>\n",
              "      <th></th>\n",
              "      <th></th>\n",
              "      <th></th>\n",
              "    </tr>\n",
              "  </thead>\n",
              "  <tbody>\n",
              "    <tr>\n",
              "      <th>2030-01-01</th>\n",
              "      <td>3.41</td>\n",
              "      <td>3.30</td>\n",
              "      <td>3.36</td>\n",
              "    </tr>\n",
              "    <tr>\n",
              "      <th>2029-01-01</th>\n",
              "      <td>3.43</td>\n",
              "      <td>3.32</td>\n",
              "      <td>3.38</td>\n",
              "    </tr>\n",
              "    <tr>\n",
              "      <th>2028-01-01</th>\n",
              "      <td>1.62</td>\n",
              "      <td>3.04</td>\n",
              "      <td>2.33</td>\n",
              "    </tr>\n",
              "    <tr>\n",
              "      <th>2027-01-01</th>\n",
              "      <td>2.29</td>\n",
              "      <td>3.07</td>\n",
              "      <td>2.68</td>\n",
              "    </tr>\n",
              "    <tr>\n",
              "      <th>2026-01-01</th>\n",
              "      <td>2.65</td>\n",
              "      <td>3.09</td>\n",
              "      <td>2.87</td>\n",
              "    </tr>\n",
              "  </tbody>\n",
              "</table>\n",
              "</div>"
            ],
            "text/plain": [
              "            Price Per Pound: Regression  Price Per Pound: Facebook  Price Avg\n",
              "Year                                                                         \n",
              "2030-01-01                         3.41                       3.30       3.36\n",
              "2029-01-01                         3.43                       3.32       3.38\n",
              "2028-01-01                         1.62                       3.04       2.33\n",
              "2027-01-01                         2.29                       3.07       2.68\n",
              "2026-01-01                         2.65                       3.09       2.87"
            ]
          },
          "metadata": {
            "tags": []
          },
          "execution_count": 306
        }
      ]
    },
    {
      "cell_type": "code",
      "metadata": {
        "id": "xhUXug0rY2cz"
      },
      "source": [
        "compare_pred = compare_pred.join(almonds['Price per pound'])"
      ],
      "execution_count": null,
      "outputs": []
    },
    {
      "cell_type": "code",
      "metadata": {
        "colab": {
          "base_uri": "https://localhost:8080/",
          "height": 296
        },
        "id": "SDYMotaqXG_U",
        "outputId": "e5f4a189-1d6a-4593-a5dc-13da7fb00c7a"
      },
      "source": [
        "compare_pred.plot()"
      ],
      "execution_count": null,
      "outputs": [
        {
          "output_type": "execute_result",
          "data": {
            "text/plain": [
              "<matplotlib.axes._subplots.AxesSubplot at 0x7f6af97a8b50>"
            ]
          },
          "metadata": {
            "tags": []
          },
          "execution_count": 308
        },
        {
          "output_type": "display_data",
          "data": {
            "image/png": "[encoded data removed]",
            "text/plain": [
              "<Figure size 432x288 with 1 Axes>"
            ]
          },
          "metadata": {
            "tags": [],
            "needs_background": "light"
          }
        }
      ]
    },
    {
      "cell_type": "code",
      "metadata": {
        "id": "7rx-19AFYFdV"
      },
      "source": [
        ""
      ],
      "execution_count": null,
      "outputs": []
    },
    {
      "cell_type": "code",
      "metadata": {
        "colab": {
          "base_uri": "https://localhost:8080/",
          "height": 235
        },
        "id": "q9trqJOobbno",
        "outputId": "583ba294-247c-4034-f6da-45ea3714d1b1"
      },
      "source": [
        "almonds.head()"
      ],
      "execution_count": null,
      "outputs": [
        {
          "output_type": "execute_result",
          "data": {
            "text/html": [
              "<div>\n",
              "<style scoped>\n",
              "    .dataframe tbody tr th:only-of-type {\n",
              "        vertical-align: middle;\n",
              "    }\n",
              "\n",
              "    .dataframe tbody tr th {\n",
              "        vertical-align: top;\n",
              "    }\n",
              "\n",
              "    .dataframe thead th {\n",
              "        text-align: right;\n",
              "    }\n",
              "</style>\n",
              "<table border=\"1\" class=\"dataframe\">\n",
              "  <thead>\n",
              "    <tr style=\"text-align: right;\">\n",
              "      <th></th>\n",
              "      <th>Production millon pounds</th>\n",
              "      <th>Price per pound</th>\n",
              "      <th>Revenue Total</th>\n",
              "    </tr>\n",
              "    <tr>\n",
              "      <th>Year</th>\n",
              "      <th></th>\n",
              "      <th></th>\n",
              "      <th></th>\n",
              "    </tr>\n",
              "  </thead>\n",
              "  <tbody>\n",
              "    <tr>\n",
              "      <th>2020-01-01</th>\n",
              "      <td>3115</td>\n",
              "      <td>1.83</td>\n",
              "      <td>5619930</td>\n",
              "    </tr>\n",
              "    <tr>\n",
              "      <th>2019-01-01</th>\n",
              "      <td>2560</td>\n",
              "      <td>2.45</td>\n",
              "      <td>6169100</td>\n",
              "    </tr>\n",
              "    <tr>\n",
              "      <th>2018-01-01</th>\n",
              "      <td>2280</td>\n",
              "      <td>2.50</td>\n",
              "      <td>5602500</td>\n",
              "    </tr>\n",
              "    <tr>\n",
              "      <th>2017-01-01</th>\n",
              "      <td>2270</td>\n",
              "      <td>2.53</td>\n",
              "      <td>5603950</td>\n",
              "    </tr>\n",
              "    <tr>\n",
              "      <th>2016-01-01</th>\n",
              "      <td>2140</td>\n",
              "      <td>2.39</td>\n",
              "      <td>5052460</td>\n",
              "    </tr>\n",
              "  </tbody>\n",
              "</table>\n",
              "</div>"
            ],
            "text/plain": [
              "            Production millon pounds  Price per pound  Revenue Total\n",
              "Year                                                                \n",
              "2020-01-01                      3115             1.83        5619930\n",
              "2019-01-01                      2560             2.45        6169100\n",
              "2018-01-01                      2280             2.50        5602500\n",
              "2017-01-01                      2270             2.53        5603950\n",
              "2016-01-01                      2140             2.39        5052460"
            ]
          },
          "metadata": {
            "tags": []
          },
          "execution_count": 309
        }
      ]
    },
    {
      "cell_type": "code",
      "metadata": {
        "colab": {
          "base_uri": "https://localhost:8080/",
          "height": 442
        },
        "id": "nSvipWXxYcNb",
        "outputId": "17741467-72c4-42bd-ea4c-d5f939e50343"
      },
      "source": [
        "ax = almonds['Price per pound'].plot(label='Observados')\n",
        "\n",
        "compare_pred['Price Per Pound: Regression'].plot(ax=ax, label='Price Per Pound: Regression', alpha=0.7, figsize=(14, 7))\n",
        "compare_pred['Price Per Pound: Facebook'].plot(ax=ax, label='Price Per Pound: Facebook', alpha=0.7, figsize=(14, 7))\n",
        "compare_pred['Price Avg'].plot(ax=ax, label='Price Avg', alpha=0.7, figsize=(14, 7))\n",
        "\n",
        "\n",
        "plt.legend()\n",
        "plt.show()"
      ],
      "execution_count": null,
      "outputs": [
        {
          "output_type": "display_data",
          "data": {
            "image/png": "[encoded data removed]",
            "text/plain": [
              "<Figure size 1008x504 with 1 Axes>"
            ]
          },
          "metadata": {
            "tags": [],
            "needs_background": "light"
          }
        }
      ]
    },
    {
      "cell_type": "code",
      "metadata": {
        "colab": {
          "base_uri": "https://localhost:8080/",
          "height": 360
        },
        "id": "yGHK5dNbRwMn",
        "outputId": "b0aadc29-7d98-4eb5-e023-0ea1b7aa4faa"
      },
      "source": [
        "California_total.head()"
      ],
      "execution_count": null,
      "outputs": [
        {
          "output_type": "execute_result",
          "data": {
            "text/html": [
              "<div>\n",
              "<style scoped>\n",
              "    .dataframe tbody tr th:only-of-type {\n",
              "        vertical-align: middle;\n",
              "    }\n",
              "\n",
              "    .dataframe tbody tr th {\n",
              "        vertical-align: top;\n",
              "    }\n",
              "\n",
              "    .dataframe thead th {\n",
              "        text-align: right;\n",
              "    }\n",
              "</style>\n",
              "<table border=\"1\" class=\"dataframe\">\n",
              "  <thead>\n",
              "    <tr style=\"text-align: right;\">\n",
              "      <th></th>\n",
              "      <th>Year</th>\n",
              "      <th>Median Temperature Anomaly °C</th>\n",
              "      <th>Annual Average °C</th>\n",
              "      <th>CO2 Concentrations</th>\n",
              "      <th>Total Inches of Rainfall</th>\n",
              "      <th>Production millon pounds</th>\n",
              "      <th>Price per pound</th>\n",
              "      <th>Revenue Total</th>\n",
              "      <th>D0</th>\n",
              "      <th>D1</th>\n",
              "      <th>D2</th>\n",
              "      <th>D3</th>\n",
              "      <th>D4</th>\n",
              "    </tr>\n",
              "  </thead>\n",
              "  <tbody>\n",
              "    <tr>\n",
              "      <th>0</th>\n",
              "      <td>2030-01-01</td>\n",
              "      <td>0.90</td>\n",
              "      <td>19.11</td>\n",
              "      <td>436.16</td>\n",
              "      <td>11.72</td>\n",
              "      <td>3449.62</td>\n",
              "      <td>3.30</td>\n",
              "      <td>9114914.56</td>\n",
              "      <td>153255.03</td>\n",
              "      <td>137683.95</td>\n",
              "      <td>106687.41</td>\n",
              "      <td>65892.66</td>\n",
              "      <td>29407.83</td>\n",
              "    </tr>\n",
              "    <tr>\n",
              "      <th>1</th>\n",
              "      <td>2029-01-01</td>\n",
              "      <td>0.89</td>\n",
              "      <td>19.32</td>\n",
              "      <td>433.82</td>\n",
              "      <td>12.38</td>\n",
              "      <td>3327.50</td>\n",
              "      <td>3.32</td>\n",
              "      <td>8918604.87</td>\n",
              "      <td>146302.62</td>\n",
              "      <td>131609.35</td>\n",
              "      <td>106012.29</td>\n",
              "      <td>63863.57</td>\n",
              "      <td>26635.40</td>\n",
              "    </tr>\n",
              "    <tr>\n",
              "      <th>2</th>\n",
              "      <td>2028-01-01</td>\n",
              "      <td>0.83</td>\n",
              "      <td>19.31</td>\n",
              "      <td>431.50</td>\n",
              "      <td>10.63</td>\n",
              "      <td>3375.94</td>\n",
              "      <td>3.04</td>\n",
              "      <td>8406925.03</td>\n",
              "      <td>156033.83</td>\n",
              "      <td>136852.63</td>\n",
              "      <td>95807.06</td>\n",
              "      <td>60182.19</td>\n",
              "      <td>29920.46</td>\n",
              "    </tr>\n",
              "    <tr>\n",
              "      <th>3</th>\n",
              "      <td>2027-01-01</td>\n",
              "      <td>0.83</td>\n",
              "      <td>19.10</td>\n",
              "      <td>429.19</td>\n",
              "      <td>11.35</td>\n",
              "      <td>3225.35</td>\n",
              "      <td>3.07</td>\n",
              "      <td>8245073.98</td>\n",
              "      <td>148507.88</td>\n",
              "      <td>130266.73</td>\n",
              "      <td>95215.42</td>\n",
              "      <td>58798.94</td>\n",
              "      <td>27580.51</td>\n",
              "    </tr>\n",
              "    <tr>\n",
              "      <th>4</th>\n",
              "      <td>2026-01-01</td>\n",
              "      <td>0.83</td>\n",
              "      <td>19.10</td>\n",
              "      <td>426.89</td>\n",
              "      <td>12.04</td>\n",
              "      <td>3088.96</td>\n",
              "      <td>3.09</td>\n",
              "      <td>8066043.31</td>\n",
              "      <td>141266.13</td>\n",
              "      <td>123934.72</td>\n",
              "      <td>94583.50</td>\n",
              "      <td>57093.07</td>\n",
              "      <td>25023.44</td>\n",
              "    </tr>\n",
              "  </tbody>\n",
              "</table>\n",
              "</div>"
            ],
            "text/plain": [
              "         Year  Median Temperature Anomaly °C  ...        D3        D4\n",
              "0  2030-01-01                           0.90  ...  65892.66  29407.83\n",
              "1  2029-01-01                           0.89  ...  63863.57  26635.40\n",
              "2  2028-01-01                           0.83  ...  60182.19  29920.46\n",
              "3  2027-01-01                           0.83  ...  58798.94  27580.51\n",
              "4  2026-01-01                           0.83  ...  57093.07  25023.44\n",
              "\n",
              "[5 rows x 13 columns]"
            ]
          },
          "metadata": {
            "tags": []
          },
          "execution_count": 311
        }
      ]
    },
    {
      "cell_type": "markdown",
      "metadata": {
        "id": "jbhb7YpFGGtV"
      },
      "source": [
        "### Exporting"
      ]
    },
    {
      "cell_type": "code",
      "metadata": {
        "id": "9XBb4iCeGInA"
      },
      "source": [
        "#California_total.to_csv(\"/content/drive/MyDrive/Ironhack/Final_Project/Cali_Total.csv\", index=False, encoding='utf-8-sig')"
      ],
      "execution_count": null,
      "outputs": []
    },
    {
      "cell_type": "code",
      "metadata": {
        "id": "O99GeMRgUtxW"
      },
      "source": [
        "compare_pred.reset_index(inplace=True)"
      ],
      "execution_count": null,
      "outputs": []
    },
    {
      "cell_type": "code",
      "metadata": {
        "id": "xbVNExIFR_cR"
      },
      "source": [
        "#compare_pred.to_csv(\"/content/drive/MyDrive/Ironhack/Final_Project/Almond_Predictions.csv\", index=False, encoding='utf-8-sig')"
      ],
      "execution_count": null,
      "outputs": []
    },
    {
      "cell_type": "code",
      "metadata": {
        "colab": {
          "base_uri": "https://localhost:8080/",
          "height": 296
        },
        "id": "K9I8LH60VlQJ",
        "outputId": "dab45741-a91b-454d-b392-5f13750e1d27"
      },
      "source": [
        "california_temp_annual_Prediction.plot()"
      ],
      "execution_count": null,
      "outputs": [
        {
          "output_type": "execute_result",
          "data": {
            "text/plain": [
              "<matplotlib.axes._subplots.AxesSubplot at 0x7f6af952ced0>"
            ]
          },
          "metadata": {
            "tags": []
          },
          "execution_count": 318
        },
        {
          "output_type": "display_data",
          "data": {
            "image/png": "[encoded data removed]",
            "text/plain": [
              "<Figure size 432x288 with 1 Axes>"
            ]
          },
          "metadata": {
            "tags": [],
            "needs_background": "light"
          }
        }
      ]
    },
    {
      "cell_type": "code",
      "metadata": {
        "id": "o7jzijixTCxD"
      },
      "source": [
        "california_temp_annual_Prediction.to_csv(\"/content/drive/MyDrive/Ironhack/Final_Project/california_Temp.csv\", index=False, encoding='utf-8-sig')"
      ],
      "execution_count": null,
      "outputs": []
    }
  ]
}